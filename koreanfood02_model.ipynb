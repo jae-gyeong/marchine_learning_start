{
  "nbformat": 4,
  "nbformat_minor": 0,
  "metadata": {
    "colab": {
      "name": "koreanfood02_model.ipynb",
      "provenance": [],
      "include_colab_link": true
    },
    "kernelspec": {
      "name": "python3",
      "display_name": "Python 3"
    }
  },
  "cells": [
    {
      "cell_type": "markdown",
      "metadata": {
        "id": "view-in-github",
        "colab_type": "text"
      },
      "source": [
        "<a href=\"https://colab.research.google.com/github/jae-gyeong/marchine_learning_start/blob/master/koreanfood02_model.ipynb\" target=\"_parent\"><img src=\"https://colab.research.google.com/assets/colab-badge.svg\" alt=\"Open In Colab\"/></a>"
      ]
    },
    {
      "cell_type": "code",
      "metadata": {
        "id": "qoTuA5n-wg6g",
        "colab_type": "code",
        "colab": {
          "base_uri": "https://localhost:8080/",
          "height": 35
        },
        "outputId": "7811a173-714e-4168-dba1-d1571fad1ba7"
      },
      "source": [
        "#-*- coding: utf-8 -*-\n",
        "\n",
        "## 사용할 모델 라이브러리 import\n",
        "#%%\n",
        "import sys, os\n",
        "from keras.models import Sequential\n",
        "from keras.layers import Convolution2D\n",
        "from keras.layers import MaxPooling2D\n",
        "from keras.layers import Activation\n",
        "from keras.layers import Dropout\n",
        "from keras.layers import Flatten\n",
        "from keras.layers import Dense\n",
        "from keras.utils import np_utils\n",
        "import numpy as np"
      ],
      "execution_count": 1,
      "outputs": [
        {
          "output_type": "stream",
          "text": [
            "Using TensorFlow backend.\n"
          ],
          "name": "stderr"
        }
      ]
    },
    {
      "cell_type": "code",
      "metadata": {
        "id": "BdWdJwEhwjNk",
        "colab_type": "code",
        "colab": {
          "base_uri": "https://localhost:8080/",
          "height": 35
        },
        "outputId": "e3c0efc5-d00d-4266-cb2a-060abca5b52e"
      },
      "source": [
        "print(np.__version__)"
      ],
      "execution_count": 2,
      "outputs": [
        {
          "output_type": "stream",
          "text": [
            "1.16.2\n"
          ],
          "name": "stdout"
        }
      ]
    },
    {
      "cell_type": "code",
      "metadata": {
        "id": "jsel3kxwwpMj",
        "colab_type": "code",
        "colab": {
          "base_uri": "https://localhost:8080/",
          "height": 254
        },
        "outputId": "59f56cab-6252-48c5-a81b-5dee038eff6c"
      },
      "source": [
        "#pip uninstall numpy\n",
        "!pip install numpy==1.16.2"
      ],
      "execution_count": 14,
      "outputs": [
        {
          "output_type": "stream",
          "text": [
            "Collecting numpy==1.16.2\n",
            "\u001b[?25l  Downloading https://files.pythonhosted.org/packages/35/d5/4f8410ac303e690144f0a0603c4b8fd3b986feb2749c435f7cdbb288f17e/numpy-1.16.2-cp36-cp36m-manylinux1_x86_64.whl (17.3MB)\n",
            "\u001b[K     |████████████████████████████████| 17.3MB 8.5MB/s \n",
            "\u001b[31mERROR: datascience 0.10.6 has requirement folium==0.2.1, but you'll have folium 0.8.3 which is incompatible.\u001b[0m\n",
            "\u001b[31mERROR: albumentations 0.1.12 has requirement imgaug<0.2.7,>=0.2.5, but you'll have imgaug 0.2.9 which is incompatible.\u001b[0m\n",
            "\u001b[?25hInstalling collected packages: numpy\n",
            "Successfully installed numpy-1.16.2\n"
          ],
          "name": "stdout"
        },
        {
          "output_type": "display_data",
          "data": {
            "application/vnd.colab-display-data+json": {
              "pip_warning": {
                "packages": [
                  "numpy"
                ]
              }
            }
          },
          "metadata": {
            "tags": []
          }
        }
      ]
    },
    {
      "cell_type": "code",
      "metadata": {
        "id": "PslgiaF5wsDa",
        "colab_type": "code",
        "colab": {}
      },
      "source": [
        "#%%\n",
        "## 초기 설정\n",
        "root_dir = \"./\"\n",
        "categories = [\"Chicken\", \"Dolsotbab\"]\n",
        "nb_classes = len(categories)\n",
        "image_size = 64"
      ],
      "execution_count": 0,
      "outputs": []
    },
    {
      "cell_type": "code",
      "metadata": {
        "id": "vdA-eK7zxtGW",
        "colab_type": "code",
        "colab": {}
      },
      "source": [
        "#%%\n",
        "# 데이터 로딩  (1)\n",
        "def load_dataset():\n",
        "    x_train, x_test, y_train, y_test = np.load(\"koreanfood02.npy\")\n",
        "    x_train = x_train.astype(\"float\") / 256\n",
        "    x_test = x_test.astype(\"float\") / 256\n",
        "    y_train = np_utils.to_categorical(y_train, nb_classes)\n",
        "    y_test = np_utils.to_categorical(y_test, nb_classes)\n",
        "    return  x_train, x_test, y_train, y_test"
      ],
      "execution_count": 0,
      "outputs": []
    },
    {
      "cell_type": "code",
      "metadata": {
        "id": "ny21ToLCxuda",
        "colab_type": "code",
        "colab": {}
      },
      "source": [
        "#%%\n",
        "# 모델 구성  (2)\n",
        "def build_model(in_shape):\n",
        "    model = Sequential()\n",
        "    model.add(Convolution2D(32, 3, 3, border_mode='Same', \n",
        "                input_shape=in_shape))\n",
        "    model.add(Activation('relu'))\n",
        "    model.add(MaxPooling2D(pool_size=(2,2)))\n",
        "    model.add(Dropout(0.25))\n",
        "    model.add(Convolution2D(64, 3, 3, border_mode='same'))\n",
        "    model.add(Activation('relu'))\n",
        "    model.add(Convolution2D(64, 3, 3))\n",
        "    model.add(MaxPooling2D(pool_size=(2,2)))\n",
        "    model.add(Dropout(0.25))\n",
        "    model.add(Flatten())\n",
        "    model.add(Dense(512))\n",
        "    model.add(Activation('relu'))\n",
        "    model.add(Dropout(0.5))\n",
        "    model.add(Dense(nb_classes))\n",
        "    model.add(Activation('softmax'))\n",
        "    model.compile(loss='binary_crossentropy', \n",
        "                    optimizer='rmsprop', \n",
        "                    metrics=['accuracy'])\n",
        "\n",
        "    return model"
      ],
      "execution_count": 0,
      "outputs": []
    },
    {
      "cell_type": "code",
      "metadata": {
        "id": "_HroGzCixvyy",
        "colab_type": "code",
        "colab": {}
      },
      "source": [
        "#%%\n",
        "# 모델 학습을 수행하고 저장된 모델을 파일로 저장  (3)\n",
        "def model_train(x, y):\n",
        "    model = build_model(x.shape[1:])\n",
        "    model.fit(x, y, batch_size=32, epochs=30)\n",
        "\n",
        "    return model"
      ],
      "execution_count": 0,
      "outputs": []
    },
    {
      "cell_type": "code",
      "metadata": {
        "id": "qyU3FD3ixxBz",
        "colab_type": "code",
        "colab": {}
      },
      "source": [
        "\n",
        "#%%\n",
        "# 모델 평가하기  (4)\n",
        "def model_eval(model, x, y):\n",
        "    score = model.evaluate(x, y)\n",
        "    print('loss=', score[0])\n",
        "    print('accuracy=', score[1])"
      ],
      "execution_count": 0,
      "outputs": []
    },
    {
      "cell_type": "code",
      "metadata": {
        "id": "_ZqZ1KrZxyN7",
        "colab_type": "code",
        "colab": {
          "base_uri": "https://localhost:8080/",
          "height": 1000
        },
        "outputId": "04d8396b-9452-411f-bfdf-219a8e133768"
      },
      "source": [
        "\n",
        "# 모델 학습 및 평가\n",
        "x_train, x_test, y_train, y_test = load_dataset()\n",
        "model = model_train(x_train, y_train)\n",
        "model_eval(model, x_test, y_test)"
      ],
      "execution_count": 14,
      "outputs": [
        {
          "output_type": "stream",
          "text": [
            "WARNING:tensorflow:From /usr/local/lib/python3.6/dist-packages/keras/backend/tensorflow_backend.py:66: The name tf.get_default_graph is deprecated. Please use tf.compat.v1.get_default_graph instead.\n",
            "\n",
            "WARNING:tensorflow:From /usr/local/lib/python3.6/dist-packages/keras/backend/tensorflow_backend.py:541: The name tf.placeholder is deprecated. Please use tf.compat.v1.placeholder instead.\n",
            "\n",
            "WARNING:tensorflow:From /usr/local/lib/python3.6/dist-packages/keras/backend/tensorflow_backend.py:4432: The name tf.random_uniform is deprecated. Please use tf.random.uniform instead.\n",
            "\n",
            "WARNING:tensorflow:From /usr/local/lib/python3.6/dist-packages/keras/backend/tensorflow_backend.py:4267: The name tf.nn.max_pool is deprecated. Please use tf.nn.max_pool2d instead.\n",
            "\n",
            "WARNING:tensorflow:From /usr/local/lib/python3.6/dist-packages/keras/backend/tensorflow_backend.py:148: The name tf.placeholder_with_default is deprecated. Please use tf.compat.v1.placeholder_with_default instead.\n",
            "\n",
            "WARNING:tensorflow:From /usr/local/lib/python3.6/dist-packages/keras/backend/tensorflow_backend.py:3733: calling dropout (from tensorflow.python.ops.nn_ops) with keep_prob is deprecated and will be removed in a future version.\n",
            "Instructions for updating:\n",
            "Please use `rate` instead of `keep_prob`. Rate should be set to `rate = 1 - keep_prob`.\n"
          ],
          "name": "stdout"
        },
        {
          "output_type": "stream",
          "text": [
            "/usr/local/lib/python3.6/dist-packages/ipykernel_launcher.py:4: UserWarning: Update your `Conv2D` call to the Keras 2 API: `Conv2D(32, (3, 3), input_shape=(64, 64, 3..., padding=\"Same\")`\n",
            "  after removing the cwd from sys.path.\n",
            "/usr/local/lib/python3.6/dist-packages/ipykernel_launcher.py:8: UserWarning: Update your `Conv2D` call to the Keras 2 API: `Conv2D(64, (3, 3), padding=\"same\")`\n",
            "  \n",
            "/usr/local/lib/python3.6/dist-packages/ipykernel_launcher.py:10: UserWarning: Update your `Conv2D` call to the Keras 2 API: `Conv2D(64, (3, 3))`\n",
            "  # Remove the CWD from sys.path while we load stuff.\n"
          ],
          "name": "stderr"
        },
        {
          "output_type": "stream",
          "text": [
            "WARNING:tensorflow:From /usr/local/lib/python3.6/dist-packages/keras/optimizers.py:793: The name tf.train.Optimizer is deprecated. Please use tf.compat.v1.train.Optimizer instead.\n",
            "\n",
            "WARNING:tensorflow:From /usr/local/lib/python3.6/dist-packages/keras/backend/tensorflow_backend.py:3657: The name tf.log is deprecated. Please use tf.math.log instead.\n",
            "\n",
            "WARNING:tensorflow:From /usr/local/lib/python3.6/dist-packages/tensorflow/python/ops/nn_impl.py:180: add_dispatch_support.<locals>.wrapper (from tensorflow.python.ops.array_ops) is deprecated and will be removed in a future version.\n",
            "Instructions for updating:\n",
            "Use tf.where in 2.0, which has the same broadcast rule as np.where\n",
            "Epoch 1/30\n",
            "45/45 [==============================] - 2s 42ms/step - loss: 0.7177 - acc: 0.6000\n",
            "Epoch 2/30\n",
            "45/45 [==============================] - 1s 16ms/step - loss: 8.1932 - acc: 0.4889\n",
            "Epoch 3/30\n",
            "45/45 [==============================] - 1s 17ms/step - loss: 8.1932 - acc: 0.4889\n",
            "Epoch 4/30\n",
            "45/45 [==============================] - 1s 15ms/step - loss: 8.1932 - acc: 0.4889\n",
            "Epoch 5/30\n",
            "45/45 [==============================] - 1s 14ms/step - loss: 8.1932 - acc: 0.4889\n",
            "Epoch 6/30\n",
            "45/45 [==============================] - 1s 15ms/step - loss: 8.1932 - acc: 0.4889\n",
            "Epoch 7/30\n",
            "45/45 [==============================] - 1s 15ms/step - loss: 8.1932 - acc: 0.4889\n",
            "Epoch 8/30\n",
            "45/45 [==============================] - 1s 15ms/step - loss: 6.3144 - acc: 0.4889\n",
            "Epoch 9/30\n",
            "45/45 [==============================] - 1s 15ms/step - loss: 7.8370 - acc: 0.5111\n",
            "Epoch 10/30\n",
            "45/45 [==============================] - 1s 15ms/step - loss: 7.8370 - acc: 0.5111\n",
            "Epoch 11/30\n",
            "45/45 [==============================] - 1s 15ms/step - loss: 7.8370 - acc: 0.5111\n",
            "Epoch 12/30\n",
            "45/45 [==============================] - 1s 15ms/step - loss: 7.8370 - acc: 0.5111\n",
            "Epoch 13/30\n",
            "45/45 [==============================] - 1s 15ms/step - loss: 7.8370 - acc: 0.5111\n",
            "Epoch 14/30\n",
            "45/45 [==============================] - 1s 15ms/step - loss: 7.8370 - acc: 0.5111\n",
            "Epoch 15/30\n",
            "45/45 [==============================] - 1s 15ms/step - loss: 7.8370 - acc: 0.5111\n",
            "Epoch 16/30\n",
            "45/45 [==============================] - 1s 15ms/step - loss: 7.8370 - acc: 0.5111\n",
            "Epoch 17/30\n",
            "45/45 [==============================] - 1s 16ms/step - loss: 7.8370 - acc: 0.5111\n",
            "Epoch 18/30\n",
            "45/45 [==============================] - 1s 17ms/step - loss: 7.8370 - acc: 0.5111\n",
            "Epoch 19/30\n",
            "45/45 [==============================] - 1s 18ms/step - loss: 7.8370 - acc: 0.5111\n",
            "Epoch 20/30\n",
            "45/45 [==============================] - 1s 15ms/step - loss: 7.8370 - acc: 0.5111\n",
            "Epoch 21/30\n",
            "45/45 [==============================] - 1s 15ms/step - loss: 7.8370 - acc: 0.5111\n",
            "Epoch 22/30\n",
            "45/45 [==============================] - 1s 15ms/step - loss: 7.8370 - acc: 0.5111\n",
            "Epoch 23/30\n",
            "45/45 [==============================] - 1s 15ms/step - loss: 7.8370 - acc: 0.5111\n",
            "Epoch 24/30\n",
            "45/45 [==============================] - 1s 15ms/step - loss: 7.8370 - acc: 0.5111\n",
            "Epoch 25/30\n",
            "45/45 [==============================] - 1s 15ms/step - loss: 7.8370 - acc: 0.5111\n",
            "Epoch 26/30\n",
            "45/45 [==============================] - 1s 17ms/step - loss: 7.8370 - acc: 0.5111\n",
            "Epoch 27/30\n",
            "45/45 [==============================] - 1s 17ms/step - loss: 7.8370 - acc: 0.5111\n",
            "Epoch 28/30\n",
            "45/45 [==============================] - 1s 16ms/step - loss: 7.8370 - acc: 0.5111\n",
            "Epoch 29/30\n",
            "45/45 [==============================] - 1s 15ms/step - loss: 7.8370 - acc: 0.5111\n",
            "Epoch 30/30\n",
            "45/45 [==============================] - 1s 14ms/step - loss: 7.8370 - acc: 0.5111\n",
            "15/15 [==============================] - 0s 6ms/step\n",
            "loss= 8.549460411071777\n",
            "accuracy= 0.46666666865348816\n"
          ],
          "name": "stdout"
        }
      ]
    },
    {
      "cell_type": "code",
      "metadata": {
        "id": "WT9V4IJqxzhq",
        "colab_type": "code",
        "colab": {}
      },
      "source": [
        "# 모델 저장\n",
        "model.save(root_dir + \"koreanfood02_model.h5\")"
      ],
      "execution_count": 0,
      "outputs": []
    },
    {
      "cell_type": "code",
      "metadata": {
        "id": "sghEPFwZ3HCh",
        "colab_type": "code",
        "colab": {}
      },
      "source": [
        ""
      ],
      "execution_count": 0,
      "outputs": []
    }
  ]
}