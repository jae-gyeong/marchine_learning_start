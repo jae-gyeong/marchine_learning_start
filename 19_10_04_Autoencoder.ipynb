{
  "nbformat": 4,
  "nbformat_minor": 0,
  "metadata": {
    "colab": {
      "name": "19-10-04_Autoencoder.ipynb",
      "provenance": [],
      "collapsed_sections": [],
      "include_colab_link": true
    },
    "kernelspec": {
      "name": "python3",
      "display_name": "Python 3"
    },
    "accelerator": "GPU"
  },
  "cells": [
    {
      "cell_type": "markdown",
      "metadata": {
        "id": "view-in-github",
        "colab_type": "text"
      },
      "source": [
        "<a href=\"https://colab.research.google.com/github/jae-gyeong/marchine_learning_start/blob/master/19_10_04_Autoencoder.ipynb\" target=\"_parent\"><img src=\"https://colab.research.google.com/assets/colab-badge.svg\" alt=\"Open In Colab\"/></a>"
      ]
    },
    {
      "cell_type": "markdown",
      "metadata": {
        "id": "623WO8YTcjzW",
        "colab_type": "text"
      },
      "source": [
        "# 01. Autoencoder란?\n",
        "## 대표적인 비지도학습으로 많이 쓰이는 신경망 오토인코더(Autoencoder)가 있\n",
        "다.\n",
        "### 오토 인코더는 입력값과 출력값을 같게 하는 신경망이다.\n",
        "- 훈련 데이터와 매우 비슷한 새로운 데이터를 생성한다.\n",
        "- 만약 얼굴 사진을 이용하여 오토 인코더를 훈련시키면 이 모델은 새로운 얼굴을 생성할 수 있다.\n",
        "- 출력층의 뉴런수와 입력수가 동일하다는 것을 제외하면 일반적으로 오토 인코더는 다층 퍼셉트론과 동일한\n",
        "구조를 갖는다.\n",
        "### 인코더와 디코더로 구성\n",
        "- 입력을 내부 표현을 변경하는 인코더(encoder)\n",
        "- 내부 표현을 출력으로 바꾸는 디코더(decoder)\n",
        "### 가운데 계층의 노드 수가 입력값보다 적은 것이 특징이다.\n",
        "### 결과적으로 입력 데이터를 압축하는 효과를 얻는다. 이 과정이 노이즈 제거에 많이 효과적이다.\n",
        "### 변이형 오토인코더(Variational Autoencoder), 잡음제거 오토 인코더(Denoising Autoencoder) 등의 방식이 존재"
      ]
    },
    {
      "cell_type": "code",
      "metadata": {
        "id": "Z5YJ7msQcdKL",
        "colab_type": "code",
        "colab": {}
      },
      "source": [
        "import tensorflow as tf\n",
        "import numpy as np\n",
        "import matplotlib.pyplot as plt"
      ],
      "execution_count": 0,
      "outputs": []
    },
    {
      "cell_type": "code",
      "metadata": {
        "id": "ygHIsVanc5rM",
        "colab_type": "code",
        "colab": {
          "base_uri": "https://localhost:8080/",
          "height": 559
        },
        "outputId": "3f9d12c2-a891-4436-d38e-fd9a81ceb6f7"
      },
      "source": [
        "from tensorflow.examples.tutorials.mnist import input_data\n",
        "mnist = input_data.read_data_sets(\"./mnist/data/\", one_hot=True)\n"
      ],
      "execution_count": 2,
      "outputs": [
        {
          "output_type": "stream",
          "text": [
            "WARNING:tensorflow:From <ipython-input-2-4dcbd946c02b>:2: read_data_sets (from tensorflow.contrib.learn.python.learn.datasets.mnist) is deprecated and will be removed in a future version.\n",
            "Instructions for updating:\n",
            "Please use alternatives such as official/mnist/dataset.py from tensorflow/models.\n",
            "WARNING:tensorflow:From /usr/local/lib/python3.6/dist-packages/tensorflow/contrib/learn/python/learn/datasets/mnist.py:260: maybe_download (from tensorflow.contrib.learn.python.learn.datasets.base) is deprecated and will be removed in a future version.\n",
            "Instructions for updating:\n",
            "Please write your own downloading logic.\n",
            "WARNING:tensorflow:From /usr/local/lib/python3.6/dist-packages/tensorflow/contrib/learn/python/learn/datasets/base.py:252: _internal_retry.<locals>.wrap.<locals>.wrapped_fn (from tensorflow.contrib.learn.python.learn.datasets.base) is deprecated and will be removed in a future version.\n",
            "Instructions for updating:\n",
            "Please use urllib or similar directly.\n",
            "Successfully downloaded train-images-idx3-ubyte.gz 9912422 bytes.\n",
            "WARNING:tensorflow:From /usr/local/lib/python3.6/dist-packages/tensorflow/contrib/learn/python/learn/datasets/mnist.py:262: extract_images (from tensorflow.contrib.learn.python.learn.datasets.mnist) is deprecated and will be removed in a future version.\n",
            "Instructions for updating:\n",
            "Please use tf.data to implement this functionality.\n",
            "Extracting ./mnist/data/train-images-idx3-ubyte.gz\n",
            "Successfully downloaded train-labels-idx1-ubyte.gz 28881 bytes.\n",
            "WARNING:tensorflow:From /usr/local/lib/python3.6/dist-packages/tensorflow/contrib/learn/python/learn/datasets/mnist.py:267: extract_labels (from tensorflow.contrib.learn.python.learn.datasets.mnist) is deprecated and will be removed in a future version.\n",
            "Instructions for updating:\n",
            "Please use tf.data to implement this functionality.\n",
            "Extracting ./mnist/data/train-labels-idx1-ubyte.gz\n",
            "WARNING:tensorflow:From /usr/local/lib/python3.6/dist-packages/tensorflow/contrib/learn/python/learn/datasets/mnist.py:110: dense_to_one_hot (from tensorflow.contrib.learn.python.learn.datasets.mnist) is deprecated and will be removed in a future version.\n",
            "Instructions for updating:\n",
            "Please use tf.one_hot on tensors.\n",
            "Successfully downloaded t10k-images-idx3-ubyte.gz 1648877 bytes.\n",
            "Extracting ./mnist/data/t10k-images-idx3-ubyte.gz\n",
            "Successfully downloaded t10k-labels-idx1-ubyte.gz 4542 bytes.\n",
            "Extracting ./mnist/data/t10k-labels-idx1-ubyte.gz\n",
            "WARNING:tensorflow:From /usr/local/lib/python3.6/dist-packages/tensorflow/contrib/learn/python/learn/datasets/mnist.py:290: DataSet.__init__ (from tensorflow.contrib.learn.python.learn.datasets.mnist) is deprecated and will be removed in a future version.\n",
            "Instructions for updating:\n",
            "Please use alternatives such as official/mnist/dataset.py from tensorflow/models.\n"
          ],
          "name": "stdout"
        }
      ]
    },
    {
      "cell_type": "code",
      "metadata": {
        "id": "v6ipJDbzc6_5",
        "colab_type": "code",
        "colab": {}
      },
      "source": [
        "learning_rate = 0.01 # 학습율 0.01\n",
        "training_epoch = 20 # 훈련 전체 데이터 사용 횟수 20회\n",
        "batch_size = 100 # 배치 사이즈 100\n",
        "n_hidden = 256 # 은닉층의 노드 개수 256\n",
        "n_input = 28 * 28 # 784개 (입력층) "
      ],
      "execution_count": 0,
      "outputs": []
    },
    {
      "cell_type": "markdown",
      "metadata": {
        "id": "Za7ctRA6jWlh",
        "colab_type": "text"
      },
      "source": [
        "## 인코더(encoder) 만들기\n",
        "- STEP 01. 맨처음은 n_hidden개의 뉴런을 가지는 은닉층을 만들기\n",
        "- STEP 02. 가중치(W)와 편향 변수(B)를 원하는 뉴런의 개수만큼 설정.\n",
        "- STEP 03. 활성화 함수 sigmoid 함수를 적용.\n",
        "- 기억해두기, n_input(입력층 노드) 값보다 n_hidden(은닉층 노드) 값이 더 작다.\n",
        "  - 항상 그런것이 아니라 은닉층이 더 큰 오토인코더 모델도 있음.\n"
      ]
    },
    {
      "cell_type": "code",
      "metadata": {
        "id": "czX3xG82jVBX",
        "colab_type": "code",
        "colab": {}
      },
      "source": [
        "X = tf.placeholder(tf.float32, [None, n_input])\n",
        "W_encode = tf.Variable(tf.random_normal([n_input, n_hidden])) # W의 지정\n",
        "b_encode = tf.Variable(tf.random_normal([n_hidden])) #\n",
        "encoder = tf.nn.sigmoid(tf.add(tf.matmul(X, W_encode), b_encode)) # "
      ],
      "execution_count": 0,
      "outputs": []
    },
    {
      "cell_type": "markdown",
      "metadata": {
        "id": "vF2zIoJAjkdR",
        "colab_type": "text"
      },
      "source": [
        "##디코더(decoder) 만들기\n",
        "- Tip01. 여기서 입력값은 은닉층의 노드수가 된다.\n",
        "- Tip02. 출력값을 입력층의 크기로 만듬.\n",
        "* 오토 인코더의 최종 목표 : 출력값과 입력값을 가장 비슷하게 만든다."
      ]
    },
    {
      "cell_type": "code",
      "metadata": {
        "id": "fUwO1brajmE6",
        "colab_type": "code",
        "colab": {}
      },
      "source": [
        "W_decode = tf.Variable(tf.random_normal([n_hidden, n_input]))\n",
        "b_decode = tf.Variable(tf.random_normal([n_input]))\n",
        "decoder = tf.nn.sigmoid(tf.add(tf.matmul(encoder, W_decode), b_decode))"
      ],
      "execution_count": 0,
      "outputs": []
    },
    {
      "cell_type": "markdown",
      "metadata": {
        "id": "SgC12mhBjnDK",
        "colab_type": "text"
      },
      "source": [
        "## 오토 인코더의 최종 목적은 출력값과 입력값을 가장 비슷하게 만드는 것\n",
        "- 이렇게 될 경우, 은닉층의 뉴런들을 통해 입력값의 특징을 알 수 있음.\n"
      ]
    },
    {
      "cell_type": "markdown",
      "metadata": {
        "id": "SWjO7lS-lroV",
        "colab_type": "text"
      },
      "source": [
        "## 손실함수(cost) 및 최적화(optimizer)함수\n",
        "- 입력값 X를 평가하기 위한 실측값 사용.\n",
        "- 디코더가 내보낸 결과값과의 차이(X-decoder)를 손실값으로 설정"
      ]
    },
    {
      "cell_type": "code",
      "metadata": {
        "id": "JSWzZt0EjpXq",
        "colab_type": "code",
        "colab": {}
      },
      "source": [
        "# 비용 함수\n",
        "cost = tf.reduce_mean(tf.pow(X- decoder, 2))"
      ],
      "execution_count": 0,
      "outputs": []
    },
    {
      "cell_type": "markdown",
      "metadata": {
        "id": "c9L5PaDml4AR",
        "colab_type": "text"
      },
      "source": [
        "## 최적함 함수 사용 : RMSPropOptimizer 함수"
      ]
    },
    {
      "cell_type": "code",
      "metadata": {
        "id": "ytVFKJEMl1Ls",
        "colab_type": "code",
        "colab": {}
      },
      "source": [
        "optimizer = tf.train.RMSPropOptimizer(learning_rate).minimize(cost)"
      ],
      "execution_count": 0,
      "outputs": []
    },
    {
      "cell_type": "markdown",
      "metadata": {
        "id": "mjI0LFOdmCOl",
        "colab_type": "text"
      },
      "source": [
        "##학습 진행\n",
        "- 세션 설정\n",
        "- 배치 사이즈 지정\n",
        "- 학습 수행\n"
      ]
    },
    {
      "cell_type": "code",
      "metadata": {
        "id": "SKk7X05Pl__7",
        "colab_type": "code",
        "colab": {
          "base_uri": "https://localhost:8080/",
          "height": 395
        },
        "outputId": "19f0164c-1c9e-4d49-b1da-b2f7b9625503"
      },
      "source": [
        "init = tf.global_variables_initializer()\n",
        "sess = tf.Session()\n",
        "sess.run(init)\n",
        "\n",
        "total_batch = int(mnist.train.num_examples/batch_size)\n",
        "\n",
        "for epoch in range(training_epoch):\n",
        "    total_cost = 0\n",
        "\n",
        "    for i in range(total_batch):\n",
        "        batch_xs, batch_ys = mnist.train.next_batch(batch_size)\n",
        "        _, cost_val = sess.run([optimizer, cost],feed_dict={X:batch_xs})\n",
        "\n",
        "        total_cost += cost_val\n",
        "    print('Epoch:', '%04d' % (epoch + 1), 'Avg. cost=', '{:.4f}'.format(total_cost / total_batch))\n",
        "print('최적화 완료')"
      ],
      "execution_count": 22,
      "outputs": [
        {
          "output_type": "stream",
          "text": [
            "Epoch: 0001 Avg. cost= 0.1988\n",
            "Epoch: 0002 Avg. cost= 0.0582\n",
            "Epoch: 0003 Avg. cost= 0.0469\n",
            "Epoch: 0004 Avg. cost= 0.0415\n",
            "Epoch: 0005 Avg. cost= 0.0391\n",
            "Epoch: 0006 Avg. cost= 0.0377\n",
            "Epoch: 0007 Avg. cost= 0.0355\n",
            "Epoch: 0008 Avg. cost= 0.0344\n",
            "Epoch: 0009 Avg. cost= 0.0324\n",
            "Epoch: 0010 Avg. cost= 0.0312\n",
            "Epoch: 0011 Avg. cost= 0.0296\n",
            "Epoch: 0012 Avg. cost= 0.0289\n",
            "Epoch: 0013 Avg. cost= 0.0286\n",
            "Epoch: 0014 Avg. cost= 0.0283\n",
            "Epoch: 0015 Avg. cost= 0.0281\n",
            "Epoch: 0016 Avg. cost= 0.0278\n",
            "Epoch: 0017 Avg. cost= 0.0274\n",
            "Epoch: 0018 Avg. cost= 0.0272\n",
            "Epoch: 0019 Avg. cost= 0.0269\n",
            "Epoch: 0020 Avg. cost= 0.0253\n",
            "최적화 완료\n"
          ],
          "name": "stdout"
        }
      ]
    },
    {
      "cell_type": "code",
      "metadata": {
        "id": "kshUyyJCnJlZ",
        "colab_type": "code",
        "colab": {
          "base_uri": "https://localhost:8080/",
          "height": 35
        },
        "outputId": "30d81e97-5280-4f29-b2bd-30521fa4d6e4"
      },
      "source": [
        "sample_size = 10\n",
        "samples = sess.run(decoder,  # 마지막 예측한 값 \n",
        "                    feed_dict = {X:mnist.test.images[:sample_size]})\n",
        "samples\n",
        "samples.shape"
      ],
      "execution_count": 26,
      "outputs": [
        {
          "output_type": "execute_result",
          "data": {
            "text/plain": [
              "(10, 784)"
            ]
          },
          "metadata": {
            "tags": []
          },
          "execution_count": 26
        }
      ]
    },
    {
      "cell_type": "code",
      "metadata": {
        "id": "ReJcWHyXo_at",
        "colab_type": "code",
        "colab": {
          "base_uri": "https://localhost:8080/",
          "height": 251
        },
        "outputId": "3dec8618-6acf-46fa-efa0-1a78b5c9875e"
      },
      "source": [
        "samples"
      ],
      "execution_count": 27,
      "outputs": [
        {
          "output_type": "execute_result",
          "data": {
            "text/plain": [
              "array([[0.0000000e+00, 0.0000000e+00, 8.9406967e-08, ..., 0.0000000e+00,\n",
              "        0.0000000e+00, 0.0000000e+00],\n",
              "       [0.0000000e+00, 0.0000000e+00, 0.0000000e+00, ..., 0.0000000e+00,\n",
              "        0.0000000e+00, 5.9604645e-08],\n",
              "       [0.0000000e+00, 3.5762787e-07, 0.0000000e+00, ..., 6.0617924e-05,\n",
              "        0.0000000e+00, 0.0000000e+00],\n",
              "       ...,\n",
              "       [0.0000000e+00, 0.0000000e+00, 0.0000000e+00, ..., 0.0000000e+00,\n",
              "        0.0000000e+00, 8.9406967e-08],\n",
              "       [5.0663948e-07, 0.0000000e+00, 0.0000000e+00, ..., 0.0000000e+00,\n",
              "        0.0000000e+00, 0.0000000e+00],\n",
              "       [0.0000000e+00, 0.0000000e+00, 0.0000000e+00, ..., 2.9802322e-08,\n",
              "        8.9406967e-08, 0.0000000e+00]], dtype=float32)"
            ]
          },
          "metadata": {
            "tags": []
          },
          "execution_count": 27
        }
      ]
    },
    {
      "cell_type": "markdown",
      "metadata": {
        "id": "UMGBUvp2ns0j",
        "colab_type": "text"
      },
      "source": [
        "## 위쪽 이미지가 원본, 아래쪽이 신경망(오토인코더)가 생성.\n"
      ]
    },
    {
      "cell_type": "code",
      "metadata": {
        "id": "nllSOE3nnrqO",
        "colab_type": "code",
        "colab": {
          "base_uri": "https://localhost:8080/",
          "height": 158
        },
        "outputId": "1f3ffcf6-b1ab-4592-a529-65afe70712e3"
      },
      "source": [
        "fig, ax = plt.subplots(2, sample_size, figsize=(sample_size, 2))\n",
        "for i in range(sample_size):\n",
        " ax[0][i].set_axis_off()\n",
        " ax[1][i].set_axis_off()\n",
        " ax[0][i].imshow(np.reshape(mnist.test.images[i], (28,28))) #imshow - 2차원으로 나워서 보여줘야함\n",
        " ax[1][i].imshow(np.reshape(samples[i], (28,28)))   #samples[i] - 예측 데이터\n",
        "\n",
        "plt.show()"
      ],
      "execution_count": 24,
      "outputs": [
        {
          "output_type": "display_data",
          "data": {
            "image/png": "[encoded data removed]",
            "text/plain": [
              "<Figure size 720x144 with 20 Axes>"
            ]
          },
          "metadata": {
            "tags": []
          }
        }
      ]
    },
    {
      "cell_type": "markdown",
      "metadata": {
        "id": "hFDr1ZS8nxcS",
        "colab_type": "text"
      },
      "source": [
        "### 암호화, 비정상 거래 검출 등 - 에 사용됨"
      ]
    }
  ]
}