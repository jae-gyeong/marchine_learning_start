{
  "nbformat": 4,
  "nbformat_minor": 0,
  "metadata": {
    "colab": {
      "name": "19-10-08GAN.ipynb",
      "provenance": [],
      "toc_visible": true,
      "include_colab_link": true
    },
    "kernelspec": {
      "name": "python3",
      "display_name": "Python 3"
    },
    "accelerator": "GPU"
  },
  "cells": [
    {
      "cell_type": "markdown",
      "metadata": {
        "id": "view-in-github",
        "colab_type": "text"
      },
      "source": [
        "<a href=\"https://colab.research.google.com/github/jae-gyeong/marchine_learning_start/blob/master/19_10_08GAN.ipynb\" target=\"_parent\"><img src=\"https://colab.research.google.com/assets/colab-badge.svg\" alt=\"Open In Colab\"/></a>"
      ]
    },
    {
      "cell_type": "markdown",
      "metadata": {
        "id": "vSK95pV39zg4",
        "colab_type": "text"
      },
      "source": [
        "## 01 데이터 가져오기"
      ]
    },
    {
      "cell_type": "code",
      "metadata": {
        "id": "6uuXlY596igl",
        "colab_type": "code",
        "colab": {
          "base_uri": "https://localhost:8080/",
          "height": 89
        },
        "outputId": "0f9b7559-f8d9-4de3-f546-0f0007c30598"
      },
      "source": [
        "import tensorflow as tf\n",
        "import matplotlib.pyplot as plt\n",
        "import numpy as np\n",
        "\n",
        "from tensorflow.examples.tutorials.mnist import input_data\n",
        "mnist = input_data.read_data_sets(\"./mnist/data/\", one_hot=True)"
      ],
      "execution_count": 2,
      "outputs": [
        {
          "output_type": "stream",
          "text": [
            "Extracting ./mnist/data/train-images-idx3-ubyte.gz\n",
            "Extracting ./mnist/data/train-labels-idx1-ubyte.gz\n",
            "Extracting ./mnist/data/t10k-images-idx3-ubyte.gz\n",
            "Extracting ./mnist/data/t10k-labels-idx1-ubyte.gz\n"
          ],
          "name": "stdout"
        }
      ]
    },
    {
      "cell_type": "markdown",
      "metadata": {
        "id": "WWujz8If94X6",
        "colab_type": "text"
      },
      "source": [
        "## 02 기본 옵션 설정"
      ]
    },
    {
      "cell_type": "code",
      "metadata": {
        "id": "R9N91BTg9mKa",
        "colab_type": "code",
        "colab": {}
      },
      "source": [
        "total_epoch = 100 # epoch 수 설정\n",
        "batch_size = 100 # 배치 사이즈\n",
        "learning_rate = 0.0002 # 학습률\n",
        "# 신경망 레이어 구성 옵션\n",
        "n_hidden = 256 # 은닉층 노드\n",
        "n_input = 28 * 28 # 입력\n",
        "n_noise = 128 # 생성기의 입력값으로 사용할 노이즈의 크기"
      ],
      "execution_count": 0,
      "outputs": []
    },
    {
      "cell_type": "markdown",
      "metadata": {
        "id": "OZ4GxWDc97x4",
        "colab_type": "text"
      },
      "source": [
        "##02 신경망 모델 구성\n",
        "- 노이즈를 이용하여 데이터 생성\n",
        "- 비지도학습이므로 Y가 없음"
      ]
    },
    {
      "cell_type": "code",
      "metadata": {
        "id": "hiya4oCq-BYx",
        "colab_type": "code",
        "colab": {}
      },
      "source": [
        "# GAN 도 Unsupervised 학습이므로 Autoencoder 처럼 Y 를 사용하지 않습니다.\n",
        "X = tf.placeholder(tf.float32, [None, n_input])\n",
        "\n",
        "# 생성망에 들어갈 입력 데이터 (정규분포를 따르는 128개의 숫자 데이터), 입력값\n",
        "Z = tf.placeholder(tf.float32, [None, n_noise])"
      ],
      "execution_count": 0,
      "outputs": []
    },
    {
      "cell_type": "markdown",
      "metadata": {
        "id": "WS3PUYL9-x74",
        "colab_type": "text"
      },
      "source": [
        "## 생성자 신경망 변수 선언\n",
        "-n_noise : 128, n_hidden : 256\n",
        "- 첫번째 가중치와 편향은 은닉층으로 출력하기 위한 변수\n",
        "- 두 번째 가중치와 편향은 출력층에서 사용할 변수\n",
        "- 두 번째 가중치의 변수 크기는 실제 이미지의 크기와 같아야 함."
      ]
    },
    {
      "cell_type": "code",
      "metadata": {
        "id": "RS61teP6-u-I",
        "colab_type": "code",
        "colab": {}
      },
      "source": [
        "G_W1 = tf.Variable(tf.random_normal([n_noise, n_hidden], stddev=0.01))\n",
        "G_b1 = tf.Variable(tf.zeros([n_hidden]))\n",
        "G_W2 = tf.Variable(tf.random_normal([n_hidden, n_input], stddev=0.01))\n",
        "G_b2 = tf.Variable(tf.zeros([n_input]))\n"
      ],
      "execution_count": 0,
      "outputs": []
    },
    {
      "cell_type": "markdown",
      "metadata": {
        "id": "p5izb5a7A1QC",
        "colab_type": "text"
      },
      "source": [
        "## 2-1 생성자(G) 신경망 구성\n",
        "- 무작위 생성한 노이즈를 받아, 가중치와 편향을 반영하여 은닉층 구성.\n",
        "- sigmoid 함수를 이용하여 최종 결과값 0~1 사이의 값 반환"
      ]
    },
    {
      "cell_type": "code",
      "metadata": {
        "id": "JtnEiTA-AsFq",
        "colab_type": "code",
        "colab": {}
      },
      "source": [
        "# (판별망) 입력층 -> 은닉층으로( 판별기가 신경망에 사용하는 변수들입니다.)\n",
        "D_W1 = tf.Variable(tf.random_normal([n_input, n_hidden], stddev=0.01))\n",
        "D_b1 = tf.Variable(tf.zeros([n_hidden]))\n",
        "\n",
        "\n",
        "# 은닉층 -> 출력층( 판별기의 최종 겨로가값은 얼마나 진짜와 가깝냐를 판단하는 한개의 스칼라값입니다.)\n",
        "D_W2 = tf.Variable(tf.random_normal([n_hidden, 1], stddev=0.01))\n",
        "D_b2 = tf.Variable(tf.zeros([1]))\n"
      ],
      "execution_count": 0,
      "outputs": []
    },
    {
      "cell_type": "markdown",
      "metadata": {
        "id": "L1WGdLM-B2XD",
        "colab_type": "text"
      },
      "source": [
        "## 2-1 생성자(G) 신경망 구성\n",
        "##  노이즈 데이터 발생을 위한 노이즈 생성함수\n",
        "- deg get_noise(데이터 개수, 노이즈 개수)\n",
        "\n",
        "\n",
        "- 무작위 생성한 노이즈를 받아, 가중치와 편향을 반영하여 은닉층 구성.\n",
        "- sigmoid 함수를 이용하여 최종 결과값 0~1 사이의 값 반환"
      ]
    },
    {
      "cell_type": "code",
      "metadata": {
        "id": "4w_E4RuxBuSi",
        "colab_type": "code",
        "colab": {}
      },
      "source": [
        "def get_noise(batch_size, n_noise):\n",
        "  return np.random_normal(size=(batch_size, n_noise))"
      ],
      "execution_count": 0,
      "outputs": []
    },
    {
      "cell_type": "code",
      "metadata": {
        "id": "etay2DZPCfX3",
        "colab_type": "code",
        "colab": {}
      },
      "source": [
        "def generator(noise_z):\n",
        " hidden = tf.nn.relu( tf.matmul(noise_z, G_W1) + G_b1)\n",
        " output = tf.nn.sigmoid( tf.matmul(hidden, G_W2) + G_b2)\n",
        " return output"
      ],
      "execution_count": 0,
      "outputs": []
    },
    {
      "cell_type": "markdown",
      "metadata": {
        "id": "pNrxOQhBDi7v",
        "colab_type": "text"
      },
      "source": [
        "## 2-2 구분자(D) 신경망 구성\n",
        "- 구분자 신경망 구성, 가중치와 편향을 반영한 데이터 출력\n",
        "- sigmoid 함수를 이용하여 최종 결과값 0~1 사이의 값 반환"
      ]
    },
    {
      "cell_type": "code",
      "metadata": {
        "id": "MmqqR-FbCtO0",
        "colab_type": "code",
        "colab": {}
      },
      "source": [
        "def discriminator(inputs):\n",
        " hidden = tf.nn.relu( tf.matmul(inputs, D_W1) + D_b1)\n",
        " output = tf.nn.sigmoid( tf.matmul(hidden, D_W2) + D_b2)\n",
        " return output\n"
      ],
      "execution_count": 0,
      "outputs": []
    },
    {
      "cell_type": "code",
      "metadata": {
        "id": "LqUz_QnCDikf",
        "colab_type": "code",
        "colab": {}
      },
      "source": [
        "# 노이즈를 이용해 랜덤한 이미지를 생성합니다.\n",
        "# Z에는 실행 시, noise가 입력됨.\n",
        "G = generator(Z)\n",
        "# 노이즈를 이용해 생성한 이미지가 진짜 이미지인지 판별한 값을 구합니다.\n",
        "D_fake = discriminator(G)\n",
        "# 진짜 이미지를 이용해 판별한 값을 구합니다.\n",
        "D_real = discriminator(X)"
      ],
      "execution_count": 0,
      "outputs": []
    },
    {
      "cell_type": "markdown",
      "metadata": {
        "id": "cuSp1VdnLlfE",
        "colab_type": "text"
      },
      "source": [
        "- 경찰을 학습(구분자가 가짜라고 판단하도록 하는 손실값)시킬 때,\n",
        "  - D_real은 1에 가까워야 함.\n",
        "  - 가짜 이미지 판별값(D_fake)은 0에 가까워야 함.\n"
      ]
    },
    {
      "cell_type": "markdown",
      "metadata": {
        "id": "5DLv94jcMi_U",
        "colab_type": "text"
      },
      "source": [
        "## GAN의 모델의 최적화\n",
        "- loss_G(생성자)와 loss_D(구분자)를 최대화 하는 것.\n",
        "  - 단, 서로의 손실이 연관되어 있어, 두 손실값이 같이 증가가 어려움.\n",
        "- loss_D를 최대화하기 위해서는 D_fake값을 최소화시킴.\n",
        "- 판별기에 진짜 이미지를 넣었을 때에도 최대값을 : tf.log(D_real)\n",
        "- 가짜 이미지를 넣었을 때에도 최대값을 : tf.log(1 - D_fake)"
      ]
    },
    {
      "cell_type": "code",
      "metadata": {
        "id": "eUE431rlLgAh",
        "colab_type": "code",
        "colab": {}
      },
      "source": [
        "# 경찰관의 성능 -> 가능한 높은 값\n",
        "loss_D = tf.reduce_mean(tf.log(D_real) + tf.log(1 - D_fake))\n"
      ],
      "execution_count": 0,
      "outputs": []
    },
    {
      "cell_type": "markdown",
      "metadata": {
        "id": "9wxA6QJkM-9b",
        "colab_type": "text"
      },
      "source": [
        "- D_fake(가짜 이미지 판별값)은 1에 가깝게 만들면 된다.(위조 지폐범의 학습)\n",
        "- 위조 지폐범의 학습은 D_fake(가짜)값을 최대화 한다.\n",
        "- 가짜 이미지를 넣었을 때, 판별기가 최대한 실제 이미지라고 판단하도록 생성기 신경망을 학습"
      ]
    },
    {
      "cell_type": "code",
      "metadata": {
        "id": "cze53LscMzz2",
        "colab_type": "code",
        "colab": {}
      },
      "source": [
        "# 위조지폐범의 성능 -> 가능한 높은 값\n",
        "# 결국 D_fake 값을 최대화하는 것이므로 다음과 같이 사용할 수 있습니다.)\n",
        "loss_G = tf.reduce_mean(tf.log(D_fake))"
      ],
      "execution_count": 0,
      "outputs": []
    },
    {
      "cell_type": "code",
      "metadata": {
        "id": "wFUKhtc-M5wd",
        "colab_type": "code",
        "colab": {}
      },
      "source": [
        "# loss_D 를 구할 때는 판별기 신경망에 사용되는 변수만 사용하고,\n",
        "# loss_G 를 구할 때는 생성기 신경망에 사용되는 변수만 사용하여 최적화를 합니다.\n",
        "D_var_list = [D_W1, D_b1, D_W2, D_b2]\n",
        "G_var_list = [G_W1, G_b1, G_W2, G_b2]\n"
      ],
      "execution_count": 0,
      "outputs": []
    },
    {
      "cell_type": "markdown",
      "metadata": {
        "id": "cJm24_p9NG_y",
        "colab_type": "text"
      },
      "source": [
        "**즉 GAN의 학습은 loss_D와 loss_G 를 최대화 하는것.**"
      ]
    },
    {
      "cell_type": "code",
      "metadata": {
        "id": "c8CTZWZINE3N",
        "colab_type": "code",
        "colab": {}
      },
      "source": [
        "# GAN 논문의 수식에 따르면 loss 를 극대화 해야하지만,\n",
        "# minimize 하는 최적화 함수를 사용하기 때문에\n",
        "# 최적화 하려는 loss_D 와 loss_G 에 음수 부호를 붙여줍니다.\n",
        "train_D = tf.train.AdamOptimizer(learning_rate).minimize(-loss_D, var_list=D_var_list)\n",
        "train_G = tf.train.AdamOptimizer(learning_rate).minimize(-loss_G, var_list=G_var_list)"
      ],
      "execution_count": 0,
      "outputs": []
    },
    {
      "cell_type": "markdown",
      "metadata": {
        "id": "PoC0mclYNMhK",
        "colab_type": "text"
      },
      "source": [
        "## 2-3 생성자의 입력인 노이즈 발생을 위한 노이즈 생성 함수"
      ]
    },
    {
      "cell_type": "code",
      "metadata": {
        "id": "omypqlZuNKA5",
        "colab_type": "code",
        "colab": {}
      },
      "source": [
        "# 랜덤한 노이즈(Z)를 만듭니다.\n",
        "def get_noise(batch_size, n_noise):\n",
        " return np.random.normal(size=(batch_size, n_noise))"
      ],
      "execution_count": 0,
      "outputs": []
    },
    {
      "cell_type": "code",
      "metadata": {
        "id": "FECbV58uNedN",
        "colab_type": "code",
        "colab": {}
      },
      "source": [
        "sess = tf.Session()\n",
        "sess.run(tf.global_variables_initializer())\n",
        "total_batch = int(mnist.train.num_examples/batch_size)\n",
        "loss_val_D, loss_val_G = 0, 0"
      ],
      "execution_count": 0,
      "outputs": []
    },
    {
      "cell_type": "code",
      "metadata": {
        "id": "rGNz2TVuNhfg",
        "colab_type": "code",
        "colab": {
          "base_uri": "https://localhost:8080/",
          "height": 395
        },
        "outputId": "222630e5-7e77-439c-ff66-2c53f088d54a"
      },
      "source": [
        "for epoch in range(20):\n",
        "  for i in range(total_batch):\n",
        "    batch_xs, batch_ys = mnist.train.next_batch(batch_size) # 판별망의 데이터 \n",
        "    noise = get_noise(batch_size, n_noise) # 생성망에 들어가는 입력\n",
        "    \n",
        "    _, loss_val_D = sess.run([train_D, loss_D], \n",
        "                             feed_dict={X:batch_xs, Z:noise})\n",
        "    _, loss_val_G = sess.run([train_G, loss_G],\n",
        "                             feed_dict={Z:noise})\n",
        "    \n",
        "\n",
        "  if epoch == 0 or (epoch + 1) % 10 == 0:\n",
        "    sample_size = 10\n",
        "    noise = get_noise(sample_size, n_noise) # 노이즈 생성.\n",
        "    samples = sess.run(G, feed_dict={Z: noise})\n",
        "    fig, ax = plt.subplots(1, sample_size, figsize=(sample_size, 1))\n",
        "    \n",
        "    for i in range(sample_size):\n",
        "      ax[i].set_axis_off()\n",
        "      ax[i].imshow(np.reshape(samples[i], (28, 28)))\n",
        "      \n",
        "    plt.savefig('samples/{}.png'.format(str(epoch).zfill(3)), bbox_inches='tight')\n",
        "    plt.close(fig)\n",
        "\n",
        "  print(\"Epoch : {}, 판별망의 성능 : {:.4f}, 생성망의 성능 : {:.4f}\".format(epoch, \n",
        "                                                           loss_val_D,\n",
        "                                                           loss_val_G))\n",
        "    \n",
        "print(\"최적화 완료!\")"
      ],
      "execution_count": 68,
      "outputs": [
        {
          "output_type": "stream",
          "text": [
            "Epoch : 0, 판별망의 성능 : -0.1946, 생성망의 성능 : -2.9764\n",
            "Epoch : 1, 판별망의 성능 : -0.2604, 생성망의 성능 : -2.9937\n",
            "Epoch : 2, 판별망의 성능 : -0.2559, 생성망의 성능 : -2.9332\n",
            "Epoch : 3, 판별망의 성능 : -0.2861, 생성망의 성능 : -3.3403\n",
            "Epoch : 4, 판별망의 성능 : -0.1715, 생성망의 성능 : -3.0916\n",
            "Epoch : 5, 판별망의 성능 : -0.2621, 생성망의 성능 : -2.7731\n",
            "Epoch : 6, 판별망의 성능 : -0.2703, 생성망의 성능 : -2.9081\n",
            "Epoch : 7, 판별망의 성능 : -0.3335, 생성망의 성능 : -2.8540\n",
            "Epoch : 8, 판별망의 성능 : -0.3475, 생성망의 성능 : -2.8796\n",
            "Epoch : 9, 판별망의 성능 : -0.4739, 생성망의 성능 : -2.7442\n",
            "Epoch : 10, 판별망의 성능 : -0.5065, 생성망의 성능 : -2.1829\n",
            "Epoch : 11, 판별망의 성능 : -0.4016, 생성망의 성능 : -2.5612\n",
            "Epoch : 12, 판별망의 성능 : -0.3536, 생성망의 성능 : -2.5251\n",
            "Epoch : 13, 판별망의 성능 : -0.3894, 생성망의 성능 : -2.5349\n",
            "Epoch : 14, 판별망의 성능 : -0.3572, 생성망의 성능 : -2.7632\n",
            "Epoch : 15, 판별망의 성능 : -0.3027, 생성망의 성능 : -2.6875\n",
            "Epoch : 16, 판별망의 성능 : -0.5081, 생성망의 성능 : -2.7252\n",
            "Epoch : 17, 판별망의 성능 : -0.6226, 생성망의 성능 : -2.6360\n",
            "Epoch : 18, 판별망의 성능 : -0.5073, 생성망의 성능 : -2.2959\n",
            "Epoch : 19, 판별망의 성능 : -0.4687, 생성망의 성능 : -2.5997\n",
            "최적화 완료!\n"
          ],
          "name": "stdout"
        }
      ]
    },
    {
      "cell_type": "code",
      "metadata": {
        "id": "Cq8DIFzCNhdn",
        "colab_type": "code",
        "colab": {}
      },
      "source": [
        ""
      ],
      "execution_count": 0,
      "outputs": []
    },
    {
      "cell_type": "code",
      "metadata": {
        "id": "07bFvHWbNhaN",
        "colab_type": "code",
        "colab": {}
      },
      "source": [
        ""
      ],
      "execution_count": 0,
      "outputs": []
    },
    {
      "cell_type": "code",
      "metadata": {
        "id": "yr9yoRX6NhXi",
        "colab_type": "code",
        "colab": {}
      },
      "source": [
        ""
      ],
      "execution_count": 0,
      "outputs": []
    }
  ]
}