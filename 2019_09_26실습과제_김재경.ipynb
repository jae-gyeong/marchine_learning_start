{
  "nbformat": 4,
  "nbformat_minor": 0,
  "metadata": {
    "colab": {
      "name": "2019-09-26실습과제_김재경.ipynb",
      "provenance": [],
      "collapsed_sections": [],
      "include_colab_link": true
    },
    "kernelspec": {
      "name": "python3",
      "display_name": "Python 3"
    }
  },
  "cells": [
    {
      "cell_type": "markdown",
      "metadata": {
        "id": "view-in-github",
        "colab_type": "text"
      },
      "source": [
        "<a href=\"https://colab.research.google.com/github/jae-gyeong/marchine_learning_start/blob/master/2019_09_26%EC%8B%A4%EC%8A%B5%EA%B3%BC%EC%A0%9C_%EA%B9%80%EC%9E%AC%EA%B2%BD.ipynb\" target=\"_parent\"><img src=\"https://colab.research.google.com/assets/colab-badge.svg\" alt=\"Open In Colab\"/></a>"
      ]
    },
    {
      "cell_type": "code",
      "metadata": {
        "id": "M25SPpYgeVrk",
        "colab_type": "code",
        "colab": {}
      },
      "source": [
        "# https://www.kaggle.com/uciml/pima-indians-diabetes-database\n",
        "# 임신 유무, 피부 두께, 혈압 등의 값과 당뇨병 유/무 가 입력되어 있다.\n",
        "# decision tree 모델을 만들어서 test 데이터의 당뇨병을 얼마나 잘 분류하는지 알아보자."
      ],
      "execution_count": 0,
      "outputs": []
    },
    {
      "cell_type": "code",
      "metadata": {
        "id": "Rvfu12pOeXjY",
        "colab_type": "code",
        "colab": {}
      },
      "source": [
        "# pandas 라이브러리 import\n",
        "import pandas as pd"
      ],
      "execution_count": 0,
      "outputs": []
    },
    {
      "cell_type": "code",
      "metadata": {
        "id": "p0FdDs79eaNf",
        "colab_type": "code",
        "colab": {}
      },
      "source": [
        "# 피마 인디언 당뇨병 데이터 다운로드 후 불러오기\n",
        "diabetes = pd.read_csv('diabetes.csv')"
      ],
      "execution_count": 0,
      "outputs": []
    },
    {
      "cell_type": "code",
      "metadata": {
        "id": "TKcaDVsZfFxn",
        "colab_type": "code",
        "outputId": "c32971d5-c1d4-4e50-e39d-a80eafdec5de",
        "colab": {
          "base_uri": "https://localhost:8080/",
          "height": 193
        }
      },
      "source": [
        "diabetes.head(4)"
      ],
      "execution_count": 0,
      "outputs": [
        {
          "output_type": "execute_result",
          "data": {
            "text/html": [
              "<div>\n",
              "<style scoped>\n",
              "    .dataframe tbody tr th:only-of-type {\n",
              "        vertical-align: middle;\n",
              "    }\n",
              "\n",
              "    .dataframe tbody tr th {\n",
              "        vertical-align: top;\n",
              "    }\n",
              "\n",
              "    .dataframe thead th {\n",
              "        text-align: right;\n",
              "    }\n",
              "</style>\n",
              "<table border=\"1\" class=\"dataframe\">\n",
              "  <thead>\n",
              "    <tr style=\"text-align: right;\">\n",
              "      <th></th>\n",
              "      <th>Pregnancies</th>\n",
              "      <th>Glucose</th>\n",
              "      <th>BloodPressure</th>\n",
              "      <th>SkinThickness</th>\n",
              "      <th>Insulin</th>\n",
              "      <th>BMI</th>\n",
              "      <th>DiabetesPedigreeFunction</th>\n",
              "      <th>Age</th>\n",
              "      <th>Outcome</th>\n",
              "    </tr>\n",
              "  </thead>\n",
              "  <tbody>\n",
              "    <tr>\n",
              "      <th>0</th>\n",
              "      <td>6</td>\n",
              "      <td>148</td>\n",
              "      <td>72</td>\n",
              "      <td>35</td>\n",
              "      <td>0</td>\n",
              "      <td>33.6</td>\n",
              "      <td>0.627</td>\n",
              "      <td>50</td>\n",
              "      <td>1</td>\n",
              "    </tr>\n",
              "    <tr>\n",
              "      <th>1</th>\n",
              "      <td>1</td>\n",
              "      <td>85</td>\n",
              "      <td>66</td>\n",
              "      <td>29</td>\n",
              "      <td>0</td>\n",
              "      <td>26.6</td>\n",
              "      <td>0.351</td>\n",
              "      <td>31</td>\n",
              "      <td>0</td>\n",
              "    </tr>\n",
              "    <tr>\n",
              "      <th>2</th>\n",
              "      <td>8</td>\n",
              "      <td>183</td>\n",
              "      <td>64</td>\n",
              "      <td>0</td>\n",
              "      <td>0</td>\n",
              "      <td>23.3</td>\n",
              "      <td>0.672</td>\n",
              "      <td>32</td>\n",
              "      <td>1</td>\n",
              "    </tr>\n",
              "    <tr>\n",
              "      <th>3</th>\n",
              "      <td>1</td>\n",
              "      <td>89</td>\n",
              "      <td>66</td>\n",
              "      <td>23</td>\n",
              "      <td>94</td>\n",
              "      <td>28.1</td>\n",
              "      <td>0.167</td>\n",
              "      <td>21</td>\n",
              "      <td>0</td>\n",
              "    </tr>\n",
              "  </tbody>\n",
              "</table>\n",
              "</div>"
            ],
            "text/plain": [
              "   Pregnancies  Glucose  BloodPressure  ...  DiabetesPedigreeFunction  Age  Outcome\n",
              "0            6      148             72  ...                     0.627   50        1\n",
              "1            1       85             66  ...                     0.351   31        0\n",
              "2            8      183             64  ...                     0.672   32        1\n",
              "3            1       89             66  ...                     0.167   21        0\n",
              "\n",
              "[4 rows x 9 columns]"
            ]
          },
          "metadata": {
            "tags": []
          },
          "execution_count": 9
        }
      ]
    },
    {
      "cell_type": "code",
      "metadata": {
        "id": "O8V4MxF5fITf",
        "colab_type": "code",
        "outputId": "2aa67df2-e49d-42b5-eeae-23fd095a01b6",
        "colab": {
          "base_uri": "https://localhost:8080/",
          "height": 71
        }
      },
      "source": [
        "diabetes.columns"
      ],
      "execution_count": 0,
      "outputs": [
        {
          "output_type": "execute_result",
          "data": {
            "text/plain": [
              "Index(['Pregnancies', 'Glucose', 'BloodPressure', 'SkinThickness', 'Insulin',\n",
              "       'BMI', 'DiabetesPedigreeFunction', 'Age', 'Outcome'],\n",
              "      dtype='object')"
            ]
          },
          "metadata": {
            "tags": []
          },
          "execution_count": 10
        }
      ]
    },
    {
      "cell_type": "code",
      "metadata": {
        "id": "vGq3WjO_fPQR",
        "colab_type": "code",
        "colab": {}
      },
      "source": [
        "# 데이터를 특징 부분과 타겟 부분으로 나누기\n",
        "feature_cols = ['Pregnancies', 'Insulin', 'BMI', 'Age', 'Glucose',\n",
        "'BloodPressure', 'DiabetesPedigreeFunction']\n",
        "# 특징 부분\n",
        "data = diabetes[feature_cols]\n",
        "# 타겟 부분\n",
        "target = diabetes.Outcome"
      ],
      "execution_count": 0,
      "outputs": []
    },
    {
      "cell_type": "code",
      "metadata": {
        "id": "pcBNmLMvfZQP",
        "colab_type": "code",
        "colab": {}
      },
      "source": [
        "# sklearn라이브러리의 model_selection에서 train_test_split 불러오기\n",
        "from sklearn.model_selection import train_test_split\n",
        "\n",
        "# train_test_split으로 train 데이터와 test 데이터 7:3으로 나누기 나누기\n",
        "# 재현성을 위한 random_state는 1로 주기로 하자.\n",
        "X_train, X_test, y_train, y_test = train_test_split(data,target,test_size=0.3, random_state=1)"
      ],
      "execution_count": 0,
      "outputs": []
    },
    {
      "cell_type": "code",
      "metadata": {
        "id": "4wIWylchftKP",
        "colab_type": "code",
        "outputId": "2a00194c-b340-4f06-faf2-a009a9ca6e06",
        "colab": {
          "base_uri": "https://localhost:8080/",
          "height": 89
        }
      },
      "source": [
        "# 나눈 결과의 컬럼과 shape 확인해 보기\n",
        "print(X_train.columns)\n",
        "print(X_train.shape)"
      ],
      "execution_count": 0,
      "outputs": [
        {
          "output_type": "stream",
          "text": [
            "Index(['Pregnancies', 'Insulin', 'BMI', 'Age', 'Glucose', 'BloodPressure',\n",
            "       'DiabetesPedigreeFunction'],\n",
            "      dtype='object')\n",
            "(537, 7)\n"
          ],
          "name": "stdout"
        }
      ]
    },
    {
      "cell_type": "code",
      "metadata": {
        "id": "pHXS-bitgAoX",
        "colab_type": "code",
        "outputId": "d9c6f21d-2563-4bea-e867-28a812e13a6d",
        "colab": {
          "base_uri": "https://localhost:8080/",
          "height": 215
        }
      },
      "source": [
        "# DecisionTree모델 만들기\n",
        "# sklearn 라이브러리의 tree에서 DecisionTreeClassifier import 하기\n",
        "from sklearn.tree import DecisionTreeClassifier\n",
        "# 모델 만들기\n",
        "model = DecisionTreeClassifier()\n",
        "# 모델 학습시키기\n",
        "# train 데이터를 이용하여 학습시키자.\n",
        "model = model.fit(X_train,y_train)\n",
        "# test 데이터를 적용하여 분류 예측하기\n",
        "pred = model.predict(X_test)\n",
        "# 분류 예측 결과 찍어보기\n",
        "pred\n"
      ],
      "execution_count": 0,
      "outputs": [
        {
          "output_type": "execute_result",
          "data": {
            "text/plain": [
              "array([0, 1, 0, 1, 0, 0, 0, 0, 0, 0, 0, 1, 1, 1, 0, 0, 0, 1, 0, 1, 1, 0,\n",
              "       1, 0, 0, 1, 0, 1, 0, 0, 0, 1, 0, 1, 1, 1, 0, 1, 0, 1, 0, 0, 0, 0,\n",
              "       0, 0, 0, 0, 0, 0, 0, 1, 1, 0, 1, 0, 1, 0, 0, 0, 0, 0, 0, 0, 1, 0,\n",
              "       0, 0, 1, 1, 1, 1, 0, 0, 1, 0, 1, 0, 0, 1, 1, 0, 1, 0, 0, 1, 0, 1,\n",
              "       1, 0, 0, 0, 0, 0, 1, 0, 1, 0, 1, 0, 0, 1, 0, 1, 0, 0, 0, 1, 0, 0,\n",
              "       1, 0, 0, 0, 0, 0, 0, 0, 0, 0, 0, 1, 0, 0, 0, 0, 0, 0, 0, 0, 1, 0,\n",
              "       0, 0, 0, 0, 0, 1, 0, 0, 1, 0, 0, 1, 0, 0, 0, 0, 0, 0, 1, 0, 1, 0,\n",
              "       1, 0, 1, 0, 0, 0, 1, 0, 0, 0, 1, 0, 0, 1, 1, 1, 1, 1, 1, 0, 1, 0,\n",
              "       0, 0, 0, 0, 1, 1, 0, 0, 0, 0, 0, 1, 0, 0, 0, 0, 0, 0, 1, 0, 1, 0,\n",
              "       0, 1, 1, 0, 1, 0, 0, 1, 0, 0, 0, 1, 0, 0, 0, 1, 1, 1, 0, 0, 0, 0,\n",
              "       0, 0, 0, 1, 0, 0, 0, 0, 0, 1, 0])"
            ]
          },
          "metadata": {
            "tags": []
          },
          "execution_count": 18
        }
      ]
    },
    {
      "cell_type": "code",
      "metadata": {
        "id": "ZKHsmMzTgXTS",
        "colab_type": "code",
        "outputId": "5754f6d9-0a4d-4889-925d-abc16f0a1b29",
        "colab": {
          "base_uri": "https://localhost:8080/",
          "height": 35
        }
      },
      "source": [
        "# 모델 평가\n",
        "# sklearn라이브러리의 metrics import\n",
        "# metrics는 confusion matrics(실제값과 예측값의 혼동행렬)을 만들어준다.\n",
        "# 주의 matrixs가 아니라 metrics\n",
        "from sklearn import metrics\n",
        "# metrics 메서드의 accuracy_score함수를 이용하면 정확도를 확인할 수 있다.\n",
        "# accuracy_score함수에 실제값과 예측값을 넣자.\n",
        "metrics.accuracy_score(y_test, pred)"
      ],
      "execution_count": 0,
      "outputs": [
        {
          "output_type": "execute_result",
          "data": {
            "text/plain": [
              "0.6753246753246753"
            ]
          },
          "metadata": {
            "tags": []
          },
          "execution_count": 22
        }
      ]
    },
    {
      "cell_type": "code",
      "metadata": {
        "id": "5ELvrLo4ggyu",
        "colab_type": "code",
        "outputId": "9021e8c7-2157-4af6-f976-e2d2dc7d8953",
        "colab": {
          "base_uri": "https://localhost:8080/",
          "height": 35
        }
      },
      "source": [
        "# 성능 최적화\n",
        "# 이번에는 모델을 만들되 tree의 깊이를 달리 설정해보자.\n",
        "# 깊이가 3인 decision tree 모델 만들기\n",
        "model = DecisionTreeClassifier( max_depth=3)\n",
        "# 모델에 train 데이터 학습시키기\n",
        "model = model.fit(X_train,y_train)\n",
        "# test 데이터 예측해보기\n",
        "pred = model.predict(X_test)\n",
        "# 정확도 확인\n",
        "metrics.accuracy_score(y_test, pred)\n",
        "\n",
        "\n"
      ],
      "execution_count": 0,
      "outputs": [
        {
          "output_type": "execute_result",
          "data": {
            "text/plain": [
              "0.7575757575757576"
            ]
          },
          "metadata": {
            "tags": []
          },
          "execution_count": 32
        }
      ]
    },
    {
      "cell_type": "code",
      "metadata": {
        "id": "hLQyAHyyhEGZ",
        "colab_type": "code",
        "colab": {}
      },
      "source": [
        "# 좀더 정확도가 높게 나오는 tree의 깊이는 없을지 깊이를 바꾸어가며 찾아보자."
      ],
      "execution_count": 0,
      "outputs": []
    },
    {
      "cell_type": "code",
      "metadata": {
        "id": "qzh0wVyEhH2G",
        "colab_type": "code",
        "outputId": "f37a5b70-008c-48a6-a27e-503346fc7051",
        "colab": {
          "base_uri": "https://localhost:8080/",
          "height": 35
        }
      },
      "source": [
        "model = DecisionTreeClassifier(criterion=\"entropy\", max_depth=4)\n",
        "# 모델에 train 데이터 학습시키기\n",
        "model = model.fit(X_train,y_train)\n",
        "# test 데이터 예측해보기\n",
        "pred = model.predict(X_test)\n",
        "# 정확도 확인\n",
        "metrics.accuracy_score(y_test, pred)\n"
      ],
      "execution_count": 0,
      "outputs": [
        {
          "output_type": "execute_result",
          "data": {
            "text/plain": [
              "0.7878787878787878"
            ]
          },
          "metadata": {
            "tags": []
          },
          "execution_count": 42
        }
      ]
    },
    {
      "cell_type": "code",
      "metadata": {
        "id": "Ow82Z0oghKN-",
        "colab_type": "code",
        "colab": {}
      },
      "source": [
        ""
      ],
      "execution_count": 0,
      "outputs": []
    }
  ]
}