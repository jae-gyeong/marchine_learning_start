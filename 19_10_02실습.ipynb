{
  "nbformat": 4,
  "nbformat_minor": 0,
  "metadata": {
    "colab": {
      "name": "19-10-02실습.ipynb",
      "provenance": [],
      "collapsed_sections": [],
      "include_colab_link": true
    },
    "kernelspec": {
      "name": "python3",
      "display_name": "Python 3"
    },
    "accelerator": "GPU"
  },
  "cells": [
    {
      "cell_type": "markdown",
      "metadata": {
        "id": "view-in-github",
        "colab_type": "text"
      },
      "source": [
        "<a href=\"https://colab.research.google.com/github/jae-gyeong/marchine_learning_start/blob/master/19_10_02%EC%8B%A4%EC%8A%B5.ipynb\" target=\"_parent\"><img src=\"https://colab.research.google.com/assets/colab-badge.svg\" alt=\"Open In Colab\"/></a>"
      ]
    },
    {
      "cell_type": "code",
      "metadata": {
        "id": "-PdnqqbSZWzu",
        "colab_type": "code",
        "outputId": "f0510220-3bd4-4d17-8646-b997e57096fc",
        "colab": {
          "base_uri": "https://localhost:8080/",
          "height": 547
        }
      },
      "source": [
        "# tensorflow import\n",
        "import tensorflow as tf\n",
        "# 데이터 불러오기\n",
        "from tensorflow.examples.tutorials.mnist import input_data\n",
        "mnist = input_data.read_data_sets('./mnist/data/', one_hot=True)"
      ],
      "execution_count": 0,
      "outputs": [
        {
          "output_type": "stream",
          "text": [
            "WARNING:tensorflow:From <ipython-input-3-08383489fa72>:4: read_data_sets (from tensorflow.contrib.learn.python.learn.datasets.mnist) is deprecated and will be removed in a future version.\n",
            "Instructions for updating:\n",
            "Please use alternatives such as official/mnist/dataset.py from tensorflow/models.\n",
            "WARNING:tensorflow:From /usr/local/lib/python3.6/dist-packages/tensorflow/contrib/learn/python/learn/datasets/mnist.py:260: maybe_download (from tensorflow.contrib.learn.python.learn.datasets.base) is deprecated and will be removed in a future version.\n",
            "Instructions for updating:\n",
            "Please write your own downloading logic.\n",
            "WARNING:tensorflow:From /usr/local/lib/python3.6/dist-packages/tensorflow/contrib/learn/python/learn/datasets/base.py:252: _internal_retry.<locals>.wrap.<locals>.wrapped_fn (from tensorflow.contrib.learn.python.learn.datasets.base) is deprecated and will be removed in a future version.\n",
            "Instructions for updating:\n",
            "Please use urllib or similar directly.\n",
            "Successfully downloaded train-images-idx3-ubyte.gz 9912422 bytes.\n",
            "WARNING:tensorflow:From /usr/local/lib/python3.6/dist-packages/tensorflow/contrib/learn/python/learn/datasets/mnist.py:262: extract_images (from tensorflow.contrib.learn.python.learn.datasets.mnist) is deprecated and will be removed in a future version.\n",
            "Instructions for updating:\n",
            "Please use tf.data to implement this functionality.\n",
            "Extracting ./mnist/data/train-images-idx3-ubyte.gz\n",
            "Successfully downloaded train-labels-idx1-ubyte.gz 28881 bytes.\n",
            "WARNING:tensorflow:From /usr/local/lib/python3.6/dist-packages/tensorflow/contrib/learn/python/learn/datasets/mnist.py:267: extract_labels (from tensorflow.contrib.learn.python.learn.datasets.mnist) is deprecated and will be removed in a future version.\n",
            "Instructions for updating:\n",
            "Please use tf.data to implement this functionality.\n",
            "Extracting ./mnist/data/train-labels-idx1-ubyte.gz\n",
            "WARNING:tensorflow:From /usr/local/lib/python3.6/dist-packages/tensorflow/contrib/learn/python/learn/datasets/mnist.py:110: dense_to_one_hot (from tensorflow.contrib.learn.python.learn.datasets.mnist) is deprecated and will be removed in a future version.\n",
            "Instructions for updating:\n",
            "Please use tf.one_hot on tensors.\n",
            "Successfully downloaded t10k-images-idx3-ubyte.gz 1648877 bytes.\n",
            "Extracting ./mnist/data/t10k-images-idx3-ubyte.gz\n",
            "Successfully downloaded t10k-labels-idx1-ubyte.gz 4542 bytes.\n",
            "Extracting ./mnist/data/t10k-labels-idx1-ubyte.gz\n",
            "WARNING:tensorflow:From /usr/local/lib/python3.6/dist-packages/tensorflow/contrib/learn/python/learn/datasets/mnist.py:290: DataSet.__init__ (from tensorflow.contrib.learn.python.learn.datasets.mnist) is deprecated and will be removed in a future version.\n",
            "Instructions for updating:\n",
            "Please use alternatives such as official/mnist/dataset.py from tensorflow/models.\n"
          ],
          "name": "stdout"
        }
      ]
    },
    {
      "cell_type": "code",
      "metadata": {
        "id": "zVircQjIZXUd",
        "colab_type": "code",
        "colab": {}
      },
      "source": [
        "# 데이터를 넣을 공간인 placeholder 구성하기.\n",
        "# 데이터 개수는 값을 정해주지 않고 열어두는 의미로 None\n",
        "# conv2d는 2d 데이터를 받으므로 2d 형태로 28*28,\n",
        "# 흑백 이미지이므로 channel = 1\n",
        "X = tf.placeholder(tf.float32, [None, 28, 28, 1])\n",
        "# 데이터 개수는 오픈해두는 의미로 None\n",
        "# label 즉, target값이 0~9까지 숫자 이므로 10개의 클래스\n",
        "Y = tf.placeholder(tf.float32, [None, 10])\n",
        "# dropout용 placeholder\n",
        "keep_prob = tf.placeholder(tf.float32)"
      ],
      "execution_count": 0,
      "outputs": []
    },
    {
      "cell_type": "code",
      "metadata": {
        "id": "iwhXurCHZrpA",
        "colab_type": "code",
        "colab": {}
      },
      "source": [
        "\n",
        "\n",
        "# 첫 번째 레이어의 필터를 랜덤 정규화(표준편차 0.01)한 값으로 넣기\n",
        "# 필터 : 5*5 사이즈, input이 흑백인 채널이므로 채널수는 1, 20개의 필터를 만들겠다.\n",
        "W1 = tf.Variable(tf.random_normal([5, 5, 1, 20], stddev=0.01))\n",
        "# convolution layer 1 만들기\n",
        "# layer1은 입력으로 X를 받고 필터 W1을 사용하고\n",
        "# stride = [샘플수, 세로 길이, 가로 길이, 채널 수]\n",
        "# padding='SAME' : 추가 패딩은 넣지 않음(사이즈 그대로)\n",
        "L1 = tf.nn.conv2d(X, W1, strides=[1, 1, 1, 1], padding='SAME')\n",
        "# layer1의 마지막에 활성화 함수 적용\n",
        "# 활성화 함수는 relu 사용\n",
        "# 비선형화된 값을 선형화 해주기 위함\n",
        "L1 = tf.nn.relu(L1)"
      ],
      "execution_count": 0,
      "outputs": []
    },
    {
      "cell_type": "code",
      "metadata": {
        "id": "iW5NDP6UZuQh",
        "colab_type": "code",
        "outputId": "39512a00-d6bb-4fbe-f64d-06a5bec444cf",
        "colab": {
          "base_uri": "https://localhost:8080/",
          "height": 52
        }
      },
      "source": [
        "print(W1)\n",
        "print(L1)"
      ],
      "execution_count": 0,
      "outputs": [
        {
          "output_type": "stream",
          "text": [
            "<tf.Variable 'Variable:0' shape=(5, 5, 1, 20) dtype=float32_ref>\n",
            "Tensor(\"Relu:0\", shape=(?, 28, 28, 20), dtype=float32)\n"
          ],
          "name": "stdout"
        }
      ]
    },
    {
      "cell_type": "code",
      "metadata": {
        "id": "cCRvwOIPZuTA",
        "colab_type": "code",
        "outputId": "d27df546-9fdf-4da0-ee9a-5c5d8ac5e95e",
        "colab": {
          "base_uri": "https://localhost:8080/",
          "height": 34
        }
      },
      "source": [
        "# 첫 번째 convolution layer 에 Pooling Layer(크기를 줄여주는 레이어) 적용하기\n",
        "# 입력 :이전 Layer\n",
        "# ksize = [샘플 수, 세로 사이즈, 가로 사이즈, 채널 수]\n",
        "# :pooling layer에서의 필터의 사이즈를 의미\n",
        "# strides = [샘플 수, 세로 스트라이드, 가로 스트라이드, 채널 수]\n",
        "# :polling layer에서의 필터의 움직임을 의미\n",
        "# strides 는 가로 세로 각각 1로 하자.\n",
        "# padding = 'SAME' : 사이즈 유지\n",
        "L1 = tf.nn.max_pool(L1, ksize = [1, 2, 2, 1], strides=[1,2, 2, 1], padding='SAME')\n",
        "print(L1)"
      ],
      "execution_count": 0,
      "outputs": [
        {
          "output_type": "stream",
          "text": [
            "Tensor(\"MaxPool:0\", shape=(?, 14, 14, 20), dtype=float32)\n"
          ],
          "name": "stdout"
        }
      ]
    },
    {
      "cell_type": "code",
      "metadata": {
        "id": "fFI1HiI-ZuVT",
        "colab_type": "code",
        "outputId": "edc07b2c-92f8-4216-867f-f4efebee7dc0",
        "colab": {
          "base_uri": "https://localhost:8080/",
          "height": 34
        }
      },
      "source": [
        "# 두 번째 레이어 구성\n",
        "# 53개의 5*5필터를 만들겠다.\n",
        "# 필터를 랜덤 정규화(표준편차 0.01)한 값으로 넣기\n",
        "W2 = tf.Variable(tf.random_normal([5, 5, 20, 53], stddev = 0.01))\n",
        "# conv2d 레이어에서 strides는 가로1, 세로1로 주자.\n",
        "L2 = tf.nn.conv2d(L1, W2, strides=[1, 1, 1, 1], padding='SAME')\n",
        "# activation_function으로 relu 사용\n",
        "L2 = tf.nn.relu(L2)\n",
        "# Pooling layer 적용(max_pool)\n",
        "L2 = tf.nn.max_pool(L2, ksize=[1, 2, 2, 1], strides=[1,2,2,1], padding='SAME')\n",
        "print(L2)"
      ],
      "execution_count": 0,
      "outputs": [
        {
          "output_type": "stream",
          "text": [
            "Tensor(\"MaxPool_2:0\", shape=(?, 7, 7, 53), dtype=float32)\n"
          ],
          "name": "stdout"
        }
      ]
    },
    {
      "cell_type": "code",
      "metadata": {
        "id": "fTebpxo5ZuX6",
        "colab_type": "code",
        "outputId": "2711b5b0-a73b-42cb-9267-b59d932e857c",
        "colab": {
          "base_uri": "https://localhost:8080/",
          "height": 107
        }
      },
      "source": [
        "# 세 번째 레이어(Fully Connected Layer)\n",
        "# reshape와 행렬곱을 적용함\n",
        "# 20개의 필터를 만들겠다.\n",
        "# 필터를 랜덤 정규화(표준편차 0.01)한 값으로 넣기\n",
        "# 1차원으로 펴주는 flatten 작용이 들어가므로 [4, 4, 53, 20]으로 들어가지 않는다.\n",
        "# 앞단 필터의 가중치의 갯수, 현재 적용하고자하는 필터의 갯수\n",
        "W3 = tf.Variable(tf.random_normal([7*7*53, 20], stddev=0.01))\n",
        "# reshape 과정이 들어간다.\n",
        "# -1은 몇개의 데이터가 들어올지 모르므로 열어두는 역할\n",
        "# 뒤에 값은 앞단 필터의 가중치의 갯수\n",
        "L3 = tf.reshape(L2, [-1, 7*7*53])\n",
        "# L3와 W3를 행렬곱 해준다.\n",
        "L3 = tf.matmul(L3, W3)\n",
        "# 엑티베이션 펑션으로 relu 사용\n",
        "L3 = tf.nn.relu(L3)\n",
        "# dropout 을 통해 과적합을 줄여주자.\n",
        "L3 = tf.nn.dropout(L3, keep_prob)\n",
        "print(L3)"
      ],
      "execution_count": 0,
      "outputs": [
        {
          "output_type": "stream",
          "text": [
            "WARNING:tensorflow:From <ipython-input-10-39b16e327a6d>:11: calling dropout (from tensorflow.python.ops.nn_ops) with keep_prob is deprecated and will be removed in a future version.\n",
            "Instructions for updating:\n",
            "Please use `rate` instead of `keep_prob`. Rate should be set to `rate = 1 - keep_prob`.\n",
            "Tensor(\"dropout/mul_1:0\", shape=(?, 20), dtype=float32)\n"
          ],
          "name": "stdout"
        }
      ]
    },
    {
      "cell_type": "code",
      "metadata": {
        "id": "YEW_Z0hLZzU1",
        "colab_type": "code",
        "colab": {}
      },
      "source": [
        "# 마지막 레이어(Flatten Layer)\n",
        "# 필터를 랜덤 정규화(표준편차 0.01)한 값으로 넣기\n",
        "# 앞단 필터의 갯수, 현재 적용하고자 하는 필터수를 리스트로 넣어준다.\n",
        "# 현재 얻고자 하는 필터수는 10개의 숫자 값이므로 10\n",
        "W4 = tf.Variable(tf.random_normal([20, 10], stddev=0.01))\n",
        "# 행렬곱 실행\n",
        "model = tf.matmul(L3, W4)\n",
        "# loss 펑션 적용 -> 활성화 함수 : softmax\n",
        "loss = tf.reduce_mean(tf.nn.softmax_cross_entropy_with_logits_v2(logits=model, labels=Y))\n",
        "# 최적화 방법 : AdamOptimizer 사용\n",
        "# learning_rate = 0.001\n",
        "# loss 가 최소가 되는 방향으로 최적화\n",
        "optimizer = tf.train.AdamOptimizer(0.001).minimize(loss)"
      ],
      "execution_count": 0,
      "outputs": []
    },
    {
      "cell_type": "code",
      "metadata": {
        "id": "uFzTlayGZzSp",
        "colab_type": "code",
        "outputId": "df430efe-0c6b-4991-e156-1338aed8925d",
        "colab": {
          "base_uri": "https://localhost:8080/",
          "height": 193
        }
      },
      "source": [
        "# 모델 학습시키기\n",
        "# session 객체 만들기\n",
        "sess = tf.Session()\n",
        "# 변수 초기화를 위한 init 객체 생성\n",
        "init = tf.global_variables_initializer()\n",
        "# session 실행\n",
        "sess.run(init)\n",
        "# batch_size : 몇개 데이터 당 가중치를 갱신할 것인가\n",
        "# batch_size가 1이면 데이터 1개를 학습하고 가중치 초기화 ....\n",
        "# batch_size가 100이면 100개 데이터 학습하고 가중치 초기화\n",
        "# batch_size를 500으로 설정해보자.\n",
        "batch_size = 500\n",
        "# total_batch는 데이터 총 량당 가중치 초기화 횟수가 될 것이다.\n",
        "total_batch = int(mnist.train.num_examples / batch_size)\n",
        "# epoch : 전체 데이터를 몇번 학습시킬 것인가\n",
        "# epoch를 3회로 해보자.\n",
        "\n",
        "for epoch in range(3):\n",
        "    %%time\n",
        "    total_loss = 0\n",
        "# 가중치 초기화할 횟수만큼 돌린다.\n",
        "    for i in range(total_loss):\n",
        "    # mnist.train.next_batch를 통해 불러온 데이터 batch_xs의 shape는 (batch_size, 784)의 형태를 가진\n",
        "        batch_xs, batch_ys = mnist.train.next_batch(batch_size)\n",
        "        # 데이터의 형태를 바꿔준다. -> 28*28*1\n",
        "        batch_xs = batch_xs.reshape(-1, 28, 28, 1)\n",
        "        # X, Y, keep_prob(dropout값, 0.7, 즉 70%만 쓰겠다고 하자)을 feed_dict 값으로 넣어주고,\n",
        "        # optimizer에 loss값을 넣어 session을 실행한다.\n",
        "        # 실행 후 값을 반환 받을 때 loss_val만 받는다.\n",
        "        _, loss_val = sess.run([optimizer, loss],\n",
        "        feed_dict = {X:batch_xs, Y:batch_ys, keep_prob:0.7}\n",
        "        )\n",
        "        # loss의 평균을 내보기 위해 total_loss에 loss_val값을 더해준다.\n",
        "        total_loss += loss_val\n",
        "        # 에폭과 loss의 평균을 찍어본다.\n",
        "    print('Epoch:', '%04d' %(epoch + 1),'Avg. loss = ', '{:.3f}'.format(total_loss / total_batch))\n",
        "print('최적화 완료!')"
      ],
      "execution_count": 0,
      "outputs": [
        {
          "output_type": "stream",
          "text": [
            "CPU times: user 2 µs, sys: 1e+03 ns, total: 3 µs\n",
            "Wall time: 6.2 µs\n",
            "Epoch: 0001 Avg. loss =  0.000\n",
            "CPU times: user 2 µs, sys: 0 ns, total: 2 µs\n",
            "Wall time: 5.72 µs\n",
            "Epoch: 0002 Avg. loss =  0.000\n",
            "CPU times: user 2 µs, sys: 1e+03 ns, total: 3 µs\n",
            "Wall time: 5.25 µs\n",
            "Epoch: 0003 Avg. loss =  0.000\n",
            "최적화 완료!\n"
          ],
          "name": "stdout"
        }
      ]
    },
    {
      "cell_type": "code",
      "metadata": {
        "id": "FSjF6GIkZzPw",
        "colab_type": "code",
        "colab": {}
      },
      "source": [
        ""
      ],
      "execution_count": 0,
      "outputs": []
    },
    {
      "cell_type": "code",
      "metadata": {
        "id": "yzMZcgdRZzNB",
        "colab_type": "code",
        "colab": {}
      },
      "source": [
        ""
      ],
      "execution_count": 0,
      "outputs": []
    }
  ]
}