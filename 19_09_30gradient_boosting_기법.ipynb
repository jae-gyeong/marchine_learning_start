{
  "nbformat": 4,
  "nbformat_minor": 0,
  "metadata": {
    "colab": {
      "name": "19-09-30gradient boosting 기법.ipynb",
      "provenance": [],
      "collapsed_sections": [],
      "include_colab_link": true
    },
    "kernelspec": {
      "name": "python3",
      "display_name": "Python 3"
    }
  },
  "cells": [
    {
      "cell_type": "markdown",
      "metadata": {
        "id": "view-in-github",
        "colab_type": "text"
      },
      "source": [
        "<a href=\"https://colab.research.google.com/github/jae-gyeong/marchine_learning_start/blob/master/19_09_30gradient_boosting_%EA%B8%B0%EB%B2%95.ipynb\" target=\"_parent\"><img src=\"https://colab.research.google.com/assets/colab-badge.svg\" alt=\"Open In Colab\"/></a>"
      ]
    },
    {
      "cell_type": "markdown",
      "metadata": {
        "id": "A_ghHU1dB3fn",
        "colab_type": "text"
      },
      "source": [
        "# 그래디언트 부스팅(Gradient Boosting)\n",
        "(가) 여러 개의 결정 트리를 묶어 강력한 모델을 만든다.\n",
        "\n",
        "(나) 분류(Classification)과 회귀(Regression)에 모두 사용 가능.\n",
        "\n",
        "(다) 랜덤포레스트(random forest)와 달리 이전 트리의 오차를 보완하는 방식으로 순차적으로 트리를 만든\n",
        "다.\n",
        "* 이전트리의 오차를 얼마나 강하게 보정할 것인가를 제어(learning_rate이다.)\n",
        "\n",
        "(라) 무작위성이 없으며, 대신 강력한 사전 가지치기(pruning)을 사용\n",
        "\n",
        "(마) 각각의 트리는 일부에 대해서만 예측을 잘 수행, 트리가 많을수록 성능이 좋아짐\n",
        "\n",
        "(바) 랜덤 포레스트보다 매개 변수 설정에 더 민감 잘 조정하면 더 높은 정확도를 얻을 수 있음.\n",
        "\n",
        "(사) 중요한 매개변수 중의 하나는 learning_rate이다. (학습률이 크면 보정을 강하게 한다.)\n",
        "\n",
        "(아) n_estimators 의 값은 앙상블에 더 많은 트리가 추가되어, 모델의 복잡도는 커지지만 훈련 세트에서의\n",
        "실수를 보완된다.\n",
        "\n",
        "(자) 트리의 깊이가 5정도로서 깊지 않은 트리를 사용하여 메모리 사용이 적고 예측도 빠르다."
      ]
    },
    {
      "cell_type": "code",
      "metadata": {
        "id": "We8nKetnBoLF",
        "colab_type": "code",
        "colab": {}
      },
      "source": [
        "from sklearn.model_selection import train_test_split\n",
        "from sklearn.datasets import load_breast_cancer\n",
        "import matplotlib.pyplot as plt\n",
        "import numpy as np\n",
        "%matplotlib inline"
      ],
      "execution_count": 0,
      "outputs": []
    },
    {
      "cell_type": "code",
      "metadata": {
        "id": "malmjwzCCBv6",
        "colab_type": "code",
        "colab": {}
      },
      "source": [
        "# ### 한글\n",
        "# import matplotlib\n",
        "# from matplotlib import font_manager, rc\n",
        "# font_loc = \"C:/Windows/Fonts/malgunbd.ttf\"\n",
        "# font_name = font_manager.FontProperties(fname=font_loc).get_name()\n",
        "# matplotlib.rc('font', family=font_name)\n"
      ],
      "execution_count": 0,
      "outputs": []
    },
    {
      "cell_type": "code",
      "metadata": {
        "id": "pvI7B6QFCDhg",
        "colab_type": "code",
        "colab": {}
      },
      "source": [
        "## 중요도 그래프 그리기\n",
        "def plot_feature_importances_cancer(model):\n",
        " n_features = cancer.data.shape[1]\n",
        " plt.barh(range(n_features), model.feature_importances_, align='center')\n",
        " plt.yticks(np.arange(n_features), cancer.feature_names)\n",
        " plt.xlabel(\"특성 중요도\")\n",
        " plt.ylabel(\"특성\")\n",
        " plt.ylim(-1, n_features)"
      ],
      "execution_count": 0,
      "outputs": []
    },
    {
      "cell_type": "markdown",
      "metadata": {
        "id": "6wWFtIobCHXB",
        "colab_type": "text"
      },
      "source": [
        "# 01. GradientBoostig 알고리즘 실습\n",
        "depth는 3,\n",
        "\n",
        "트리 100개(n_estimators)\n",
        "\n",
        "학습률 : 0.1을 사용\n",
        "\n",
        "데이터 셋 : load_breast_cancer\n",
        "\n",
        "classification용 유방암 진단 자료"
      ]
    },
    {
      "cell_type": "code",
      "metadata": {
        "id": "ET2hTrQBCFhh",
        "colab_type": "code",
        "outputId": "c1550003-df5a-48a6-fcf6-63466d0efc0c",
        "colab": {
          "base_uri": "https://localhost:8080/",
          "height": 197
        }
      },
      "source": [
        "from sklearn.ensemble import GradientBoostingClassifier\n",
        "cancer = load_breast_cancer()\n",
        "X_train, X_test, y_train, y_test = train_test_split(cancer.data, cancer.target,\n",
        " random_state=0)\n",
        "gbrt = GradientBoostingClassifier(random_state=0)\n",
        "gbrt.fit(X_train, y_train)\n"
      ],
      "execution_count": 0,
      "outputs": [
        {
          "output_type": "execute_result",
          "data": {
            "text/plain": [
              "GradientBoostingClassifier(criterion='friedman_mse', init=None,\n",
              "                           learning_rate=0.1, loss='deviance', max_depth=3,\n",
              "                           max_features=None, max_leaf_nodes=None,\n",
              "                           min_impurity_decrease=0.0, min_impurity_split=None,\n",
              "                           min_samples_leaf=1, min_samples_split=2,\n",
              "                           min_weight_fraction_leaf=0.0, n_estimators=100,\n",
              "                           n_iter_no_change=None, presort='auto',\n",
              "                           random_state=0, subsample=1.0, tol=0.0001,\n",
              "                           validation_fraction=0.1, verbose=0,\n",
              "                           warm_start=False)"
            ]
          },
          "metadata": {
            "tags": []
          },
          "execution_count": 3
        }
      ]
    },
    {
      "cell_type": "code",
      "metadata": {
        "id": "6bbx4S9fCXoh",
        "colab_type": "code",
        "outputId": "d1c983b5-4c65-404d-8707-2a670cfa4fa9",
        "colab": {
          "base_uri": "https://localhost:8080/",
          "height": 53
        }
      },
      "source": [
        "print(\"훈련 세트 정확도: {:.3f}\".format(gbrt.score(X_train, y_train)))\n",
        "print(\"테스트 세트 정확도: {:.3f}\".format(gbrt.score(X_test, y_test)))\n"
      ],
      "execution_count": 0,
      "outputs": [
        {
          "output_type": "stream",
          "text": [
            "훈련 세트 정확도: 1.000\n",
            "테스트 세트 정확도: 0.965\n"
          ],
          "name": "stdout"
        }
      ]
    },
    {
      "cell_type": "markdown",
      "metadata": {
        "id": "H3XgCACOCewO",
        "colab_type": "text"
      },
      "source": [
        "훈련 세트의 정확도가 100%이므로 과대적합(Overfitting)\n"
      ]
    },
    {
      "cell_type": "markdown",
      "metadata": {
        "id": "nBidaGPXChvB",
        "colab_type": "text"
      },
      "source": [
        "# 02. 훈련세트에 대한 과적합을 줄이기\n",
        "max_depth 조절.\n",
        "\n",
        "learning_rate 조절."
      ]
    },
    {
      "cell_type": "code",
      "metadata": {
        "id": "qQu3nrxfCdpo",
        "colab_type": "code",
        "outputId": "c88a22ed-4ff7-4c87-c7f3-c75a852dc2cc",
        "colab": {
          "base_uri": "https://localhost:8080/",
          "height": 53
        }
      },
      "source": [
        "# 1. tree depth의 조절\n",
        "gbrt = GradientBoostingClassifier(random_state=0, max_depth=1)\n",
        "gbrt.fit(X_train, y_train)\n",
        "print(\"훈련 세트 정확도: {:.3f}\".format(gbrt.score(X_train, y_train)))\n",
        "print(\"테스트 세트 정확도: {:.3f}\".format(gbrt.score(X_test, y_test)))"
      ],
      "execution_count": 0,
      "outputs": [
        {
          "output_type": "stream",
          "text": [
            "훈련 세트 정확도: 0.991\n",
            "테스트 세트 정확도: 0.972\n"
          ],
          "name": "stdout"
        }
      ]
    },
    {
      "cell_type": "code",
      "metadata": {
        "id": "yYjWtQFHCpxU",
        "colab_type": "code",
        "outputId": "e0eb3949-d5c3-443c-e17e-af5fff54730b",
        "colab": {
          "base_uri": "https://localhost:8080/",
          "height": 53
        }
      },
      "source": [
        "# 2. learning_rate 조절\n",
        "gbrt = GradientBoostingClassifier(random_state=0, learning_rate=0.01)\n",
        "gbrt.fit(X_train, y_train)\n",
        "print(\"훈련 세트 정확도: {:.3f}\".format(gbrt.score(X_train, y_train)))\n",
        "print(\"테스트 세트 정확도: {:.3f}\".format(gbrt.score(X_test, y_test)))"
      ],
      "execution_count": 0,
      "outputs": [
        {
          "output_type": "stream",
          "text": [
            "훈련 세트 정확도: 0.988\n",
            "테스트 세트 정확도: 0.965\n"
          ],
          "name": "stdout"
        }
      ]
    },
    {
      "cell_type": "code",
      "metadata": {
        "id": "C7CtifwSCvMB",
        "colab_type": "code",
        "outputId": "51bbfe2c-60cb-43ae-b6ab-96f83df0ea3b",
        "colab": {
          "base_uri": "https://localhost:8080/",
          "height": 283
        }
      },
      "source": [
        "gbrt = GradientBoostingClassifier(random_state=0, max_depth=1)\n",
        "gbrt.fit(X_train, y_train)\n",
        "plot_feature_importances_cancer(gbrt)"
      ],
      "execution_count": 0,
      "outputs": [
        {
          "output_type": "display_data",
          "data": {
            "image/png": "[encoded data removed]",
            "text/plain": [
              "<Figure size 432x288 with 1 Axes>"
            ]
          },
          "metadata": {
            "tags": []
          }
        }
      ]
    },
    {
      "cell_type": "markdown",
      "metadata": {
        "id": "Zl6qSTEHC2Ko",
        "colab_type": "text"
      },
      "source": [
        "그래디언트 부스팅은 일부 특성을 완전히 무시\n",
        "\n",
        "비슷한 종류의 데이터에서 보통 더 안정적인 랜덤 포레스트를 먼저 적용해본다.\n",
        "\n"
      ]
    },
    {
      "cell_type": "markdown",
      "metadata": {
        "id": "kfgI0TCyC44O",
        "colab_type": "text"
      },
      "source": [
        "# 모델의 장단점\n",
        "단점 :\n",
        "\n",
        "매개변수를 잘 조정해야 하며, 훈련 시간이 길다.\n",
        "\n",
        "트리 모델 특성 상 희소한 고차원 데이터에는 잘 동작하지 않는다.\n",
        "\n",
        "장점 :\n",
        "\n",
        "feature의 scale(범위, 값)을 조정하지 않아도 이진특성이 연속적인 특성에서 잘 동작\n",
        "feature 의 스케일을 조정하지 않아도 된다.\n",
        "\n",
        "# 매개변수\n",
        "이전트리의 오차를 보정하는 정도 조절 : learning_rate\n",
        "\n",
        "learning_rate를 낮추면 =>> 비슷한 복잡도의 모델을 만들기 위해 더 많은 트리를 추가해야 한다.\n",
        "\n",
        "n_estimator가 클수록 좋다.(랜덤포레스트)\n",
        "\n",
        "n_estimator가 크면 그래디언트 부스팅은 과적합의 가능성이 있음.\n",
        "\n",
        "훈련 세트 정확도: 0.988\n",
        "\n",
        "테스트 세트 정확도: 0.965\n",
        "\n",
        "gbrt = GradientBoostingClassifier(random_state=0, learning_rate=0.01)\n",
        "\n",
        "gbrt.fit(X_train, y_train)\n",
        "\n",
        "print(\"훈련 세트 정확도: {:.3f}\".format(gbrt.score(X_train, y_train)))\n",
        "\n",
        "print(\"테스트 세트 정확도: {:.3f}\".format(gbrt.score(X_test, y_test)))\n",
        "\n",
        "gbrt = GradientBoostingClassifier(random_state=0, max_depth=1)\n",
        "\n",
        "gbrt.fit(X_train, y_train)\n",
        "\n",
        "plot_feature_importances_cancer(gbrt)\n",
        "\n",
        "트리의 복잡도를 낮추는 max_depth (또는 max_leaf_nodes)\n",
        "\n",
        "보통 부스팅 모델에서 max_depth를 매우작게 설정하며 트리의 깊이가 5보다 깊어지지 않도록 한다.\n",
        "\n",
        "n_estimators를 맞춘 이후에 learning_rate를 찾는다.\n"
      ]
    },
    {
      "cell_type": "code",
      "metadata": {
        "id": "pUz74H1MC0lo",
        "colab_type": "code",
        "colab": {}
      },
      "source": [
        ""
      ],
      "execution_count": 0,
      "outputs": []
    }
  ]
}