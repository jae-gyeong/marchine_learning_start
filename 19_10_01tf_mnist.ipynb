{
  "nbformat": 4,
  "nbformat_minor": 0,
  "metadata": {
    "colab": {
      "name": "19-10-01tf_mnist.ipynb",
      "provenance": [],
      "include_colab_link": true
    },
    "kernelspec": {
      "name": "python3",
      "display_name": "Python 3"
    }
  },
  "cells": [
    {
      "cell_type": "markdown",
      "metadata": {
        "id": "view-in-github",
        "colab_type": "text"
      },
      "source": [
        "<a href=\"https://colab.research.google.com/github/jae-gyeong/marchine_learning_start/blob/master/19_10_01tf_mnist.ipynb\" target=\"_parent\"><img src=\"https://colab.research.google.com/assets/colab-badge.svg\" alt=\"Open In Colab\"/></a>"
      ]
    },
    {
      "cell_type": "code",
      "metadata": {
        "id": "R4E5oOkx-f75",
        "colab_type": "code",
        "colab": {
          "base_uri": "https://localhost:8080/",
          "height": 35
        },
        "outputId": "3feb8a62-0f6e-4603-98dd-05a93fc789dd"
      },
      "source": [
        "import tensorflow as tf\n",
        "print(\"tf version : \", tf.__version__)\n"
      ],
      "execution_count": 1,
      "outputs": [
        {
          "output_type": "stream",
          "text": [
            "tf version :  1.14.0\n"
          ],
          "name": "stdout"
        }
      ]
    },
    {
      "cell_type": "markdown",
      "metadata": {
        "id": "Ne2dKmNpgrAN",
        "colab_type": "text"
      },
      "source": [
        "## 데이터 셋 불러오기(1)"
      ]
    },
    {
      "cell_type": "code",
      "metadata": {
        "id": "_geUOp4f-huQ",
        "colab_type": "code",
        "colab": {
          "base_uri": "https://localhost:8080/",
          "height": 107
        },
        "outputId": "b8b676f6-49b7-4576-de7a-d57790b5b6c8"
      },
      "source": [
        "mnist1 = tf.keras.datasets.mnist # 데이터셋 불러오기\n",
        "(X_train, y_train),(X_test, y_test) = mnist1.load_data()\n",
        "print(type(X_train), type(y_train), type(X_test), type(y_test))\n",
        "print(X_train.shape, y_train.shape) #(이미지갯수, 가로픽셀,세로픽셀) 3차원array, 1차원 array\n",
        "print(X_test.shape, y_test.shape)"
      ],
      "execution_count": 2,
      "outputs": [
        {
          "output_type": "stream",
          "text": [
            "Downloading data from https://storage.googleapis.com/tensorflow/tf-keras-datasets/mnist.npz\n",
            "11493376/11490434 [==============================] - 0s 0us/step\n",
            "<class 'numpy.ndarray'> <class 'numpy.ndarray'> <class 'numpy.ndarray'> <class 'numpy.ndarray'>\n",
            "(60000, 28, 28) (60000,)\n",
            "(10000, 28, 28) (10000,)\n"
          ],
          "name": "stdout"
        }
      ]
    },
    {
      "cell_type": "code",
      "metadata": {
        "id": "yS8iWjw7gti0",
        "colab_type": "code",
        "colab": {
          "base_uri": "https://localhost:8080/",
          "height": 89
        },
        "outputId": "a98885fd-35d1-4ece-81f1-7d87b2ca541b"
      },
      "source": [
        "print(X_train.shape[0])\n",
        "print(X_test.shape[0])\n",
        "print(y_train.shape[0])\n",
        "print(y_test.shape[0])"
      ],
      "execution_count": 3,
      "outputs": [
        {
          "output_type": "stream",
          "text": [
            "60000\n",
            "10000\n",
            "60000\n",
            "10000\n"
          ],
          "name": "stdout"
        }
      ]
    },
    {
      "cell_type": "code",
      "metadata": {
        "id": "3FfBaa8DiSzW",
        "colab_type": "code",
        "colab": {
          "base_uri": "https://localhost:8080/",
          "height": 53
        },
        "outputId": "fe5d8cf8-a33b-453f-bdcc-303ab6bda397"
      },
      "source": [
        "# 3D를 2D로 변경\n",
        "X_train = X_train.reshape(X_train.shape[0],28*28)\n",
        "print(X_train.shape)\n",
        "X_test = X_test.reshape(X_test.shape[0],28*28)\n",
        "print(X_test.shape)\n",
        "# 1D를 2D로 변경\n",
        "#y_train = y_train.reshape(y_train.shape[0],1)\n",
        "#print(y_train.shape)\n",
        "#y_test = y_test.reshape(y_test.shape[0],1)\n",
        "#print(y_test.shape)\n"
      ],
      "execution_count": 4,
      "outputs": [
        {
          "output_type": "stream",
          "text": [
            "(60000, 784)\n",
            "(10000, 784)\n"
          ],
          "name": "stdout"
        }
      ]
    },
    {
      "cell_type": "code",
      "metadata": {
        "id": "TtpKQE2cicOV",
        "colab_type": "code",
        "colab": {}
      },
      "source": [
        "import numpy as np\n"
      ],
      "execution_count": 0,
      "outputs": []
    },
    {
      "cell_type": "code",
      "metadata": {
        "id": "jvGEgl3mjvFf",
        "colab_type": "code",
        "colab": {
          "base_uri": "https://localhost:8080/",
          "height": 53
        },
        "outputId": "a2d098fb-14d0-4491-fa75-632a1857d21c"
      },
      "source": [
        "y_train_hot = np.eye(10)[y_train]\n",
        "print(y_train_hot.shape)\n",
        "y_test_hot = np.eye(10)[y_test]\n",
        "print(y_test_hot.shape)\n"
      ],
      "execution_count": 6,
      "outputs": [
        {
          "output_type": "stream",
          "text": [
            "(60000, 10)\n",
            "(10000, 10)\n"
          ],
          "name": "stdout"
        }
      ]
    },
    {
      "cell_type": "markdown",
      "metadata": {
        "id": "4nSRlytWjxhB",
        "colab_type": "text"
      },
      "source": [
        "## 데이터 셋 불러오기(2)"
      ]
    },
    {
      "cell_type": "code",
      "metadata": {
        "id": "asSkRHgsjwVs",
        "colab_type": "code",
        "colab": {
          "base_uri": "https://localhost:8080/",
          "height": 89
        },
        "outputId": "79879cc6-e9ba-404a-b52a-88319040a482"
      },
      "source": [
        "from tensorflow.examples.tutorials.mnist import input_data\n",
        "mnist2 = input_data.read_data_sets(\"./mnist/data/\", one_hot=True)"
      ],
      "execution_count": 8,
      "outputs": [
        {
          "output_type": "stream",
          "text": [
            "Extracting ./mnist/data/train-images-idx3-ubyte.gz\n",
            "Extracting ./mnist/data/train-labels-idx1-ubyte.gz\n",
            "Extracting ./mnist/data/t10k-images-idx3-ubyte.gz\n",
            "Extracting ./mnist/data/t10k-labels-idx1-ubyte.gz\n"
          ],
          "name": "stdout"
        }
      ]
    },
    {
      "cell_type": "code",
      "metadata": {
        "id": "uHFUWIMrkPP-",
        "colab_type": "code",
        "colab": {
          "base_uri": "https://localhost:8080/",
          "height": 181
        },
        "outputId": "50f16c49-a988-4d7d-e18c-f01e1673f2d4"
      },
      "source": [
        "print(type(mnist2.train), type(mnist2.test))\n",
        "print(type(mnist2.validation), type(mnist2.index))\n",
        "# train 데이터 셋\n",
        "print(type(mnist2.train.images), type(mnist2.train.labels))\n",
        "# test 데이터 셋\n",
        "print(type(mnist2.test.images), type(mnist2.test.labels))\n",
        "# validation 데이터 셋\n",
        "print(type(mnist2.validation.images), type(mnist2.validation.labels))\n",
        "# 데이터 셋 크기\n",
        "print(mnist2.train.images.shape, mnist2.train.labels.shape)\n",
        "print(mnist2.test.images.shape, mnist2.test.labels.shape)\n",
        "print(mnist2.validation.images.shape, mnist2.validation.labels.shape)"
      ],
      "execution_count": 15,
      "outputs": [
        {
          "output_type": "stream",
          "text": [
            "<class 'tensorflow.contrib.learn.python.learn.datasets.mnist.DataSet'> <class 'tensorflow.contrib.learn.python.learn.datasets.mnist.DataSet'>\n",
            "<class 'tensorflow.contrib.learn.python.learn.datasets.mnist.DataSet'> <class 'builtin_function_or_method'>\n",
            "<class 'numpy.ndarray'> <class 'numpy.ndarray'>\n",
            "<class 'numpy.ndarray'> <class 'numpy.ndarray'>\n",
            "<class 'numpy.ndarray'> <class 'numpy.ndarray'>\n",
            "(55000, 784) (55000, 10)\n",
            "(10000, 784) (10000, 10)\n",
            "(5000, 784) (5000, 10)\n"
          ],
          "name": "stdout"
        }
      ]
    },
    {
      "cell_type": "markdown",
      "metadata": {
        "id": "iKXxkmMmmXgd",
        "colab_type": "text"
      },
      "source": [
        "## 데이터 셋 불러오기(3)"
      ]
    },
    {
      "cell_type": "code",
      "metadata": {
        "id": "T2zpe5Q1k2JS",
        "colab_type": "code",
        "colab": {
          "base_uri": "https://localhost:8080/",
          "height": 53
        },
        "outputId": "83875400-aab0-418e-8868-b972f68225aa"
      },
      "source": [
        "from keras.datasets import mnist\n",
        "\n",
        "((x_train, y_train), (x_test, y_test)) = mnist.load_data()\n",
        "\n",
        "print(x_train.shape, x_test.shape)\n",
        "print(y_train.shape, y_test.shape)\n"
      ],
      "execution_count": 29,
      "outputs": [
        {
          "output_type": "stream",
          "text": [
            "(60000, 28, 28) (10000, 28, 28)\n",
            "(60000,) (10000,)\n"
          ],
          "name": "stdout"
        }
      ]
    },
    {
      "cell_type": "code",
      "metadata": {
        "id": "7Nq28WT_oKEG",
        "colab_type": "code",
        "colab": {}
      },
      "source": [
        "import matplotlib.pyplot as plt"
      ],
      "execution_count": 0,
      "outputs": []
    },
    {
      "cell_type": "code",
      "metadata": {
        "id": "04pAFwM2pfll",
        "colab_type": "code",
        "colab": {
          "base_uri": "https://localhost:8080/",
          "height": 315
        },
        "outputId": "a58f46a8-401c-4906-ad18-74a57ea33030"
      },
      "source": [
        "figure = plt.figure()\n",
        "figure.set_size_inches(12,5)\n",
        "\n",
        "axes = []\n",
        "for i in range(1,11):\n",
        "  axes.append(figure.add_subplot(2,5,i))\n",
        "\n",
        "for i in range(10):\n",
        "  axes [i].matshow(x_train[i])"
      ],
      "execution_count": 33,
      "outputs": [
        {
          "output_type": "display_data",
          "data": {
            "image/png": "[encoded data removed]",
            "text/plain": [
              "<Figure size 864x360 with 10 Axes>"
            ]
          },
          "metadata": {
            "tags": []
          }
        }
      ]
    },
    {
      "cell_type": "code",
      "metadata": {
        "id": "vMvphK1itK9U",
        "colab_type": "code",
        "colab": {
          "base_uri": "https://localhost:8080/",
          "height": 167
        },
        "outputId": "d5bffff6-66c6-4f2d-aa6e-4411a328558d"
      },
      "source": [
        "figure = plt.figure()\n",
        "figure.set_size_inches(12,5)\n",
        "\n",
        "axes = []\n",
        "\n",
        "for i in range(1,2):\n",
        "  axes.append(figure.add_subplot(2,5,i))\n",
        "\n",
        "for i in range(1):\n",
        "  axes[i].matshow(x_train[i])"
      ],
      "execution_count": 44,
      "outputs": [
        {
          "output_type": "display_data",
          "data": {
            "image/png": "[encoded data removed]",
            "text/plain": [
              "<Figure size 864x360 with 1 Axes>"
            ]
          },
          "metadata": {
            "tags": []
          }
        }
      ]
    },
    {
      "cell_type": "markdown",
      "metadata": {
        "id": "g3TITYvzwmN4",
        "colab_type": "text"
      },
      "source": [
        "## 데이터변환하기"
      ]
    },
    {
      "cell_type": "code",
      "metadata": {
        "id": "dUtzJCy8uEAp",
        "colab_type": "code",
        "colab": {
          "base_uri": "https://localhost:8080/",
          "height": 89
        },
        "outputId": "e4b89397-8832-4b7a-d27e-f269ef0d985e"
      },
      "source": [
        "print(X_train.shape)\n",
        "X_train = X_train.reshape(60000, 28*28)\n",
        "print(x_train.shape)\n",
        "\n",
        "\n",
        "print(x_test.shape)\n",
        "x_test = x_test.reshape(10000, 28 * 28)\n",
        "print(x_test.shape) # 28,28을 1차원 784로 만들어줌"
      ],
      "execution_count": 45,
      "outputs": [
        {
          "output_type": "stream",
          "text": [
            "(60000, 28, 28)\n",
            "(60000, 28, 28)\n",
            "(10000, 28, 28)\n",
            "(10000, 784)\n"
          ],
          "name": "stdout"
        }
      ]
    },
    {
      "cell_type": "code",
      "metadata": {
        "id": "8pvoAjOIw3sy",
        "colab_type": "code",
        "colab": {
          "base_uri": "https://localhost:8080/",
          "height": 89
        },
        "outputId": "56b7d5f2-d586-4fde-8131-553783359ace"
      },
      "source": [
        "print(y_train.shape)\n",
        "y_train_hot = np.eye(10)[y_train]\n",
        "print(y_train_hot.shape)\n",
        "\n",
        "\n",
        "print(y_test.shape)\n",
        "y_test_hot = np.eye(10)[y_test]\n",
        "print(y_test_hot.shape)"
      ],
      "execution_count": 46,
      "outputs": [
        {
          "output_type": "stream",
          "text": [
            "(60000,)\n",
            "(60000, 10)\n",
            "(10000,)\n",
            "(10000, 10)\n"
          ],
          "name": "stdout"
        }
      ]
    },
    {
      "cell_type": "code",
      "metadata": {
        "id": "adM4ufgexQiw",
        "colab_type": "code",
        "colab": {}
      },
      "source": [
        ""
      ],
      "execution_count": 0,
      "outputs": []
    }
  ]
}