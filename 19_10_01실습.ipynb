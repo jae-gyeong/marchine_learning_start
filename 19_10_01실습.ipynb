{
  "nbformat": 4,
  "nbformat_minor": 0,
  "metadata": {
    "colab": {
      "name": "19-10-01실습.ipynb",
      "provenance": [],
      "collapsed_sections": [],
      "include_colab_link": true
    },
    "kernelspec": {
      "name": "python3",
      "display_name": "Python 3"
    }
  },
  "cells": [
    {
      "cell_type": "markdown",
      "metadata": {
        "id": "view-in-github",
        "colab_type": "text"
      },
      "source": [
        "<a href=\"https://colab.research.google.com/github/jae-gyeong/marchine_learning_start/blob/master/19_10_01%EC%8B%A4%EC%8A%B5.ipynb\" target=\"_parent\"><img src=\"https://colab.research.google.com/assets/colab-badge.svg\" alt=\"Open In Colab\"/></a>"
      ]
    },
    {
      "cell_type": "code",
      "metadata": {
        "id": "8qESZHRSR_f0",
        "colab_type": "code",
        "colab": {}
      },
      "source": [
        "# tensorflow import\n",
        "import tensorflow as tf"
      ],
      "execution_count": 0,
      "outputs": []
    },
    {
      "cell_type": "code",
      "metadata": {
        "id": "30VODPNiSMkj",
        "colab_type": "code",
        "colab": {}
      },
      "source": [
        "# 학습할 데이터 지정\n",
        "x_data = [1,2,3,4,5]\n",
        "y_data = [10,20,30,40,50]"
      ],
      "execution_count": 0,
      "outputs": []
    },
    {
      "cell_type": "code",
      "metadata": {
        "id": "MS2HSChsSOLK",
        "colab_type": "code",
        "colab": {}
      },
      "source": [
        "# 가중치와 바이어스를 -1~1사이의 균등분포 값을 갖는 무작위 값으로 설정\n",
        "W = tf.Variable(tf.random_uniform([1], -1.0, 1.0))\n",
        "b = tf.Variable(tf.random_uniform([1], -1.0, 1.0))"
      ],
      "execution_count": 0,
      "outputs": []
    },
    {
      "cell_type": "code",
      "metadata": {
        "id": "75Nsjr-FSZGa",
        "colab_type": "code",
        "colab": {
          "base_uri": "https://localhost:8080/",
          "height": 35
        },
        "outputId": "7d3144ce-5bbc-4c8c-bb2c-bb77467fdc47"
      },
      "source": [
        "print(W)"
      ],
      "execution_count": 5,
      "outputs": [
        {
          "output_type": "stream",
          "text": [
            "<tf.Variable 'Variable:0' shape=(1,) dtype=float32_ref>\n"
          ],
          "name": "stdout"
        }
      ]
    },
    {
      "cell_type": "code",
      "metadata": {
        "id": "EAbj7eNtSpa6",
        "colab_type": "code",
        "colab": {
          "base_uri": "https://localhost:8080/",
          "height": 35
        },
        "outputId": "2a237e95-504e-43b8-9eaa-23a7a631b0b4"
      },
      "source": [
        "print(b)"
      ],
      "execution_count": 6,
      "outputs": [
        {
          "output_type": "stream",
          "text": [
            "<tf.Variable 'Variable_1:0' shape=(1,) dtype=float32_ref>\n"
          ],
          "name": "stdout"
        }
      ]
    },
    {
      "cell_type": "code",
      "metadata": {
        "id": "iqZs44csSqKZ",
        "colab_type": "code",
        "colab": {
          "base_uri": "https://localhost:8080/",
          "height": 53
        },
        "outputId": "67bdaaf5-1ac4-4b9c-9c50-7eb786f589ef"
      },
      "source": [
        "# 플레이스 홀더 설정(값을 넣을 빈 공간을 만든다. 실수가 들어갈 수 있고, 그 공간의 이름을 X, Y로 한다\n",
        "X = tf.placeholder(tf.float32, name='X')\n",
        "Y = tf.placeholder(tf.float32, name='Y')\n",
        "print(X)\n",
        "print(Y)"
      ],
      "execution_count": 7,
      "outputs": [
        {
          "output_type": "stream",
          "text": [
            "Tensor(\"X:0\", dtype=float32)\n",
            "Tensor(\"Y:0\", dtype=float32)\n"
          ],
          "name": "stdout"
        }
      ]
    },
    {
      "cell_type": "code",
      "metadata": {
        "id": "d5YxtXIsStgn",
        "colab_type": "code",
        "colab": {}
      },
      "source": [
        "# score 함수 만들기\n",
        "# 선형관계의 수식을 작성.\n",
        "# W : 가중치(Weight), b : 편향(bias)\n",
        "score = W*X+b"
      ],
      "execution_count": 0,
      "outputs": []
    },
    {
      "cell_type": "code",
      "metadata": {
        "id": "P6cQ2IBkS52q",
        "colab_type": "code",
        "colab": {
          "base_uri": "https://localhost:8080/",
          "height": 35
        },
        "outputId": "faea785e-487b-4094-ddd0-0f0a8a1bd693"
      },
      "source": [
        "# 손실함수(loss function) 만들기, simple한 loss function 사용.\n",
        "# score에서 실제 Y값을 뺀 것의 제곱의 평균을 loss로 사용하겠다.\n",
        "loss = tf.reduce_mean(tf.square(score - Y))\n",
        "loss"
      ],
      "execution_count": 11,
      "outputs": [
        {
          "output_type": "execute_result",
          "data": {
            "text/plain": [
              "<tf.Tensor 'Mean:0' shape=() dtype=float32>"
            ]
          },
          "metadata": {
            "tags": []
          },
          "execution_count": 11
        }
      ]
    },
    {
      "cell_type": "code",
      "metadata": {
        "id": "BJIybrwCS-8H",
        "colab_type": "code",
        "colab": {
          "base_uri": "https://localhost:8080/",
          "height": 35
        },
        "outputId": "db4c05b0-2556-4a1f-a83c-9979804fc458"
      },
      "source": [
        "# 최적화 함수(경사하강법)\n",
        "# GradientDescentOptimizer 객체 만들기\n",
        "# learning_rate는 학습 속도로 0.01로 주겠다.\n",
        "optimizer = tf.train.GradientDescentOptimizer(learning_rate=0.01)\n",
        "# GradientDescentOptimizer에 최적화 방법을 loss가 최소가 되게하는 minimize() 메서드 사용하기\n",
        "train_op = optimizer.minimize(loss)\n",
        "train_op"
      ],
      "execution_count": 13,
      "outputs": [
        {
          "output_type": "execute_result",
          "data": {
            "text/plain": [
              "<tf.Operation 'GradientDescent' type=NoOp>"
            ]
          },
          "metadata": {
            "tags": []
          },
          "execution_count": 13
        }
      ]
    },
    {
      "cell_type": "code",
      "metadata": {
        "id": "LsvFty-YS_Co",
        "colab_type": "code",
        "colab": {
          "base_uri": "https://localhost:8080/",
          "height": 156
        },
        "outputId": "6b435e7f-17e6-4b11-cab6-3381c3802c43"
      },
      "source": [
        "# with tf.Session() as sess:\n",
        "#  sess.run(tf.global_variables_initializer())\n",
        "\n",
        "#  for step in range(100):\n",
        "#    _, _val = sess.run([train_op, cost], feed_dict={X:x_data, Y:y_data})\n",
        "#    print(step, \"Cost = %-10.5f\" % cost_val, \"W = %10.6f\" % sess.run(W), \"B = %10.6f \" % sess.run(b)\n",
        "      \n",
        "      \n",
        "# # 세션을 with구문으로 열자.\n",
        "with tf.Session() as sess:\n",
        "# # 값을 초기화 하는 함수를 먼저 실행한다.\n",
        "  sess.run(tf.global_variables_initializer())\n",
        "# # training data로 101번 학습 시키기\n",
        "# # 학습시 경사하강법을 최적화 함수로 사용하고, loss 값을 최소가 되게 만든다.\n",
        "# # 데이터는 플레이스홀더 X에는 x_data를 넣어주고\n",
        "# # 플레이스 홀더 Y에는 y_data를 넣어준다.\n",
        "# # 값을 2개 반환 받게 되는데 loss값만 loss_val 변수로 저장하자.\n",
        "  for step in range(100):\n",
        "    _, loss_val = sess.run([train_op, cost], feed_dict={X:x_data, Y:y_data})\n",
        "    print(step, 'Loss = %-10.5f' % loss_val, 'W = %10.6f' % sess.run(W), 'B = %10.6f' % sess.run(b)# 횟수, cost, W, B 찍어보기\n"
      ],
      "execution_count": 35,
      "outputs": [
        {
          "output_type": "error",
          "ename": "SyntaxError",
          "evalue": "ignored",
          "traceback": [
            "\u001b[0;36m  File \u001b[0;32m\"<ipython-input-35-065539e811e0>\"\u001b[0;36m, line \u001b[0;32m11\u001b[0m\n\u001b[0;31m    print(step, 'Loss = %-10.5f' % loss_val, 'W = %10.6f' % sess.run(W), 'B = %10.6f' % sess.run(b)# 횟수, cost, W, B 찍어보기\u001b[0m\n\u001b[0m                                                                                                                        ^\u001b[0m\n\u001b[0;31mSyntaxError\u001b[0m\u001b[0;31m:\u001b[0m unexpected EOF while parsing\n"
          ]
        }
      ]
    },
    {
      "cell_type": "code",
      "metadata": {
        "id": "HrcBNjvDTA3f",
        "colab_type": "code",
        "colab": {
          "base_uri": "https://localhost:8080/",
          "height": 244
        },
        "outputId": "ce79b034-6abd-405c-f892-39bb37cd8fd1"
      },
      "source": [
        "# 세션을 with구문으로 열자.\n",
        "with tf.Session() as sess:\n",
        "# 값을 초기화 하는 함수를 먼저 실행한다.\n",
        "  sess.run(tf.global_variables_initializer())\n",
        "# 0~1000 까지 1001번 학습시킨다.\n",
        "# 학습시 경사하강법을 최적화 함수로 사용하고, loss 값을 최소가 되게 만든다.\n",
        "# 데이터는 플레이스홀더 X에는 x_data를 넣어주고\n",
        "# 플레이스 홀더 Y에는 y_data를 넣어준다.\n",
        "# 값을 2개 반환 받게 되는데 loss값만 loss_val 변수로 저장하자.\n",
        "  for step in range(1001):\n",
        "    _, loss_val = sess.run([train_op, cost], feed_dict = {X:x_data, Y:y_data})\n",
        "# 10번마다 횟수, loss값, W값, b값을 확인해보자.\n",
        "    if step%10 ==0:\n",
        "      print(step, loss_val, sess.run(W), sess.run(b))\n",
        "print('Y = {Weight} * X + {Bias}'.format(Weight = sess.run(W), Bias = sess.run(b)))\n",
        "# score 함수에 x값으로 5를 넣어 예측되는 Y값을 보자. X라는 플레이스홀더를 이용하자.\n",
        "print('X:5, Y:', sess.run(hypothesis, feed_dict={X:2.5}))\n",
        "# score 함수에 x값으로 2.5를 넣어 예측되는 Y값을 보자. X라는 플레이스홀더를 이용하자.\n",
        "print('X:2.5, Y:', sess.run(hypothesis, feed_dict={X:2.5}))"
      ],
      "execution_count": 21,
      "outputs": [
        {
          "output_type": "error",
          "ename": "NameError",
          "evalue": "ignored",
          "traceback": [
            "\u001b[0;31m---------------------------------------------------------------------------\u001b[0m",
            "\u001b[0;31mNameError\u001b[0m                                 Traceback (most recent call last)",
            "\u001b[0;32m<ipython-input-21-e87d57dec324>\u001b[0m in \u001b[0;36m<module>\u001b[0;34m()\u001b[0m\n\u001b[1;32m      8\u001b[0m \u001b[0;31m# 값을 2개 반환 받게 되는데 loss값만 loss_val 변수로 저장하자.\u001b[0m\u001b[0;34m\u001b[0m\u001b[0;34m\u001b[0m\u001b[0;34m\u001b[0m\u001b[0m\n\u001b[1;32m      9\u001b[0m   \u001b[0;32mfor\u001b[0m \u001b[0mstep\u001b[0m \u001b[0;32min\u001b[0m \u001b[0mrange\u001b[0m\u001b[0;34m(\u001b[0m\u001b[0;36m1001\u001b[0m\u001b[0;34m)\u001b[0m\u001b[0;34m:\u001b[0m\u001b[0;34m\u001b[0m\u001b[0;34m\u001b[0m\u001b[0m\n\u001b[0;32m---> 10\u001b[0;31m     \u001b[0m_\u001b[0m\u001b[0;34m,\u001b[0m \u001b[0mloss_val\u001b[0m \u001b[0;34m=\u001b[0m \u001b[0msess\u001b[0m\u001b[0;34m.\u001b[0m\u001b[0mrun\u001b[0m\u001b[0;34m(\u001b[0m\u001b[0;34m[\u001b[0m\u001b[0mtrain_op\u001b[0m\u001b[0;34m,\u001b[0m \u001b[0mcost\u001b[0m\u001b[0;34m]\u001b[0m\u001b[0;34m,\u001b[0m \u001b[0mfeed_dict\u001b[0m \u001b[0;34m=\u001b[0m \u001b[0;34m{\u001b[0m\u001b[0mX\u001b[0m\u001b[0;34m:\u001b[0m\u001b[0mx_data\u001b[0m\u001b[0;34m,\u001b[0m \u001b[0mY\u001b[0m\u001b[0;34m:\u001b[0m\u001b[0my_data\u001b[0m\u001b[0;34m}\u001b[0m\u001b[0;34m)\u001b[0m\u001b[0;34m\u001b[0m\u001b[0;34m\u001b[0m\u001b[0m\n\u001b[0m\u001b[1;32m     11\u001b[0m \u001b[0;31m# 10번마다 횟수, loss값, W값, b값을 확인해보자.\u001b[0m\u001b[0;34m\u001b[0m\u001b[0;34m\u001b[0m\u001b[0;34m\u001b[0m\u001b[0m\n\u001b[1;32m     12\u001b[0m     \u001b[0;32mif\u001b[0m \u001b[0mstep\u001b[0m\u001b[0;34m%\u001b[0m\u001b[0;36m10\u001b[0m \u001b[0;34m==\u001b[0m\u001b[0;36m0\u001b[0m\u001b[0;34m:\u001b[0m\u001b[0;34m\u001b[0m\u001b[0;34m\u001b[0m\u001b[0m\n",
            "\u001b[0;31mNameError\u001b[0m: name 'cost' is not defined"
          ]
        }
      ]
    },
    {
      "cell_type": "code",
      "metadata": {
        "id": "ZMqJPPGeTA6g",
        "colab_type": "code",
        "colab": {}
      },
      "source": [
        ""
      ],
      "execution_count": 0,
      "outputs": []
    }
  ]
}