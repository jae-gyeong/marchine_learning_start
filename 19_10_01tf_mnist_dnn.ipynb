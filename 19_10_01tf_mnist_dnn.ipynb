{
  "nbformat": 4,
  "nbformat_minor": 0,
  "metadata": {
    "colab": {
      "name": "19-10-01tf_mnist_dnn.ipynb",
      "provenance": [],
      "include_colab_link": true
    },
    "kernelspec": {
      "name": "python3",
      "display_name": "Python 3"
    }
  },
  "cells": [
    {
      "cell_type": "markdown",
      "metadata": {
        "id": "view-in-github",
        "colab_type": "text"
      },
      "source": [
        "<a href=\"https://colab.research.google.com/github/jae-gyeong/marchine_learning_start/blob/master/19_10_01tf_mnist_dnn.ipynb\" target=\"_parent\"><img src=\"https://colab.research.google.com/assets/colab-badge.svg\" alt=\"Open In Colab\"/></a>"
      ]
    },
    {
      "cell_type": "markdown",
      "metadata": {
        "id": "VwKCrIbvzyft",
        "colab_type": "text"
      },
      "source": [
        "## 심층 신경망 구성\n",
        "\n",
        "### 학습 내용\n",
        "- MNIST 데이터 셋을 이용하여 심층 신경망을 구현한다.\n",
        "- 은닉층이 2개인 신경망을 구현한다.\n"
      ]
    },
    {
      "cell_type": "code",
      "metadata": {
        "id": "h2J9UimYzsZ3",
        "colab_type": "code",
        "colab": {}
      },
      "source": [
        "import tensorflow as tf"
      ],
      "execution_count": 0,
      "outputs": []
    },
    {
      "cell_type": "code",
      "metadata": {
        "id": "q8tLz9oMz7fD",
        "colab_type": "code",
        "colab": {}
      },
      "source": [
        "import os, warnings\n",
        "# 경고 메시지 무시하거나 숨길때(ignore), 다시보이게(default)\n",
        "# warnings.filterwarnings(action='default')\n",
        "warnings.filterwarnings(action='ignore')\n"
      ],
      "execution_count": 0,
      "outputs": []
    },
    {
      "cell_type": "code",
      "metadata": {
        "id": "F9aWI7BU2UZK",
        "colab_type": "code",
        "colab": {
          "base_uri": "https://localhost:8080/",
          "height": 89
        },
        "outputId": "f8064809-868e-4797-e5bc-d02972e8391f"
      },
      "source": [
        "# 데이터 불러오기\n",
        "from tensorflow.examples.tutorials.mnist import input_data\n",
        "mnist = input_data.read_data_sets(\"./mnist/data/\", one_hot=True)\n"
      ],
      "execution_count": 25,
      "outputs": [
        {
          "output_type": "stream",
          "text": [
            "Extracting ./mnist/data/train-images-idx3-ubyte.gz\n",
            "Extracting ./mnist/data/train-labels-idx1-ubyte.gz\n",
            "Extracting ./mnist/data/t10k-images-idx3-ubyte.gz\n",
            "Extracting ./mnist/data/t10k-labels-idx1-ubyte.gz\n"
          ],
          "name": "stdout"
        }
      ]
    },
    {
      "cell_type": "code",
      "metadata": {
        "id": "cvMEMuuo2YqW",
        "colab_type": "code",
        "colab": {
          "base_uri": "https://localhost:8080/",
          "height": 89
        },
        "outputId": "daf8e313-1abd-442c-d797-77542bc5aeae"
      },
      "source": [
        "# 데이터의 개수\n",
        "print(mnist.test.num_examples, mnist.train.num_examples, mnist.validation.num_examples)\n",
        "# 데이터의 행열 사이즈\n",
        "print(mnist.train.labels.shape, mnist.train.images.shape)\n",
        "print(mnist.test.labels.shape, mnist.test.images.shape)\n",
        "print(mnist.validation.labels.shape, mnist.validation.images.shape)"
      ],
      "execution_count": 26,
      "outputs": [
        {
          "output_type": "stream",
          "text": [
            "10000 55000 5000\n",
            "(55000, 10) (55000, 784)\n",
            "(10000, 10) (10000, 784)\n",
            "(5000, 10) (5000, 784)\n"
          ],
          "name": "stdout"
        }
      ]
    },
    {
      "cell_type": "markdown",
      "metadata": {
        "id": "XQDgzgdR2bb0",
        "colab_type": "text"
      },
      "source": [
        "## 01 신경망 모델 구성하기\n",
        "- MNIST의 손글씨는 28 X 28로 구성되어 있다.\n",
        "- 784개의 특징(픽셀)로 구성되어 있음.\n",
        "- 레이블은 0~9까지의 10개의 분류"
      ]
    },
    {
      "cell_type": "markdown",
      "metadata": {
        "id": "6c3iZL_b4A3t",
        "colab_type": "text"
      },
      "source": [
        "### 신경망 모델 구성하기\n",
        "* 입력층 - 784 노드(unit)\n",
        "* 은닉층(3개층) - 64노드(unit)\n",
        "* 출력층(범주10개) - 10노드(unit)"
      ]
    },
    {
      "cell_type": "code",
      "metadata": {
        "id": "XF0IoQaM8H6R",
        "colab_type": "code",
        "colab": {}
      },
      "source": [
        "X = tf.placeholder(tf.float32, [None, 784])\n",
        "Y = tf.placeholder(tf.float32, [None, 10])\n"
      ],
      "execution_count": 0,
      "outputs": []
    },
    {
      "cell_type": "markdown",
      "metadata": {
        "id": "_fLwexIX2h9E",
        "colab_type": "text"
      },
      "source": [
        "- tf.Variable(tf.random_normal([784, 256], stddev=0.01))\n",
        "- 표준편차가 0.01인 정규 분포를 갖는 값.\n",
        "- tf.matmul() 각 계층으로 들어오는 입력값에 각각의 가중치를 곱한다.\n",
        "- tf.nn.relu() 활성화 함수로 ReLU를 사용하는 신경망 계층을 만든다."
      ]
    },
    {
      "cell_type": "code",
      "metadata": {
        "id": "EQZssTZc7Le0",
        "colab_type": "code",
        "colab": {
          "base_uri": "https://localhost:8080/",
          "height": 53
        },
        "outputId": "50a959e7-db30-4d24-c72f-7e70ad9e53c1"
      },
      "source": [
        "W1 = tf.Variable(tf.random_normal([784,64], stddev=0.01))\n",
        "L1 = tf.nn.relu(tf.matmul(X, W1))\n",
        "\n",
        "W2 = tf.Variable(tf.random_normal([64,64], stddev=0.01))\n",
        "L2 = tf.nn.relu(tf.matmul(L1, W2))\n",
        "\n",
        "W3 = tf.Variable(tf.random_normal([64,64], stddev=0.01))\n",
        "L3 = tf.nn.relu(tf.matmul(L2, W3))\n",
        "\n",
        "W4 = tf.Variable(tf.random_normal([64,10], stddev=0.01))\n",
        "model = tf.nn.relu(tf.matmul(L3, W4))\n",
        "\n",
        "print(W4)\n",
        "print(model)\n"
      ],
      "execution_count": 59,
      "outputs": [
        {
          "output_type": "stream",
          "text": [
            "<tf.Variable 'Variable_25:0' shape=(64, 10) dtype=float32_ref>\n",
            "Tensor(\"Relu_21:0\", shape=(?, 10), dtype=float32)\n"
          ],
          "name": "stdout"
        }
      ]
    },
    {
      "cell_type": "markdown",
      "metadata": {
        "id": "d5sNR_KI2pJ1",
        "colab_type": "text"
      },
      "source": [
        "## 비용함수, 최적화 함수 지정\n",
        "#### AdamOptimizer (Adaptive Moment Estimation)은 RMSProp와 Momentum방식을 합친 것.\n"
      ]
    },
    {
      "cell_type": "code",
      "metadata": {
        "id": "EdeXNfV12nJI",
        "colab_type": "code",
        "colab": {}
      },
      "source": [
        "# old 버전 : cost = tf.reduce_mean(tf.nn.softmax_cross_entropy_with_logits(logits=model, labels=Y))\n",
        "cost = tf.reduce_mean(tf.nn.softmax_cross_entropy_with_logits_v2(logits=model, labels=Y))\n",
        "optimizer = tf.train.AdamOptimizer(0.001).minimize(cost) #learning rate - 0.001\n"
      ],
      "execution_count": 0,
      "outputs": []
    },
    {
      "cell_type": "markdown",
      "metadata": {
        "id": "xTY7J4YY9t1T",
        "colab_type": "text"
      },
      "source": [
        "## 세션 생성 및 초기화"
      ]
    },
    {
      "cell_type": "code",
      "metadata": {
        "id": "KWmYulXi2tAB",
        "colab_type": "code",
        "colab": {}
      },
      "source": [
        "init = tf.global_variables_initializer()\n",
        "sess = tf.Session()\n",
        "sess.run(init)"
      ],
      "execution_count": 0,
      "outputs": []
    },
    {
      "cell_type": "markdown",
      "metadata": {
        "id": "h0H8uMKO_COS",
        "colab_type": "text"
      },
      "source": [
        "### 테스트 데이터와 학습 데이터를 분류하는 이유\n",
        "- 과적합 해소\n",
        "\n",
        "## 배치 사이즈 지정\n",
        "- Mini-batch 크기가 전체 트레이닝 셋 데이터 사이즈인 m과 같다면 이것은 Batch gradient descent방법\n",
        "   - 데이터가 별로 없다면 batch gradient descent를 사용\n",
        "- Mini-batch 크기가 1이라면 Stochastic gradient descent라고 한다.\n",
        "  - 적은 메모리로 동작가능\n",
        "  - 64,128, 256, 512 사이즈 선택"
      ]
    },
    {
      "cell_type": "code",
      "metadata": {
        "id": "AwwI76ZH-_R9",
        "colab_type": "code",
        "colab": {
          "base_uri": "https://localhost:8080/",
          "height": 1000
        },
        "outputId": "048375d0-0427-4340-e76d-75e1c51af8d8"
      },
      "source": [
        "# MNIST 데이터 전체를 학습하는 일을 15번 반복함.\n",
        "# 학습 데이터 전체를 한 바퀴를 도는 일을 에포크(epoch)라 한다.\n",
        "total_cost = 0\n",
        "\n",
        "\n",
        "for i in range(55):\n",
        "  # 배치 사이즈만큼 데이터 가져오기\n",
        "  batch_xs, batch_ys = mnist.train.next_batch(1000) # 55000개를 1000개로 끊을 것\n",
        "  # 입력값 : batch_xs, 출력값 : batch_ys\n",
        "  # 최적화를 수행 후, 손실을 구한다.\n",
        "\n",
        "  _, cost_val = sess.run([optimizer, cost], feed_dict={X:batch_xs, Y:batch_ys}) # 학습\n",
        "  \n",
        " # 총loss 계산 - 55번 돌아가면서 발생된 cost \n",
        "  total_cost = total_cost + cost_val   # 한 epoch의 전체 평균을 구하기 위헤\n",
        "  print(\"한번 학습시의 cost\", cost_val )\n",
        "\n",
        "print(\"1 Epoch 평균 cost : {:.3f}\".format(total_cost/55))"
      ],
      "execution_count": 63,
      "outputs": [
        {
          "output_type": "stream",
          "text": [
            "한번 학습시의 cost 1.5988723\n",
            "한번 학습시의 cost 1.536323\n",
            "한번 학습시의 cost 1.5227116\n",
            "한번 학습시의 cost 1.4990913\n",
            "한번 학습시의 cost 1.5518794\n",
            "한번 학습시의 cost 1.5308081\n",
            "한번 학습시의 cost 1.4950247\n",
            "한번 학습시의 cost 1.4738364\n",
            "한번 학습시의 cost 1.5248457\n",
            "한번 학습시의 cost 1.4922622\n",
            "한번 학습시의 cost 1.4841309\n",
            "한번 학습시의 cost 1.4782499\n",
            "한번 학습시의 cost 1.4090122\n",
            "한번 학습시의 cost 1.4331775\n",
            "한번 학습시의 cost 1.4056135\n",
            "한번 학습시의 cost 1.4321853\n",
            "한번 학습시의 cost 1.3825121\n",
            "한번 학습시의 cost 1.3447976\n",
            "한번 학습시의 cost 1.376944\n",
            "한번 학습시의 cost 1.3111184\n",
            "한번 학습시의 cost 1.3282696\n",
            "한번 학습시의 cost 1.2667658\n",
            "한번 학습시의 cost 1.3374208\n",
            "한번 학습시의 cost 1.305078\n",
            "한번 학습시의 cost 1.285548\n",
            "한번 학습시의 cost 1.2967273\n",
            "한번 학습시의 cost 1.2904038\n",
            "한번 학습시의 cost 1.2693616\n",
            "한번 학습시의 cost 1.2918152\n",
            "한번 학습시의 cost 1.2991042\n",
            "한번 학습시의 cost 1.2574854\n",
            "한번 학습시의 cost 1.2598054\n",
            "한번 학습시의 cost 1.1786697\n",
            "한번 학습시의 cost 1.2281739\n",
            "한번 학습시의 cost 1.234719\n",
            "한번 학습시의 cost 1.1838328\n",
            "한번 학습시의 cost 1.219078\n",
            "한번 학습시의 cost 1.2055799\n",
            "한번 학습시의 cost 1.1948063\n",
            "한번 학습시의 cost 1.1894933\n",
            "한번 학습시의 cost 1.2377994\n",
            "한번 학습시의 cost 1.1805483\n",
            "한번 학습시의 cost 1.1567215\n",
            "한번 학습시의 cost 1.2205222\n",
            "한번 학습시의 cost 1.2280056\n",
            "한번 학습시의 cost 1.17119\n",
            "한번 학습시의 cost 1.0978149\n",
            "한번 학습시의 cost 1.0941559\n",
            "한번 학습시의 cost 1.2013494\n",
            "한번 학습시의 cost 1.1545147\n",
            "한번 학습시의 cost 1.0888941\n",
            "한번 학습시의 cost 1.218388\n",
            "한번 학습시의 cost 1.1432973\n",
            "한번 학습시의 cost 1.0417008\n",
            "한번 학습시의 cost 1.1049383\n",
            "1 Epoch 평균 cost : 1.304\n"
          ],
          "name": "stdout"
        }
      ]
    },
    {
      "cell_type": "code",
      "metadata": {
        "id": "sd8da8XiEzVZ",
        "colab_type": "code",
        "colab": {}
      },
      "source": [
        "# batch_zixe 100 에폭 30 \n",
        "batch_size = 100\n",
        "total_batch = int(mnist.train.num_examples / batch_size)"
      ],
      "execution_count": 0,
      "outputs": []
    },
    {
      "cell_type": "code",
      "metadata": {
        "id": "VX6qLF1PCIfM",
        "colab_type": "code",
        "colab": {
          "base_uri": "https://localhost:8080/",
          "height": 557
        },
        "outputId": "45ee9157-f33f-49a3-f804-4249cc151aa5"
      },
      "source": [
        "for epoch in range(30):\n",
        "  total_cost = 0\n",
        "  \n",
        "  for i in range(total_batch):\n",
        "    batch_xs, batch_ys = mnist.train.next_batch(100) # 55000개를 100개로 끊을 것\n",
        "    _, cost_val = sess.run([optimizer, cost], feed_dict={X:batch_xs, Y:batch_ys}) # 학습\n",
        "\n",
        "   # 총loss 계산 - 55번 돌아가면서 발생된 cost \n",
        "    total_cost = total_cost + cost_val   # 한 epoch의 전체 평균을 구하기 위헤\n",
        "  print(\"Epoch : %4d\" %(epoch + 1), '평균 Cost = ', \"{:.3f}\".format(total_cost/100))\n",
        " # print(\"1 Epoch 평균 cost : {:.3f}\".format(total_cost/total_batch))"
      ],
      "execution_count": 80,
      "outputs": [
        {
          "output_type": "stream",
          "text": [
            "Epoch :    1 평균 Cost =  1.423\n",
            "Epoch :    2 평균 Cost =  1.437\n",
            "Epoch :    3 평균 Cost =  1.436\n",
            "Epoch :    4 평균 Cost =  1.426\n",
            "Epoch :    5 평균 Cost =  1.436\n",
            "Epoch :    6 평균 Cost =  1.416\n",
            "Epoch :    7 평균 Cost =  1.576\n",
            "Epoch :    8 평균 Cost =  1.461\n",
            "Epoch :    9 평균 Cost =  1.458\n",
            "Epoch :   10 평균 Cost =  1.435\n",
            "Epoch :   11 평균 Cost =  1.437\n",
            "Epoch :   12 평균 Cost =  1.486\n",
            "Epoch :   13 평균 Cost =  1.433\n",
            "Epoch :   14 평균 Cost =  1.478\n",
            "Epoch :   15 평균 Cost =  1.446\n",
            "Epoch :   16 평균 Cost =  1.432\n",
            "Epoch :   17 평균 Cost =  1.437\n",
            "Epoch :   18 평균 Cost =  1.426\n",
            "Epoch :   19 평균 Cost =  1.475\n",
            "Epoch :   20 평균 Cost =  1.483\n",
            "Epoch :   21 평균 Cost =  1.448\n",
            "Epoch :   22 평균 Cost =  1.452\n",
            "Epoch :   23 평균 Cost =  1.445\n",
            "Epoch :   24 평균 Cost =  1.452\n",
            "Epoch :   25 평균 Cost =  1.438\n",
            "Epoch :   26 평균 Cost =  1.465\n",
            "Epoch :   27 평균 Cost =  1.447\n",
            "Epoch :   28 평균 Cost =  1.449\n",
            "Epoch :   29 평균 Cost =  1.451\n",
            "Epoch :   30 평균 Cost =  1.452\n"
          ],
          "name": "stdout"
        }
      ]
    },
    {
      "cell_type": "code",
      "metadata": {
        "id": "z7xSRy0qGLx3",
        "colab_type": "code",
        "colab": {}
      },
      "source": [
        ""
      ],
      "execution_count": 0,
      "outputs": []
    }
  ]
}