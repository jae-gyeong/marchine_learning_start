{
  "nbformat": 4,
  "nbformat_minor": 0,
  "metadata": {
    "colab": {
      "name": "19-10-04_Drop_out.ipynb",
      "provenance": [],
      "collapsed_sections": [],
      "include_colab_link": true
    },
    "kernelspec": {
      "name": "python3",
      "display_name": "Python 3"
    },
    "accelerator": "GPU"
  },
  "cells": [
    {
      "cell_type": "markdown",
      "metadata": {
        "id": "view-in-github",
        "colab_type": "text"
      },
      "source": [
        "<a href=\"https://colab.research.google.com/github/jae-gyeong/marchine_learning_start/blob/master/19_10_04_Drop_out.ipynb\" target=\"_parent\"><img src=\"https://colab.research.google.com/assets/colab-badge.svg\" alt=\"Open In Colab\"/></a>"
      ]
    },
    {
      "cell_type": "markdown",
      "metadata": {
        "id": "QJEVrmISWHpQ",
        "colab_type": "text"
      },
      "source": [
        "# 01 Dropout(드롭아웃) 설명\n",
        "- 과적합의 이해 - 학습한 결과가 학습 데이터에는 매우 잘 맞지만, 학습 데이터에만 너무 꼭 맞춰져 있어, 그\n",
        "외의 데이터에는 잘 맞지 않음.\n",
        "- 학습시 전체 신경망 중 일부만을 사용하도록 하는 것.\n",
        "- 즉, 학습 단계마다 일부 뉴런을 제거(사용하지 않도록)함으로써, 일부 특징이 특정 뉴런에 고정되는 것을 막\n",
        "아 가중치의 균형을 잡도록 한다.\n",
        "- 학습 시 일부 뉴런을 학습시키지 않기 때문에 신경망이 충분히 학습되기까지의 시간은 조금 더 오래 걸리는\n",
        "편이다.\n"
      ]
    },
    {
      "cell_type": "code",
      "metadata": {
        "id": "kXqko0u1WMHi",
        "colab_type": "code",
        "colab": {}
      },
      "source": [
        "import tensorflow as tf"
      ],
      "execution_count": 0,
      "outputs": []
    },
    {
      "cell_type": "code",
      "metadata": {
        "id": "1zlubcRFWgiK",
        "colab_type": "code",
        "colab": {
          "base_uri": "https://localhost:8080/",
          "height": 577
        },
        "outputId": "8741392c-cb67-4337-bf62-2d37ce31c2cd"
      },
      "source": [
        "from tensorflow.examples.tutorials.mnist import input_data\n",
        "mnist = input_data.read_data_sets(\"./mnist/data/\", one_hot=True)\n",
        "type(mnist)"
      ],
      "execution_count": 2,
      "outputs": [
        {
          "output_type": "stream",
          "text": [
            "WARNING:tensorflow:From <ipython-input-2-5353b57003af>:2: read_data_sets (from tensorflow.contrib.learn.python.learn.datasets.mnist) is deprecated and will be removed in a future version.\n",
            "Instructions for updating:\n",
            "Please use alternatives such as official/mnist/dataset.py from tensorflow/models.\n",
            "WARNING:tensorflow:From /usr/local/lib/python3.6/dist-packages/tensorflow/contrib/learn/python/learn/datasets/mnist.py:260: maybe_download (from tensorflow.contrib.learn.python.learn.datasets.base) is deprecated and will be removed in a future version.\n",
            "Instructions for updating:\n",
            "Please write your own downloading logic.\n",
            "WARNING:tensorflow:From /usr/local/lib/python3.6/dist-packages/tensorflow/contrib/learn/python/learn/datasets/base.py:252: _internal_retry.<locals>.wrap.<locals>.wrapped_fn (from tensorflow.contrib.learn.python.learn.datasets.base) is deprecated and will be removed in a future version.\n",
            "Instructions for updating:\n",
            "Please use urllib or similar directly.\n",
            "Successfully downloaded train-images-idx3-ubyte.gz 9912422 bytes.\n",
            "WARNING:tensorflow:From /usr/local/lib/python3.6/dist-packages/tensorflow/contrib/learn/python/learn/datasets/mnist.py:262: extract_images (from tensorflow.contrib.learn.python.learn.datasets.mnist) is deprecated and will be removed in a future version.\n",
            "Instructions for updating:\n",
            "Please use tf.data to implement this functionality.\n",
            "Extracting ./mnist/data/train-images-idx3-ubyte.gz\n",
            "Successfully downloaded train-labels-idx1-ubyte.gz 28881 bytes.\n",
            "WARNING:tensorflow:From /usr/local/lib/python3.6/dist-packages/tensorflow/contrib/learn/python/learn/datasets/mnist.py:267: extract_labels (from tensorflow.contrib.learn.python.learn.datasets.mnist) is deprecated and will be removed in a future version.\n",
            "Instructions for updating:\n",
            "Please use tf.data to implement this functionality.\n",
            "Extracting ./mnist/data/train-labels-idx1-ubyte.gz\n",
            "WARNING:tensorflow:From /usr/local/lib/python3.6/dist-packages/tensorflow/contrib/learn/python/learn/datasets/mnist.py:110: dense_to_one_hot (from tensorflow.contrib.learn.python.learn.datasets.mnist) is deprecated and will be removed in a future version.\n",
            "Instructions for updating:\n",
            "Please use tf.one_hot on tensors.\n",
            "Successfully downloaded t10k-images-idx3-ubyte.gz 1648877 bytes.\n",
            "Extracting ./mnist/data/t10k-images-idx3-ubyte.gz\n",
            "Successfully downloaded t10k-labels-idx1-ubyte.gz 4542 bytes.\n",
            "Extracting ./mnist/data/t10k-labels-idx1-ubyte.gz\n",
            "WARNING:tensorflow:From /usr/local/lib/python3.6/dist-packages/tensorflow/contrib/learn/python/learn/datasets/mnist.py:290: DataSet.__init__ (from tensorflow.contrib.learn.python.learn.datasets.mnist) is deprecated and will be removed in a future version.\n",
            "Instructions for updating:\n",
            "Please use alternatives such as official/mnist/dataset.py from tensorflow/models.\n"
          ],
          "name": "stdout"
        },
        {
          "output_type": "execute_result",
          "data": {
            "text/plain": [
              "tensorflow.contrib.learn.python.learn.datasets.base.Datasets"
            ]
          },
          "metadata": {
            "tags": []
          },
          "execution_count": 2
        }
      ]
    },
    {
      "cell_type": "code",
      "metadata": {
        "id": "B8gRhB3ZW5Ta",
        "colab_type": "code",
        "colab": {
          "base_uri": "https://localhost:8080/",
          "height": 89
        },
        "outputId": "41399094-0208-4edf-d114-951b16b63291"
      },
      "source": [
        "# 데이터의 개수\n",
        "print(mnist.test.num_examples, mnist.train.num_examples, mnist.validation.num_examples)\n",
        "# 데이터의 행열 사이즈\n",
        "print(mnist.train.labels.shape, mnist.train.images.shape)\n",
        "print(mnist.test.labels.shape, mnist.test.images.shape)\n",
        "print(mnist.validation.labels.shape, mnist.validation.images.shape)\n"
      ],
      "execution_count": 3,
      "outputs": [
        {
          "output_type": "stream",
          "text": [
            "10000 55000 5000\n",
            "(55000, 10) (55000, 784)\n",
            "(10000, 10) (10000, 784)\n",
            "(5000, 10) (5000, 784)\n"
          ],
          "name": "stdout"
        }
      ]
    },
    {
      "cell_type": "markdown",
      "metadata": {
        "id": "kROEf5jSW-u_",
        "colab_type": "text"
      },
      "source": [
        "# 01-02 신경망 모델 구성하기\n",
        "- MNIST의 손글씨는 28 X 28로 구성되어 있다.\n",
        "- 784개의 특징(픽셀)로 구성되어 있음.\n",
        "- \n",
        "레이블은 0~9까지의 10개의 분류"
      ]
    },
    {
      "cell_type": "code",
      "metadata": {
        "id": "rPFJJOq4W83Y",
        "colab_type": "code",
        "colab": {}
      },
      "source": [
        "\n",
        "X = tf.placeholder(tf.float32, [None, 784])\n",
        "Y = tf.placeholder(tf.float32, [None, 10])"
      ],
      "execution_count": 0,
      "outputs": []
    },
    {
      "cell_type": "markdown",
      "metadata": {
        "id": "vX5hY2iZXGqe",
        "colab_type": "text"
      },
      "source": [
        "## 미니배치의 이해\n",
        "- 이미지를 하나씩 학습시키는 것보다 여러 개를 한꺼번에 학습시키는 쪽이 효과가 좋다.\n",
        "- 많은 메모리와 높은 컴퓨터 성능이 필요하므로 일반적으로 데이터를 적당한 크기로 잘라서 학습시킨다.\n",
        "미니배치라고 한다.\n",
        "- tf.float32, [None, 784] => None의 자리에는 한번에 학습시킬 이미지의 개수를 지정하는 값이 들어감., 즉 배\n",
        "치 크기를 지정하는 자리이다.\n"
      ]
    },
    {
      "cell_type": "markdown",
      "metadata": {
        "id": "lf4SqEOfXOH9",
        "colab_type": "text"
      },
      "source": [
        "### 신경망의 구성\n",
        "* 입력층 - 784(입력, 특징 개수) ->\n",
        "    \n",
        "     256(첫번째 은닉층 뉴런) ->\n",
        " \n",
        "     256(두번째 은닉층 뉴런)\n",
        "     \n",
        "     출력층 -> 10(결과값 0~9 분류 개수 )"
      ]
    },
    {
      "cell_type": "markdown",
      "metadata": {
        "id": "YvSWdIEDXePY",
        "colab_type": "text"
      },
      "source": [
        "### DROPOUT 적용\n",
        "tf.nn.dropout(Layer, 비율)"
      ]
    },
    {
      "cell_type": "code",
      "metadata": {
        "id": "nQ_Om6HmXFUJ",
        "colab_type": "code",
        "colab": {
          "base_uri": "https://localhost:8080/",
          "height": 127
        },
        "outputId": "70ff1215-d16e-4283-9620-08958870b5e0"
      },
      "source": [
        "keep_prob = tf.placeholder(tf.float32)\n",
        "W1 = tf.Variable(tf.random_normal([784,256], stddev=0.01))\n",
        "L1 = tf.nn.relu(tf.matmul(X,W1))\n",
        "L1 = tf.nn.dropout(L1,keep_prob)  #dropout\n",
        "\n",
        "W2 = tf.Variable(tf.random_normal([256,256], stddev=0.01))\n",
        "L2 = tf.nn.relu(tf.matmul(L1,W2))\n",
        "L2 = tf.nn.dropout(L2,keep_prob)  #뒤의 뉴런을0.8만 이용( 학습시 해당 계층의 80%만 이용)\n",
        "\n",
        "W3 = tf.Variable(tf.random_normal([256,10], stddev=0.01))\n",
        "model = tf.matmul(L2,W3)\n",
        "\n",
        "print(W3)\n",
        "print(model)"
      ],
      "execution_count": 5,
      "outputs": [
        {
          "output_type": "stream",
          "text": [
            "WARNING:tensorflow:From <ipython-input-5-a4efb9113872>:4: calling dropout (from tensorflow.python.ops.nn_ops) with keep_prob is deprecated and will be removed in a future version.\n",
            "Instructions for updating:\n",
            "Please use `rate` instead of `keep_prob`. Rate should be set to `rate = 1 - keep_prob`.\n",
            "<tf.Variable 'Variable_2:0' shape=(256, 10) dtype=float32_ref>\n",
            "Tensor(\"MatMul_2:0\", shape=(?, 10), dtype=float32)\n"
          ],
          "name": "stdout"
        }
      ]
    },
    {
      "cell_type": "markdown",
      "metadata": {
        "id": "UqXv-WrwYfKY",
        "colab_type": "text"
      },
      "source": [
        "## 비용함수, 최적화 함수 지정\n",
        "AdamOptimizer (Adaptive Moment Estimation)은 RMSProp와 Momentum방식을 합친 것"
      ]
    },
    {
      "cell_type": "code",
      "metadata": {
        "id": "JhdjLzc1Yaid",
        "colab_type": "code",
        "colab": {}
      },
      "source": [
        "cost = tf.reduce_mean(tf.nn.softmax_cross_entropy_with_logits_v2(logits=model, labels=Y))\n",
        "optimizer = tf.train.AdamOptimizer(0.001).minimize(cost)"
      ],
      "execution_count": 0,
      "outputs": []
    },
    {
      "cell_type": "markdown",
      "metadata": {
        "id": "0F3HU8-0ZP2P",
        "colab_type": "text"
      },
      "source": [
        "### 세션 생성 및 초기화"
      ]
    },
    {
      "cell_type": "code",
      "metadata": {
        "id": "ygMt17s1ZG2V",
        "colab_type": "code",
        "colab": {}
      },
      "source": [
        "init = tf.global_variables_initializer()\n",
        "sess = tf.Session()\n",
        "sess.run(init)"
      ],
      "execution_count": 0,
      "outputs": []
    },
    {
      "cell_type": "markdown",
      "metadata": {
        "id": "51k9ND_rZd-_",
        "colab_type": "text"
      },
      "source": [
        "## 배치 사이즈 지정\n",
        "- Mini-batch 크기가 전체 트레이닝 셋 데이터 사이즈인 m과 같다면 이것은 Batch gradient descent방법\n",
        "데이터가 별로 없다면 batch gradient descent를 사용\n",
        "- Mini-batch 크기가 1이라면 Stochastic gradient descent라고 한다.\n",
        "  - 적은 메모리로 동작가능\n",
        "  - 64,128, 256, 512 사이즈 선택"
      ]
    },
    {
      "cell_type": "code",
      "metadata": {
        "id": "suXG7GgtZYfB",
        "colab_type": "code",
        "colab": {}
      },
      "source": [
        "batch_size = 100\n",
        "total_batch = int(mnist.train.num_examples / batch_size)"
      ],
      "execution_count": 0,
      "outputs": []
    },
    {
      "cell_type": "code",
      "metadata": {
        "id": "FCRUy6O9aUf8",
        "colab_type": "code",
        "colab": {
          "base_uri": "https://localhost:8080/",
          "height": 305
        },
        "outputId": "18469d0d-bd24-4076-c566-28b533097bf4"
      },
      "source": [
        "# MNIST 데이터 전체를 학습하는 일을 15번 반복함.\n",
        "# 학습 데이터 전체를 한 바퀴를 도는 일을 에포크(epoch)라 한다.\n",
        "for epoch in range(15):\n",
        " total_cost = 0\n",
        "\n",
        " for i in range(total_batch):\n",
        " # 배치 사이즈만큼 데이터 가져오기\n",
        "      batch_xs, batch_ys = mnist.train.next_batch(batch_size)\n",
        "\n",
        "      # 입력값 : batch_xs, 출력값 : batch_ys\n",
        "      # 최적화를 수행 후, 손실을 구한다.\n",
        "      _, cost_val = sess.run([optimizer, cost],\n",
        "      feed_dict={X:batch_xs, Y:batch_ys,\n",
        "      keep_prob:0.8})\n",
        "      # 총 손실 계산\n",
        "      total_cost = total_cost + cost_val\n",
        " print(\"Epoch : %4d\" %(epoch + 1),'평균 Cost = ', \"{:.3f}\".format(total_cost/total_batch))\n",
        "\n",
        "print(\"최적화 완료!\")"
      ],
      "execution_count": 9,
      "outputs": [
        {
          "output_type": "stream",
          "text": [
            "Epoch :    1 평균 Cost =  0.424\n",
            "Epoch :    2 평균 Cost =  0.160\n",
            "Epoch :    3 평균 Cost =  0.110\n",
            "Epoch :    4 평균 Cost =  0.087\n",
            "Epoch :    5 평균 Cost =  0.069\n",
            "Epoch :    6 평균 Cost =  0.062\n",
            "Epoch :    7 평균 Cost =  0.052\n",
            "Epoch :    8 평균 Cost =  0.044\n",
            "Epoch :    9 평균 Cost =  0.041\n",
            "Epoch :   10 평균 Cost =  0.039\n",
            "Epoch :   11 평균 Cost =  0.036\n",
            "Epoch :   12 평균 Cost =  0.032\n",
            "Epoch :   13 평균 Cost =  0.029\n",
            "Epoch :   14 평균 Cost =  0.027\n",
            "Epoch :   15 평균 Cost =  0.024\n",
            "최적화 완료!\n"
          ],
          "name": "stdout"
        }
      ]
    },
    {
      "cell_type": "code",
      "metadata": {
        "id": "spD4vYGfaYZB",
        "colab_type": "code",
        "colab": {
          "base_uri": "https://localhost:8080/",
          "height": 35
        },
        "outputId": "4972720f-d700-416b-f075-78fa6a5e440b"
      },
      "source": [
        "# 모델의 예측값과 실제값의 비교한다.\n",
        "is_correct = tf.equal(tf.argmax(model, 1), tf.argmax(Y, 1))\n",
        "is_correct\n",
        "accuracy = tf.reduce_mean(tf.cast(is_correct, tf.float32))\n",
        "print('정확도 :', sess.run(accuracy,\n",
        " feed_dict = {X:mnist.test.images,\n",
        " Y:mnist.test.labels,\n",
        " keep_prob: 0.8}))"
      ],
      "execution_count": 10,
      "outputs": [
        {
          "output_type": "stream",
          "text": [
            "정확도 : 0.9767\n"
          ],
          "name": "stdout"
        }
      ]
    },
    {
      "cell_type": "markdown",
      "metadata": {
        "id": "7FeSL1hAbmhi",
        "colab_type": "text"
      },
      "source": [
        "##과적합을 막아주는 기법으로 가장 유명한 것 (드롭아웃)\n",
        "###다른 과적합 방지 방법\n",
        "- 배치 정규화(Batch Normalization) : Gradient Vanishing/Gradient Exploding 이 일어나지 않도록 하기 위한\n",
        "방법\n",
        "    - 기존의 해결방법 : Activation 함수의 변화(ReLU등), 주의깊은 initialization, 작은 small learning rate\n",
        "    - 2015년 발표 논문\n",
        "    - 아래 두 함수를 이용하여 적용이 가능하다.\n",
        "- tf.nn.batch_normalization\n",
        "- tf.layers.batch_normalization"
      ]
    },
    {
      "cell_type": "code",
      "metadata": {
        "id": "xHRGSfJKbjLT",
        "colab_type": "code",
        "colab": {
          "base_uri": "https://localhost:8080/",
          "height": 35
        },
        "outputId": "1e55bec2-cbf8-4ad5-8c03-d7b96906950e"
      },
      "source": [
        "labels = sess.run(model,\n",
        " feed_dict = {X:mnist.test.images,\n",
        " Y:mnist.test.labels,\n",
        " keep_prob: 0.8})\n",
        "labels.shape"
      ],
      "execution_count": 11,
      "outputs": [
        {
          "output_type": "execute_result",
          "data": {
            "text/plain": [
              "(10000, 10)"
            ]
          },
          "metadata": {
            "tags": []
          },
          "execution_count": 11
        }
      ]
    },
    {
      "cell_type": "code",
      "metadata": {
        "id": "3aslAaF0bwOB",
        "colab_type": "code",
        "colab": {}
      },
      "source": [
        "import matplotlib.pyplot as plt\n",
        "import numpy as np\n",
        "# %matplotlib inline # 필요."
      ],
      "execution_count": 0,
      "outputs": []
    },
    {
      "cell_type": "code",
      "metadata": {
        "id": "5OSuiv40bymB",
        "colab_type": "code",
        "colab": {
          "base_uri": "https://localhost:8080/",
          "height": 227
        },
        "outputId": "b27ea9ad-47e1-4f85-d702-f20d691a5cd3"
      },
      "source": [
        "fig = plt.figure()\n",
        "for i in range(10):\n",
        " subplot = fig.add_subplot(2,5, i+1)\n",
        "\n",
        " # 이미지 깨끗하게 출력, x,y의 눈금 출력 안함.\n",
        " subplot.set_xticks([])\n",
        " subplot.set_yticks([])\n",
        "\n",
        " subplot.set_title('{}'.format(np.argmax(labels[i])))\n",
        " subplot.imshow(mnist.test.images[i].reshape((28,28)),\n",
        " cmap=plt.cm.gray_r)\n",
        "plt.show()"
      ],
      "execution_count": 13,
      "outputs": [
        {
          "output_type": "display_data",
          "data": {
            "image/png": "[encoded data removed]",
            "text/plain": [
              "<Figure size 432x288 with 10 Axes>"
            ]
          },
          "metadata": {
            "tags": []
          }
        }
      ]
    },
    {
      "cell_type": "markdown",
      "metadata": {
        "id": "ERAXFp-VcRFI",
        "colab_type": "text"
      },
      "source": [
        "###더 알아보기\n",
        "- 과적합을 막아주는 기법으로 가장 유명한 것이 쉽게 이해 가능한 것은 드롭아웃이다.\n",
        "-  최근에는 배치 정규화(Batch Normalization)라는 기법이 많이 이용됨.\n",
        "   - 과적합을 막고, 학습 속도도 향상시켜주는 장점이 있다.\n",
        "   - 등장 배경은 학습 시 발산이나 소실 등을 방지하여 학습 속도를 높이기 위한 방법이다.\n",
        "   - tf.nn.batch_normalization과 tf.layers.batch_normalization 함수로 쉽게 적용 가능."
      ]
    },
    {
      "cell_type": "code",
      "metadata": {
        "id": "Hm4iTaPbb0NB",
        "colab_type": "code",
        "colab": {}
      },
      "source": [
        ""
      ],
      "execution_count": 0,
      "outputs": []
    }
  ]
}