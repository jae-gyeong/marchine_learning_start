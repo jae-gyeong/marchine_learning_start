{
  "nbformat": 4,
  "nbformat_minor": 0,
  "metadata": {
    "colab": {
      "name": "19-09-30랜덤포레스트분석.ipynb",
      "provenance": [],
      "collapsed_sections": [],
      "machine_shape": "hm",
      "include_colab_link": true
    },
    "kernelspec": {
      "name": "python3",
      "display_name": "Python 3"
    }
  },
  "cells": [
    {
      "cell_type": "markdown",
      "metadata": {
        "id": "view-in-github",
        "colab_type": "text"
      },
      "source": [
        "<a href=\"https://colab.research.google.com/github/jae-gyeong/marchine_learning_start/blob/master/19_09_30%EB%9E%9C%EB%8D%A4%ED%8F%AC%EB%A0%88%EC%8A%A4%ED%8A%B8%EB%B6%84%EC%84%9D.ipynb\" target=\"_parent\"><img src=\"https://colab.research.google.com/assets/colab-badge.svg\" alt=\"Open In Colab\"/></a>"
      ]
    },
    {
      "cell_type": "code",
      "metadata": {
        "id": "6wL76KhVjFzX",
        "colab_type": "code",
        "colab": {}
      },
      "source": [
        "# 랜덤 포레스트 분석\n",
        "from sklearn.ensemble import RandomForestClassifier\n",
        "from sklearn.datasets import make_moons"
      ],
      "execution_count": 0,
      "outputs": []
    },
    {
      "cell_type": "code",
      "metadata": {
        "id": "5m-bAnoqwBMa",
        "colab_type": "code",
        "colab": {}
      },
      "source": [
        "import pandas as pd\n"
      ],
      "execution_count": 0,
      "outputs": []
    },
    {
      "cell_type": "code",
      "metadata": {
        "id": "86nocpfzxct0",
        "colab_type": "code",
        "colab": {}
      },
      "source": [
        "train = pd.read_csv(\"train.csv\")\n",
        "test = pd.read_csv(\"test.csv\")"
      ],
      "execution_count": 0,
      "outputs": []
    },
    {
      "cell_type": "code",
      "metadata": {
        "id": "RyrvnGYVyHou",
        "colab_type": "code",
        "colab": {}
      },
      "source": [
        "# 1. 데이터 필드\n",
        "# ID : 집을 구분하는 번호\n",
        "# date : 집을 구매한 날짜\n",
        "# price : 집의 가격(Target variable)\n",
        "# bedrooms : 침실의 수\n",
        "# bathrooms : 화장실의 수\n",
        "# sqft_living : 주거 공간의 평방 피트(면적)\n",
        "# sqft_lot : 부지의 평방 피트(면적)\n",
        "# floors : 집의 층 수\n",
        "# waterfront : 집의 전방에 강이 흐르는지 유무 (a.k.a. 리버뷰)\n",
        "# view : 집이 얼마나 좋아 보이는지의 정도\n",
        "# condition : 집의 전반적인 상태\n",
        "# grade : King County grading 시스템 기준으로 매긴 집의 등급\n",
        "# sqft_above : 지하실을 제외한 평방 피트(면적)\n",
        "# sqft_basement : 지하실의 평방 피트(면적)\n",
        "# yr_built : 지어진 년도\n",
        "# yr_renovated : 집을 재건축한 년도\n",
        "# zipcode : 우편번호\n",
        "# lat : 위도\n",
        "# long : 경도\n",
        "# sqft_living15 : 2015년 기준 주거 공간의 평방 피트(면적, 집을 재건축했다면, 변화가 있을 수 있음)\n",
        "# sqft_lot15 : 2015년 기준 부지의 평방 피트(면적, 집을 재건축했다면, 변화가 있을 수 있음)"
      ],
      "execution_count": 0,
      "outputs": []
    },
    {
      "cell_type": "code",
      "metadata": {
        "id": "2czVhg-ry--9",
        "colab_type": "code",
        "colab": {
          "base_uri": "https://localhost:8080/",
          "height": 107
        },
        "outputId": "937ee572-4de9-40c9-f82b-94ea57eebccb"
      },
      "source": [
        "train.columns\n"
      ],
      "execution_count": 6,
      "outputs": [
        {
          "output_type": "execute_result",
          "data": {
            "text/plain": [
              "Index(['id', 'date', 'price', 'bedrooms', 'bathrooms', 'sqft_living',\n",
              "       'sqft_lot', 'floors', 'waterfront', 'view', 'condition', 'grade',\n",
              "       'sqft_above', 'sqft_basement', 'yr_built', 'yr_renovated', 'zipcode',\n",
              "       'lat', 'long', 'sqft_living15', 'sqft_lot15'],\n",
              "      dtype='object')"
            ]
          },
          "metadata": {
            "tags": []
          },
          "execution_count": 6
        }
      ]
    },
    {
      "cell_type": "code",
      "metadata": {
        "id": "sL1B0-VvzIk3",
        "colab_type": "code",
        "colab": {
          "base_uri": "https://localhost:8080/",
          "height": 107
        },
        "outputId": "6f723bbb-e3d2-4deb-8919-8b5fa0cb37d0"
      },
      "source": [
        "test.columns"
      ],
      "execution_count": 13,
      "outputs": [
        {
          "output_type": "execute_result",
          "data": {
            "text/plain": [
              "Index(['id', 'date', 'bedrooms', 'bathrooms', 'sqft_living', 'sqft_lot',\n",
              "       'floors', 'waterfront', 'view', 'condition', 'grade', 'sqft_above',\n",
              "       'sqft_basement', 'yr_built', 'yr_renovated', 'zipcode', 'lat', 'long',\n",
              "       'sqft_living15', 'sqft_lot15'],\n",
              "      dtype='object')"
            ]
          },
          "metadata": {
            "tags": []
          },
          "execution_count": 13
        }
      ]
    },
    {
      "cell_type": "code",
      "metadata": {
        "id": "16Y4hM74zKw1",
        "colab_type": "code",
        "colab": {
          "base_uri": "https://localhost:8080/",
          "height": 35
        },
        "outputId": "f965bd05-5ea5-4dd7-d8d5-d6e976d5ff5a"
      },
      "source": [
        "train.shape"
      ],
      "execution_count": 14,
      "outputs": [
        {
          "output_type": "execute_result",
          "data": {
            "text/plain": [
              "(15035, 21)"
            ]
          },
          "metadata": {
            "tags": []
          },
          "execution_count": 14
        }
      ]
    },
    {
      "cell_type": "code",
      "metadata": {
        "id": "nv1CUqN-zPXd",
        "colab_type": "code",
        "colab": {
          "base_uri": "https://localhost:8080/",
          "height": 35
        },
        "outputId": "5c3fc980-d75c-49d2-e3a5-a8aea8a52ea8"
      },
      "source": [
        "test.shape\n"
      ],
      "execution_count": 15,
      "outputs": [
        {
          "output_type": "execute_result",
          "data": {
            "text/plain": [
              "(6468, 20)"
            ]
          },
          "metadata": {
            "tags": []
          },
          "execution_count": 15
        }
      ]
    },
    {
      "cell_type": "code",
      "metadata": {
        "id": "iAOfy6QgzThs",
        "colab_type": "code",
        "colab": {
          "base_uri": "https://localhost:8080/",
          "height": 55
        },
        "outputId": "196741fa-737b-49a8-d94f-a1a38319ebda"
      },
      "source": [
        "X_all  = train.drop(['price'], axis =1) # 가격 버리기\n",
        "y = train['price']\n",
        "print(type(X_all), type(y), X_all.shape, y.shape)"
      ],
      "execution_count": 17,
      "outputs": [
        {
          "output_type": "stream",
          "text": [
            "<class 'pandas.core.frame.DataFrame'> <class 'pandas.core.series.Series'> (15035, 20) (15035,)\n"
          ],
          "name": "stdout"
        }
      ]
    },
    {
      "cell_type": "code",
      "metadata": {
        "id": "DJcuJ4G60er0",
        "colab_type": "code",
        "colab": {
          "base_uri": "https://localhost:8080/",
          "height": 467
        },
        "outputId": "00679412-63dd-4e9d-b78c-163a4a20022e"
      },
      "source": [
        "X_all.info()"
      ],
      "execution_count": 18,
      "outputs": [
        {
          "output_type": "stream",
          "text": [
            "<class 'pandas.core.frame.DataFrame'>\n",
            "RangeIndex: 15035 entries, 0 to 15034\n",
            "Data columns (total 20 columns):\n",
            "id               15035 non-null int64\n",
            "date             15035 non-null object\n",
            "bedrooms         15035 non-null int64\n",
            "bathrooms        15035 non-null float64\n",
            "sqft_living      15035 non-null int64\n",
            "sqft_lot         15035 non-null int64\n",
            "floors           15035 non-null float64\n",
            "waterfront       15035 non-null int64\n",
            "view             15035 non-null int64\n",
            "condition        15035 non-null int64\n",
            "grade            15035 non-null int64\n",
            "sqft_above       15035 non-null int64\n",
            "sqft_basement    15035 non-null int64\n",
            "yr_built         15035 non-null int64\n",
            "yr_renovated     15035 non-null int64\n",
            "zipcode          15035 non-null int64\n",
            "lat              15035 non-null float64\n",
            "long             15035 non-null float64\n",
            "sqft_living15    15035 non-null int64\n",
            "sqft_lot15       15035 non-null int64\n",
            "dtypes: float64(4), int64(15), object(1)\n",
            "memory usage: 2.3+ MB\n"
          ],
          "name": "stdout"
        }
      ]
    },
    {
      "cell_type": "code",
      "metadata": {
        "id": "JaBVKjJmzbqF",
        "colab_type": "code",
        "colab": {}
      },
      "source": [
        "sel = ['bedrooms', 'bathrooms','sqft_living','sqft_lot']\n",
        "\n",
        "X =X_all[sel]\n",
        "y = train['price']"
      ],
      "execution_count": 0,
      "outputs": []
    },
    {
      "cell_type": "code",
      "metadata": {
        "id": "YX6FokCi0bPn",
        "colab_type": "code",
        "colab": {}
      },
      "source": [
        "# 데이터 나누기\n",
        "from sklearn.model_selection import train_test_split\n",
        "X_train, X_test, y_train, y_test = train_test_split(X, y, random_state=42)"
      ],
      "execution_count": 0,
      "outputs": []
    },
    {
      "cell_type": "code",
      "metadata": {
        "id": "FJVZ_zY10sXE",
        "colab_type": "code",
        "colab": {}
      },
      "source": [
        "# 모델 만들기\n",
        "# 모델 학습\n",
        "# 모델 예측\n",
        "# 모델 평가"
      ],
      "execution_count": 0,
      "outputs": []
    },
    {
      "cell_type": "code",
      "metadata": {
        "id": "J5h1HL7s4jBX",
        "colab_type": "code",
        "colab": {
          "base_uri": "https://localhost:8080/",
          "height": 396
        },
        "outputId": "34fcaa78-260f-463f-f026-a63a3537b601"
      },
      "source": [
        "# 한글 깨지지 않게 (그래프에)\n",
        "# 콜랩에서 한글폰트 지정하려면 설치를 우선 해야하고 지정해야함 (오후에 pdf올려준다함)\n",
        "# import matplotlib\n",
        "# from matplotlib import font_manager, rc\n",
        "# font_loc = \"C:/Windows/Fonts/H2MJRE.TTF\"\n",
        "# font_name = font_manager.FontProperties(fname=font_loc).get_name()\n",
        "# matplotlib.rc('font', family=font_name)"
      ],
      "execution_count": 39,
      "outputs": [
        {
          "output_type": "error",
          "ename": "FileNotFoundError",
          "evalue": "ignored",
          "traceback": [
            "\u001b[0;31m---------------------------------------------------------------------------\u001b[0m",
            "\u001b[0;31mFileNotFoundError\u001b[0m                         Traceback (most recent call last)",
            "\u001b[0;32m<ipython-input-39-ece49b3b6863>\u001b[0m in \u001b[0;36m<module>\u001b[0;34m()\u001b[0m\n\u001b[1;32m      2\u001b[0m \u001b[0;32mfrom\u001b[0m \u001b[0mmatplotlib\u001b[0m \u001b[0;32mimport\u001b[0m \u001b[0mfont_manager\u001b[0m\u001b[0;34m,\u001b[0m \u001b[0mrc\u001b[0m\u001b[0;34m\u001b[0m\u001b[0;34m\u001b[0m\u001b[0m\n\u001b[1;32m      3\u001b[0m \u001b[0mfont_loc\u001b[0m \u001b[0;34m=\u001b[0m \u001b[0;34m\"C:/Windows/Fonts/H2MJRE.TTF\"\u001b[0m\u001b[0;34m\u001b[0m\u001b[0;34m\u001b[0m\u001b[0m\n\u001b[0;32m----> 4\u001b[0;31m \u001b[0mfont_name\u001b[0m \u001b[0;34m=\u001b[0m \u001b[0mfont_manager\u001b[0m\u001b[0;34m.\u001b[0m\u001b[0mFontProperties\u001b[0m\u001b[0;34m(\u001b[0m\u001b[0mfname\u001b[0m\u001b[0;34m=\u001b[0m\u001b[0mfont_loc\u001b[0m\u001b[0;34m)\u001b[0m\u001b[0;34m.\u001b[0m\u001b[0mget_name\u001b[0m\u001b[0;34m(\u001b[0m\u001b[0;34m)\u001b[0m\u001b[0;34m\u001b[0m\u001b[0;34m\u001b[0m\u001b[0m\n\u001b[0m\u001b[1;32m      5\u001b[0m \u001b[0mmatplotlib\u001b[0m\u001b[0;34m.\u001b[0m\u001b[0mrc\u001b[0m\u001b[0;34m(\u001b[0m\u001b[0;34m'font'\u001b[0m\u001b[0;34m,\u001b[0m \u001b[0mfamily\u001b[0m\u001b[0;34m=\u001b[0m\u001b[0mfont_name\u001b[0m\u001b[0;34m)\u001b[0m\u001b[0;34m\u001b[0m\u001b[0;34m\u001b[0m\u001b[0m\n",
            "\u001b[0;32m/usr/local/lib/python3.6/dist-packages/matplotlib/font_manager.py\u001b[0m in \u001b[0;36mget_name\u001b[0;34m(self)\u001b[0m\n\u001b[1;32m    645\u001b[0m         \u001b[0mReturn\u001b[0m \u001b[0mthe\u001b[0m \u001b[0mname\u001b[0m \u001b[0mof\u001b[0m \u001b[0mthe\u001b[0m \u001b[0mfont\u001b[0m \u001b[0mthat\u001b[0m \u001b[0mbest\u001b[0m \u001b[0mmatches\u001b[0m \u001b[0mthe\u001b[0m \u001b[0mfont\u001b[0m \u001b[0mproperties\u001b[0m\u001b[0;34m.\u001b[0m\u001b[0;34m\u001b[0m\u001b[0;34m\u001b[0m\u001b[0m\n\u001b[1;32m    646\u001b[0m         \"\"\"\n\u001b[0;32m--> 647\u001b[0;31m         \u001b[0;32mreturn\u001b[0m \u001b[0mget_font\u001b[0m\u001b[0;34m(\u001b[0m\u001b[0mfindfont\u001b[0m\u001b[0;34m(\u001b[0m\u001b[0mself\u001b[0m\u001b[0;34m)\u001b[0m\u001b[0;34m)\u001b[0m\u001b[0;34m.\u001b[0m\u001b[0mfamily_name\u001b[0m\u001b[0;34m\u001b[0m\u001b[0;34m\u001b[0m\u001b[0m\n\u001b[0m\u001b[1;32m    648\u001b[0m \u001b[0;34m\u001b[0m\u001b[0m\n\u001b[1;32m    649\u001b[0m     \u001b[0;32mdef\u001b[0m \u001b[0mget_style\u001b[0m\u001b[0;34m(\u001b[0m\u001b[0mself\u001b[0m\u001b[0;34m)\u001b[0m\u001b[0;34m:\u001b[0m\u001b[0;34m\u001b[0m\u001b[0;34m\u001b[0m\u001b[0m\n",
            "\u001b[0;32m/usr/local/lib/python3.6/dist-packages/matplotlib/font_manager.py\u001b[0m in \u001b[0;36mget_font\u001b[0;34m(filename, hinting_factor)\u001b[0m\n\u001b[1;32m   1289\u001b[0m     \u001b[0;32mif\u001b[0m \u001b[0mhinting_factor\u001b[0m \u001b[0;32mis\u001b[0m \u001b[0;32mNone\u001b[0m\u001b[0;34m:\u001b[0m\u001b[0;34m\u001b[0m\u001b[0;34m\u001b[0m\u001b[0m\n\u001b[1;32m   1290\u001b[0m         \u001b[0mhinting_factor\u001b[0m \u001b[0;34m=\u001b[0m \u001b[0mrcParams\u001b[0m\u001b[0;34m[\u001b[0m\u001b[0;34m'text.hinting_factor'\u001b[0m\u001b[0;34m]\u001b[0m\u001b[0;34m\u001b[0m\u001b[0;34m\u001b[0m\u001b[0m\n\u001b[0;32m-> 1291\u001b[0;31m     \u001b[0;32mreturn\u001b[0m \u001b[0m_get_font\u001b[0m\u001b[0;34m(\u001b[0m\u001b[0mfilename\u001b[0m\u001b[0;34m,\u001b[0m \u001b[0mhinting_factor\u001b[0m\u001b[0;34m)\u001b[0m\u001b[0;34m\u001b[0m\u001b[0;34m\u001b[0m\u001b[0m\n\u001b[0m\u001b[1;32m   1292\u001b[0m \u001b[0;34m\u001b[0m\u001b[0m\n\u001b[1;32m   1293\u001b[0m \u001b[0;34m\u001b[0m\u001b[0m\n",
            "\u001b[0;31mFileNotFoundError\u001b[0m: [Errno 2] No such file or directory: 'C:/Windows/Fonts/H2MJRE.TTF'"
          ]
        }
      ]
    },
    {
      "cell_type": "code",
      "metadata": {
        "id": "qS42EvGN0yMc",
        "colab_type": "code",
        "colab": {}
      },
      "source": [
        "from sklearn.ensemble import RandomForestClassifier, RandomForestRegressor"
      ],
      "execution_count": 0,
      "outputs": []
    },
    {
      "cell_type": "code",
      "metadata": {
        "id": "iYwy-roj0_jE",
        "colab_type": "code",
        "colab": {
          "base_uri": "https://localhost:8080/",
          "height": 143
        },
        "outputId": "43983720-999a-4767-cfa8-7e692b5a2f62"
      },
      "source": [
        "forest = RandomForestRegressor(n_estimators=5, random_state=2) # 5개의 트리\n",
        "forest.fit(X_train, y_train)\n",
        "# bootstrap 샘플 "
      ],
      "execution_count": 28,
      "outputs": [
        {
          "output_type": "execute_result",
          "data": {
            "text/plain": [
              "RandomForestRegressor(bootstrap=True, criterion='mse', max_depth=None,\n",
              "                      max_features='auto', max_leaf_nodes=None,\n",
              "                      min_impurity_decrease=0.0, min_impurity_split=None,\n",
              "                      min_samples_leaf=1, min_samples_split=2,\n",
              "                      min_weight_fraction_leaf=0.0, n_estimators=5, n_jobs=None,\n",
              "                      oob_score=False, random_state=2, verbose=0,\n",
              "                      warm_start=False)"
            ]
          },
          "metadata": {
            "tags": []
          },
          "execution_count": 28
        }
      ]
    },
    {
      "cell_type": "code",
      "metadata": {
        "id": "A4kz3xpX1H7E",
        "colab_type": "code",
        "colab": {
          "base_uri": "https://localhost:8080/",
          "height": 829
        },
        "outputId": "9dd11448-ac03-489a-f62d-9949cecc2b76"
      },
      "source": [
        "# 학습된 랜덤포레스트의 트리\n",
        "print(forest.estimators_)\n",
        "print(forest.score)\n",
        "print(\"\\n\\n{}\".format(forest.base_estimator))\n",
        "print(\"\\n\\n{}\".format(forest.bootstrap))\n",
        "print(\"\\n\\n{}\".format(forest.criterion))\n",
        "print(\"\\n\\n{}\".format(forest.oob_score))"
      ],
      "execution_count": 29,
      "outputs": [
        {
          "output_type": "stream",
          "text": [
            "[DecisionTreeRegressor(criterion='mse', max_depth=None, max_features='auto',\n",
            "                      max_leaf_nodes=None, min_impurity_decrease=0.0,\n",
            "                      min_impurity_split=None, min_samples_leaf=1,\n",
            "                      min_samples_split=2, min_weight_fraction_leaf=0.0,\n",
            "                      presort=False, random_state=1872583848, splitter='best'), DecisionTreeRegressor(criterion='mse', max_depth=None, max_features='auto',\n",
            "                      max_leaf_nodes=None, min_impurity_decrease=0.0,\n",
            "                      min_impurity_split=None, min_samples_leaf=1,\n",
            "                      min_samples_split=2, min_weight_fraction_leaf=0.0,\n",
            "                      presort=False, random_state=794921487, splitter='best'), DecisionTreeRegressor(criterion='mse', max_depth=None, max_features='auto',\n",
            "                      max_leaf_nodes=None, min_impurity_decrease=0.0,\n",
            "                      min_impurity_split=None, min_samples_leaf=1,\n",
            "                      min_samples_split=2, min_weight_fraction_leaf=0.0,\n",
            "                      presort=False, random_state=111352301, splitter='best'), DecisionTreeRegressor(criterion='mse', max_depth=None, max_features='auto',\n",
            "                      max_leaf_nodes=None, min_impurity_decrease=0.0,\n",
            "                      min_impurity_split=None, min_samples_leaf=1,\n",
            "                      min_samples_split=2, min_weight_fraction_leaf=0.0,\n",
            "                      presort=False, random_state=1853453896, splitter='best'), DecisionTreeRegressor(criterion='mse', max_depth=None, max_features='auto',\n",
            "                      max_leaf_nodes=None, min_impurity_decrease=0.0,\n",
            "                      min_impurity_split=None, min_samples_leaf=1,\n",
            "                      min_samples_split=2, min_weight_fraction_leaf=0.0,\n",
            "                      presort=False, random_state=213298710, splitter='best')]\n",
            "<bound method RegressorMixin.score of RandomForestRegressor(bootstrap=True, criterion='mse', max_depth=None,\n",
            "                      max_features='auto', max_leaf_nodes=None,\n",
            "                      min_impurity_decrease=0.0, min_impurity_split=None,\n",
            "                      min_samples_leaf=1, min_samples_split=2,\n",
            "                      min_weight_fraction_leaf=0.0, n_estimators=5, n_jobs=None,\n",
            "                      oob_score=False, random_state=2, verbose=0,\n",
            "                      warm_start=False)>\n",
            "\n",
            "\n",
            "DecisionTreeRegressor(criterion='mse', max_depth=None, max_features=None,\n",
            "                      max_leaf_nodes=None, min_impurity_decrease=0.0,\n",
            "                      min_impurity_split=None, min_samples_leaf=1,\n",
            "                      min_samples_split=2, min_weight_fraction_leaf=0.0,\n",
            "                      presort=False, random_state=None, splitter='best')\n",
            "\n",
            "\n",
            "True\n",
            "\n",
            "\n",
            "mse\n",
            "\n",
            "\n",
            "False\n"
          ],
          "name": "stdout"
        }
      ]
    },
    {
      "cell_type": "code",
      "metadata": {
        "id": "W53bzmXQ1wqc",
        "colab_type": "code",
        "colab": {
          "base_uri": "https://localhost:8080/",
          "height": 35
        },
        "outputId": "6558dcd8-d1ed-409c-9f0d-2b5e75be73ee"
      },
      "source": [
        "# 변수의 중요도\n",
        "print(forest.feature_importances_)\n",
        "# 4개변수에 대한 중요도 나옴"
      ],
      "execution_count": 30,
      "outputs": [
        {
          "output_type": "stream",
          "text": [
            "[0.03934276 0.07187087 0.6741707  0.21461568]\n"
          ],
          "name": "stdout"
        }
      ]
    },
    {
      "cell_type": "code",
      "metadata": {
        "id": "rXhyR2r914tM",
        "colab_type": "code",
        "colab": {
          "base_uri": "https://localhost:8080/",
          "height": 283
        },
        "outputId": "08d924ee-d94a-4e55-f8b0-cc3a64ef151d"
      },
      "source": [
        "# 변수의 중요도 그래프 찍기\n",
        "import matplotlib.pyplot as plt\n",
        "import numpy as np\n",
        "\n",
        "def plot_feature_importances_cancer(model, dataset):\n",
        " n_features = dataset.shape[1]\n",
        " plt.barh(range(n_features), model.feature_importances_, align='center')\n",
        " plt.yticks(np.arange(n_features), dataset.columns)\n",
        " plt.xlabel(\"특성 중요도\")\n",
        " plt.ylabel(\"특성\")\n",
        " plt.ylim(-1, n_features)\n",
        "\n",
        "plot_feature_importances_cancer(forest, X)"
      ],
      "execution_count": 31,
      "outputs": [
        {
          "output_type": "display_data",
          "data": {
            "image/png": "[encoded data removed]",
            "text/plain": [
              "<Figure size 432x288 with 1 Axes>"
            ]
          },
          "metadata": {
            "tags": []
          }
        }
      ]
    },
    {
      "cell_type": "code",
      "metadata": {
        "id": "3vicwAvi2Ri0",
        "colab_type": "code",
        "colab": {
          "base_uri": "https://localhost:8080/",
          "height": 143
        },
        "outputId": "7d514a9f-ca3f-492a-dce5-b580d3816052"
      },
      "source": [
        "#  실습 - 모델 50개의 나무 만들고 변수의 중요도 찍어보기\n",
        "forest20 = RandomForestRegressor(n_estimators=20, random_state=2) # 5개의 트리\n",
        "forest20.fit(X_train, y_train)"
      ],
      "execution_count": 60,
      "outputs": [
        {
          "output_type": "execute_result",
          "data": {
            "text/plain": [
              "RandomForestRegressor(bootstrap=True, criterion='mse', max_depth=None,\n",
              "                      max_features='auto', max_leaf_nodes=None,\n",
              "                      min_impurity_decrease=0.0, min_impurity_split=None,\n",
              "                      min_samples_leaf=1, min_samples_split=2,\n",
              "                      min_weight_fraction_leaf=0.0, n_estimators=20,\n",
              "                      n_jobs=None, oob_score=False, random_state=2, verbose=0,\n",
              "                      warm_start=False)"
            ]
          },
          "metadata": {
            "tags": []
          },
          "execution_count": 60
        }
      ]
    },
    {
      "cell_type": "code",
      "metadata": {
        "id": "J0cETL8n2nfM",
        "colab_type": "code",
        "colab": {
          "base_uri": "https://localhost:8080/",
          "height": 1000
        },
        "outputId": "c2efc876-bfda-46be-d2e5-114921cc2a02"
      },
      "source": [
        "print(forest20.estimators_)"
      ],
      "execution_count": 61,
      "outputs": [
        {
          "output_type": "stream",
          "text": [
            "[DecisionTreeRegressor(criterion='mse', max_depth=None, max_features='auto',\n",
            "                      max_leaf_nodes=None, min_impurity_decrease=0.0,\n",
            "                      min_impurity_split=None, min_samples_leaf=1,\n",
            "                      min_samples_split=2, min_weight_fraction_leaf=0.0,\n",
            "                      presort=False, random_state=1872583848, splitter='best'), DecisionTreeRegressor(criterion='mse', max_depth=None, max_features='auto',\n",
            "                      max_leaf_nodes=None, min_impurity_decrease=0.0,\n",
            "                      min_impurity_split=None, min_samples_leaf=1,\n",
            "                      min_samples_split=2, min_weight_fraction_leaf=0.0,\n",
            "                      presort=False, random_state=794921487, splitter='best'), DecisionTreeRegressor(criterion='mse', max_depth=None, max_features='auto',\n",
            "                      max_leaf_nodes=None, min_impurity_decrease=0.0,\n",
            "                      min_impurity_split=None, min_samples_leaf=1,\n",
            "                      min_samples_split=2, min_weight_fraction_leaf=0.0,\n",
            "                      presort=False, random_state=111352301, splitter='best'), DecisionTreeRegressor(criterion='mse', max_depth=None, max_features='auto',\n",
            "                      max_leaf_nodes=None, min_impurity_decrease=0.0,\n",
            "                      min_impurity_split=None, min_samples_leaf=1,\n",
            "                      min_samples_split=2, min_weight_fraction_leaf=0.0,\n",
            "                      presort=False, random_state=1853453896, splitter='best'), DecisionTreeRegressor(criterion='mse', max_depth=None, max_features='auto',\n",
            "                      max_leaf_nodes=None, min_impurity_decrease=0.0,\n",
            "                      min_impurity_split=None, min_samples_leaf=1,\n",
            "                      min_samples_split=2, min_weight_fraction_leaf=0.0,\n",
            "                      presort=False, random_state=213298710, splitter='best'), DecisionTreeRegressor(criterion='mse', max_depth=None, max_features='auto',\n",
            "                      max_leaf_nodes=None, min_impurity_decrease=0.0,\n",
            "                      min_impurity_split=None, min_samples_leaf=1,\n",
            "                      min_samples_split=2, min_weight_fraction_leaf=0.0,\n",
            "                      presort=False, random_state=1922988331, splitter='best'), DecisionTreeRegressor(criterion='mse', max_depth=None, max_features='auto',\n",
            "                      max_leaf_nodes=None, min_impurity_decrease=0.0,\n",
            "                      min_impurity_split=None, min_samples_leaf=1,\n",
            "                      min_samples_split=2, min_weight_fraction_leaf=0.0,\n",
            "                      presort=False, random_state=1869695442, splitter='best'), DecisionTreeRegressor(criterion='mse', max_depth=None, max_features='auto',\n",
            "                      max_leaf_nodes=None, min_impurity_decrease=0.0,\n",
            "                      min_impurity_split=None, min_samples_leaf=1,\n",
            "                      min_samples_split=2, min_weight_fraction_leaf=0.0,\n",
            "                      presort=False, random_state=2081981515, splitter='best'), DecisionTreeRegressor(criterion='mse', max_depth=None, max_features='auto',\n",
            "                      max_leaf_nodes=None, min_impurity_decrease=0.0,\n",
            "                      min_impurity_split=None, min_samples_leaf=1,\n",
            "                      min_samples_split=2, min_weight_fraction_leaf=0.0,\n",
            "                      presort=False, random_state=1805465960, splitter='best'), DecisionTreeRegressor(criterion='mse', max_depth=None, max_features='auto',\n",
            "                      max_leaf_nodes=None, min_impurity_decrease=0.0,\n",
            "                      min_impurity_split=None, min_samples_leaf=1,\n",
            "                      min_samples_split=2, min_weight_fraction_leaf=0.0,\n",
            "                      presort=False, random_state=1376693511, splitter='best'), DecisionTreeRegressor(criterion='mse', max_depth=None, max_features='auto',\n",
            "                      max_leaf_nodes=None, min_impurity_decrease=0.0,\n",
            "                      min_impurity_split=None, min_samples_leaf=1,\n",
            "                      min_samples_split=2, min_weight_fraction_leaf=0.0,\n",
            "                      presort=False, random_state=1418777250, splitter='best'), DecisionTreeRegressor(criterion='mse', max_depth=None, max_features='auto',\n",
            "                      max_leaf_nodes=None, min_impurity_decrease=0.0,\n",
            "                      min_impurity_split=None, min_samples_leaf=1,\n",
            "                      min_samples_split=2, min_weight_fraction_leaf=0.0,\n",
            "                      presort=False, random_state=663257521, splitter='best'), DecisionTreeRegressor(criterion='mse', max_depth=None, max_features='auto',\n",
            "                      max_leaf_nodes=None, min_impurity_decrease=0.0,\n",
            "                      min_impurity_split=None, min_samples_leaf=1,\n",
            "                      min_samples_split=2, min_weight_fraction_leaf=0.0,\n",
            "                      presort=False, random_state=878959199, splitter='best'), DecisionTreeRegressor(criterion='mse', max_depth=None, max_features='auto',\n",
            "                      max_leaf_nodes=None, min_impurity_decrease=0.0,\n",
            "                      min_impurity_split=None, min_samples_leaf=1,\n",
            "                      min_samples_split=2, min_weight_fraction_leaf=0.0,\n",
            "                      presort=False, random_state=854108747, splitter='best'), DecisionTreeRegressor(criterion='mse', max_depth=None, max_features='auto',\n",
            "                      max_leaf_nodes=None, min_impurity_decrease=0.0,\n",
            "                      min_impurity_split=None, min_samples_leaf=1,\n",
            "                      min_samples_split=2, min_weight_fraction_leaf=0.0,\n",
            "                      presort=False, random_state=512264917, splitter='best'), DecisionTreeRegressor(criterion='mse', max_depth=None, max_features='auto',\n",
            "                      max_leaf_nodes=None, min_impurity_decrease=0.0,\n",
            "                      min_impurity_split=None, min_samples_leaf=1,\n",
            "                      min_samples_split=2, min_weight_fraction_leaf=0.0,\n",
            "                      presort=False, random_state=515183663, splitter='best'), DecisionTreeRegressor(criterion='mse', max_depth=None, max_features='auto',\n",
            "                      max_leaf_nodes=None, min_impurity_decrease=0.0,\n",
            "                      min_impurity_split=None, min_samples_leaf=1,\n",
            "                      min_samples_split=2, min_weight_fraction_leaf=0.0,\n",
            "                      presort=False, random_state=1287007039, splitter='best'), DecisionTreeRegressor(criterion='mse', max_depth=None, max_features='auto',\n",
            "                      max_leaf_nodes=None, min_impurity_decrease=0.0,\n",
            "                      min_impurity_split=None, min_samples_leaf=1,\n",
            "                      min_samples_split=2, min_weight_fraction_leaf=0.0,\n",
            "                      presort=False, random_state=2083814687, splitter='best'), DecisionTreeRegressor(criterion='mse', max_depth=None, max_features='auto',\n",
            "                      max_leaf_nodes=None, min_impurity_decrease=0.0,\n",
            "                      min_impurity_split=None, min_samples_leaf=1,\n",
            "                      min_samples_split=2, min_weight_fraction_leaf=0.0,\n",
            "                      presort=False, random_state=1146014426, splitter='best'), DecisionTreeRegressor(criterion='mse', max_depth=None, max_features='auto',\n",
            "                      max_leaf_nodes=None, min_impurity_decrease=0.0,\n",
            "                      min_impurity_split=None, min_samples_leaf=1,\n",
            "                      min_samples_split=2, min_weight_fraction_leaf=0.0,\n",
            "                      presort=False, random_state=570104212, splitter='best')]\n"
          ],
          "name": "stdout"
        }
      ]
    },
    {
      "cell_type": "code",
      "metadata": {
        "id": "XAIMz_NC4Kru",
        "colab_type": "code",
        "colab": {
          "base_uri": "https://localhost:8080/",
          "height": 35
        },
        "outputId": "d5c779c9-de32-4c37-8936-0a72b5fd416a"
      },
      "source": [
        "forest20.feature_importances_"
      ],
      "execution_count": 62,
      "outputs": [
        {
          "output_type": "execute_result",
          "data": {
            "text/plain": [
              "array([0.03884123, 0.06916522, 0.67967055, 0.21232299])"
            ]
          },
          "metadata": {
            "tags": []
          },
          "execution_count": 62
        }
      ]
    },
    {
      "cell_type": "code",
      "metadata": {
        "id": "a-s5sNEY4Oo7",
        "colab_type": "code",
        "colab": {
          "base_uri": "https://localhost:8080/",
          "height": 283
        },
        "outputId": "bcbc5ecd-354a-48c6-964e-60e917c4002d"
      },
      "source": [
        "# 변수의 중요도 그래프 찍기\n",
        "\n",
        "def plot_feature_importances_cancer(model, dataset):\n",
        " n_features = dataset.shape[1]\n",
        " plt.barh(range(n_features), model.feature_importances_, align='center')\n",
        " plt.yticks(np.arange(n_features), dataset.columns)\n",
        " plt.xlabel(\"특성 중요도\")\n",
        " plt.ylabel(\"특성\")\n",
        " plt.ylim(-1, n_features)\n",
        "\n",
        "  \n",
        "plot_feature_importances_cancer(forest20,X)"
      ],
      "execution_count": 66,
      "outputs": [
        {
          "output_type": "display_data",
          "data": {
            "image/png": "[encoded data removed]",
            "text/plain": [
              "<Figure size 432x288 with 1 Axes>"
            ]
          },
          "metadata": {
            "tags": []
          }
        }
      ]
    },
    {
      "cell_type": "code",
      "metadata": {
        "id": "pU6UYNgL4VH0",
        "colab_type": "code",
        "colab": {
          "base_uri": "https://localhost:8080/",
          "height": 35
        },
        "outputId": "8afc25e3-f2b0-422c-d10a-7d06298d8abf"
      },
      "source": [
        "pred = forest.predict(X_test)\n",
        "pred"
      ],
      "execution_count": 52,
      "outputs": [
        {
          "output_type": "execute_result",
          "data": {
            "text/plain": [
              "array([325440. , 358224.5, 413615. , ..., 234197.5, 447750. , 444517.5])"
            ]
          },
          "metadata": {
            "tags": []
          },
          "execution_count": 52
        }
      ]
    },
    {
      "cell_type": "code",
      "metadata": {
        "id": "JkKEX2v68Uxu",
        "colab_type": "code",
        "colab": {
          "base_uri": "https://localhost:8080/",
          "height": 53
        },
        "outputId": "7e94efba-307b-4b15-d1c0-46ffced2e36a"
      },
      "source": [
        "pred = forest.predict(X_train); pred"
      ],
      "execution_count": 53,
      "outputs": [
        {
          "output_type": "execute_result",
          "data": {
            "text/plain": [
              "array([ 444325. ,  334000. ,  326450. , ..., 1154070. ,  345540. ,\n",
              "        490597.5])"
            ]
          },
          "metadata": {
            "tags": []
          },
          "execution_count": 53
        }
      ]
    },
    {
      "cell_type": "code",
      "metadata": {
        "id": "xbX2OOJz-GWj",
        "colab_type": "code",
        "colab": {
          "base_uri": "https://localhost:8080/",
          "height": 53
        },
        "outputId": "a3e6cd2a-0867-4e4e-ef97-9ff62985f706"
      },
      "source": [
        "result = forest.predict(test[sel]); result"
      ],
      "execution_count": 54,
      "outputs": [
        {
          "output_type": "execute_result",
          "data": {
            "text/plain": [
              "array([ 562125. ,  472575. , 1386750. , ...,  480170. ,  372925. ,\n",
              "        360347.5])"
            ]
          },
          "metadata": {
            "tags": []
          },
          "execution_count": 54
        }
      ]
    },
    {
      "cell_type": "code",
      "metadata": {
        "id": "qGDOfEL_-X0a",
        "colab_type": "code",
        "colab": {}
      },
      "source": [
        "\n",
        "# 제출\n",
        "import pandas\n",
        "result_ = pd.DataFrame({'id': test['id'],'price': result})\n",
        "result_.to_csv('result.csv', index = False)"
      ],
      "execution_count": 0,
      "outputs": []
    },
    {
      "cell_type": "code",
      "metadata": {
        "id": "uy_j8o10-vNS",
        "colab_type": "code",
        "colab": {
          "base_uri": "https://localhost:8080/",
          "height": 737
        },
        "outputId": "3299d8de-f171-4093-836c-f28bbe8f70e6"
      },
      "source": [
        "# 모델에 대한 평가\n",
        "cnt = 1\n",
        "for model in forest20.estimators_:\n",
        "    model.fit(X_train, y_train)\n",
        "    print(\"훈련 세트 정확도 : {:.3f}\".format(model.score(X_train, y_train)))\n",
        "    print(\"테스트 세트 정확도 : {:.3f}\".format(model.score(X_test, y_test)))"
      ],
      "execution_count": 69,
      "outputs": [
        {
          "output_type": "stream",
          "text": [
            "훈련 세트 정확도 : 0.999\n",
            "테스트 세트 정확도 : 0.090\n",
            "훈련 세트 정확도 : 0.999\n",
            "테스트 세트 정확도 : 0.082\n",
            "훈련 세트 정확도 : 0.999\n",
            "테스트 세트 정확도 : 0.116\n",
            "훈련 세트 정확도 : 0.999\n",
            "테스트 세트 정확도 : 0.086\n",
            "훈련 세트 정확도 : 0.999\n",
            "테스트 세트 정확도 : 0.081\n",
            "훈련 세트 정확도 : 0.999\n",
            "테스트 세트 정확도 : 0.081\n",
            "훈련 세트 정확도 : 0.999\n",
            "테스트 세트 정확도 : 0.071\n",
            "훈련 세트 정확도 : 0.999\n",
            "테스트 세트 정확도 : 0.070\n",
            "훈련 세트 정확도 : 0.999\n",
            "테스트 세트 정확도 : 0.081\n",
            "훈련 세트 정확도 : 0.999\n",
            "테스트 세트 정확도 : 0.066\n",
            "훈련 세트 정확도 : 0.999\n",
            "테스트 세트 정확도 : 0.088\n",
            "훈련 세트 정확도 : 0.999\n",
            "테스트 세트 정확도 : 0.087\n",
            "훈련 세트 정확도 : 0.999\n",
            "테스트 세트 정확도 : 0.079\n",
            "훈련 세트 정확도 : 0.999\n",
            "테스트 세트 정확도 : 0.062\n",
            "훈련 세트 정확도 : 0.999\n",
            "테스트 세트 정확도 : 0.088\n",
            "훈련 세트 정확도 : 0.999\n",
            "테스트 세트 정확도 : 0.084\n",
            "훈련 세트 정확도 : 0.999\n",
            "테스트 세트 정확도 : 0.065\n",
            "훈련 세트 정확도 : 0.999\n",
            "테스트 세트 정확도 : 0.099\n",
            "훈련 세트 정확도 : 0.999\n",
            "테스트 세트 정확도 : 0.074\n",
            "훈련 세트 정확도 : 0.999\n",
            "테스트 세트 정확도 : 0.090\n"
          ],
          "name": "stdout"
        }
      ]
    },
    {
      "cell_type": "markdown",
      "metadata": {
        "id": "MUElPvKqAdni",
        "colab_type": "text"
      },
      "source": [
        "# Conclusion\n",
        "(가) 회귀와 분류에 있어, 랜덤 포레스트는 현재 가장 널리 사용되는 머신러닝 알고리즘이다.\n",
        "\n",
        "(나) 랜덤 포레스트는 성능이 매우 뛰어나고 매개변수 튜닝을 많이 하지 않아도 잘 작동한다.\n",
        "\n",
        "(다) 만약 의사결정을 간소하게 해야 한다면 단일 트리를 사용할 수 있다.\n",
        "\n",
        "(라) 랜덤 포레스트는 n_jobs를 이용하여 여러개의 코어를 이용하여 병렬 처리를 통해 속도 향상\n",
        "을 시킬 수 있다.\n",
        "\n",
        "(마) 랜덤 포레스트는 트리가 많을 수록 random_state 값의 변화에 따른 변동이 적다.\n",
        "\n",
        "(바) n_estimators는 클수록 좋다. ( 더 많은 트리는 과대 적합을 줄여준다.) 다만, 시간과 메모\n",
        "리의 문제가 발생\n",
        "\n",
        "(사) max_features는 일반적으로 기본값을 쓰는 것이 좋다.\n",
        "\n",
        "* 분류는 max_features=sqrt(n_features), 회귀는 max_features=n_features"
      ]
    },
    {
      "cell_type": "code",
      "metadata": {
        "id": "WR_UqB-2AJp7",
        "colab_type": "code",
        "colab": {}
      },
      "source": [
        ""
      ],
      "execution_count": 0,
      "outputs": []
    },
    {
      "cell_type": "code",
      "metadata": {
        "id": "2PBBDPd8Wtg5",
        "colab_type": "code",
        "colab": {}
      },
      "source": [
        ""
      ],
      "execution_count": 0,
      "outputs": []
    }
  ]
}