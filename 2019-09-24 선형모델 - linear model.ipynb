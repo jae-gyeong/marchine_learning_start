{
 "cells": [
  {
   "cell_type": "markdown",
   "metadata": {},
   "source": [
    "    선형회귀(linear regression)는 100여 년 전에 개발되었다.\n",
    "    선형 모델은 입력 특성에 대한 선형 함수를 만들어 예측을 수행\n",
    "    특성이 하나일 때는 직선, 두개일 때는 평면, 더 높은 차원 초평면(hyperplane)\n",
    "    KnnRegressor과 비교해 보면 직선이 사용한 예측이 더 제약이 있음.\n",
    "    특성이 많은 데이터 셋이라면 선형 모델은 휼륭한 성능을 갖는다."
   ]
  },
  {
   "cell_type": "code",
   "execution_count": 5,
   "metadata": {},
   "outputs": [],
   "source": [
    "import numpy as np\n",
    "import matplotlib.pyplot as plt\n",
    "import mglearn\n",
    "from sklearn.model_selection import train_test_split\n",
    "from sklearn.linear_model import LinearRegression"
   ]
  },
  {
   "cell_type": "markdown",
   "metadata": {},
   "source": [
    "## 01.회귀 선형 모델 그래프로 살펴보기"
   ]
  },
  {
   "cell_type": "code",
   "execution_count": 7,
   "metadata": {},
   "outputs": [
    {
     "name": "stdout",
     "output_type": "stream",
     "text": [
      "w[0]: 0.393906  b: -0.031804\n"
     ]
    },
    {
     "data": {
      "image/png": "[encoded data removed]",
      "text/plain": [
       "<Figure size 576x576 with 1 Axes>"
      ]
     },
     "metadata": {
      "needs_background": "light"
     },
     "output_type": "display_data"
    }
   ],
   "source": [
    "mglearn.plots.plot_linear_regression_wave()"
   ]
  },
  {
   "cell_type": "markdown",
   "metadata": {},
   "source": [
    "## 02.Boston 데이터 셋을 활용한 회귀 모델 만들어보기"
   ]
  },
  {
   "cell_type": "markdown",
   "metadata": {},
   "source": [
    "    (1) 모델 만들기 [ 모델명 = 모델객체() ]\n",
    "    (2) 모델 학습 시키기 [ 모델명.fit() ]\n",
    "    (3) 모델을 활용한 예측하기 [ 모델명.predict() ]\n",
    "    (4) 모델 평가"
   ]
  },
  {
   "cell_type": "code",
   "execution_count": 8,
   "metadata": {},
   "outputs": [],
   "source": [
    "from sklearn.linear_model import LinearRegression\n",
    "from sklearn.datasets import load_boston"
   ]
  },
  {
   "cell_type": "code",
   "execution_count": 13,
   "metadata": {},
   "outputs": [],
   "source": [
    "boston = load_boston()\n",
    "X = boston.data\n",
    "y = boston.target"
   ]
  },
  {
   "cell_type": "markdown",
   "metadata": {},
   "source": [
    "## 데이터 준비하기"
   ]
  },
  {
   "cell_type": "code",
   "execution_count": 44,
   "metadata": {},
   "outputs": [],
   "source": [
    "X_train, X_test, y_train, y_test = train_test_split(X, y,test_size=0.30,\n",
    "random_state=30)"
   ]
  },
  {
   "cell_type": "code",
   "execution_count": 45,
   "metadata": {},
   "outputs": [
    {
     "data": {
      "text/plain": [
       "array([17.39147327, 12.41363413, 19.85934436, 31.50042761, 15.75702458,\n",
       "       17.73775642, 20.17320567, 41.71916027, 15.46522809, 24.26095398,\n",
       "       20.01457803, 33.07568558, 21.68100058, 29.718935  , 12.93159771,\n",
       "       24.28727871, 14.44400397, 28.05153449, 15.20149991, 27.09665867,\n",
       "       20.82169746, 17.95261421, 31.0691493 , 13.16333568, 15.63311811,\n",
       "       16.63054263, 18.16733424,  0.29215425, 13.95084182, 13.58747266,\n",
       "       17.14003356, 22.94799107, 32.95880782, 29.04028663, 19.29448342,\n",
       "       22.5893101 , 11.49999544, 22.28666304, 20.01865476, 19.00002805,\n",
       "       17.49110066, 20.11111319, 41.16072928, 24.13584018, 26.37625232,\n",
       "       21.02007219, 22.5888486 , 17.79446088, 18.37245128, 14.65491197,\n",
       "       15.4173279 , 18.13399454, 18.92506322, 25.21839007, 30.9718008 ,\n",
       "       23.22956707, 36.599214  , 25.00731145, 14.99849288, 36.08166587,\n",
       "       23.31314286, 20.15243908, 31.22702779, 20.38266922, 18.10085483,\n",
       "       11.2312021 , 17.34187307, 24.47962875, 35.59846762, 32.67935468,\n",
       "       17.86898939, 25.5046685 , 20.51555132, 26.98311667, 27.88271938,\n",
       "       22.78421011,  5.84424035, 22.71255215, 24.11622115, 34.17169588,\n",
       "       18.1280507 , 23.67245158, 28.54708108, 23.57690223, 25.52556855,\n",
       "       36.61062614, 36.92774441, 25.47916567, 24.8704319 , 19.38494575,\n",
       "       21.98634027, 25.42584043, 18.01764701, 28.41937127,  8.14426075,\n",
       "       15.86802882,  3.24818454, 28.94736202, 19.19299213, 28.55073559,\n",
       "       24.34977352, 18.40088552, 22.24964943, 15.63573146, 15.24793229,\n",
       "       23.19187943, 32.35003171, 14.88729938, 25.86347455, 32.09899771,\n",
       "       24.14420548, 28.03952533, 20.00697075, 25.37787982, 14.50416259,\n",
       "       23.70152418, 20.11815287, 34.38786732, 18.01264015, 17.38541321,\n",
       "       18.41313257, 25.28957761, 23.00022552, 10.91487031, 12.98999912,\n",
       "       16.23482939, 31.66114405, 15.08836137, 18.8964732 , 19.79428534,\n",
       "       40.60710356, 20.83819196, 10.13175916, 28.60152448,  9.54456115,\n",
       "       13.76653839, 19.1119802 ,  1.87327066, 22.42919609, 16.12306244,\n",
       "       17.23658766, 20.73562476, 20.22317275, 32.0409921 ,  9.38765879,\n",
       "        9.67025474, 28.4476369 , 32.51587021, 35.3289166 , 28.52093933,\n",
       "       33.38492957, 20.99473433])"
      ]
     },
     "execution_count": 45,
     "metadata": {},
     "output_type": "execute_result"
    }
   ],
   "source": [
    "model = LinearRegression().fit(X_train, y_train)   # 학습\n",
    "pred = model.predict(X_test)\n",
    "pred"
   ]
  },
  {
   "cell_type": "code",
   "execution_count": 18,
   "metadata": {},
   "outputs": [],
   "source": [
    "import pandas as pd"
   ]
  },
  {
   "cell_type": "code",
   "execution_count": 46,
   "metadata": {},
   "outputs": [
    {
     "data": {
      "text/html": [
       "<div>\n",
       "<style scoped>\n",
       "    .dataframe tbody tr th:only-of-type {\n",
       "        vertical-align: middle;\n",
       "    }\n",
       "\n",
       "    .dataframe tbody tr th {\n",
       "        vertical-align: top;\n",
       "    }\n",
       "\n",
       "    .dataframe thead th {\n",
       "        text-align: right;\n",
       "    }\n",
       "</style>\n",
       "<table border=\"1\" class=\"dataframe\">\n",
       "  <thead>\n",
       "    <tr style=\"text-align: right;\">\n",
       "      <th></th>\n",
       "      <th>y_test</th>\n",
       "      <th>prediction</th>\n",
       "      <th>diff</th>\n",
       "    </tr>\n",
       "  </thead>\n",
       "  <tbody>\n",
       "    <tr>\n",
       "      <th>0</th>\n",
       "      <td>19.6</td>\n",
       "      <td>17.391473</td>\n",
       "      <td>2.208527</td>\n",
       "    </tr>\n",
       "    <tr>\n",
       "      <th>1</th>\n",
       "      <td>10.5</td>\n",
       "      <td>12.413634</td>\n",
       "      <td>-1.913634</td>\n",
       "    </tr>\n",
       "    <tr>\n",
       "      <th>2</th>\n",
       "      <td>19.3</td>\n",
       "      <td>19.859344</td>\n",
       "      <td>-0.559344</td>\n",
       "    </tr>\n",
       "    <tr>\n",
       "      <th>3</th>\n",
       "      <td>29.9</td>\n",
       "      <td>31.500428</td>\n",
       "      <td>-1.600428</td>\n",
       "    </tr>\n",
       "    <tr>\n",
       "      <th>4</th>\n",
       "      <td>15.2</td>\n",
       "      <td>15.757025</td>\n",
       "      <td>-0.557025</td>\n",
       "    </tr>\n",
       "    <tr>\n",
       "      <th>5</th>\n",
       "      <td>14.5</td>\n",
       "      <td>17.737756</td>\n",
       "      <td>-3.237756</td>\n",
       "    </tr>\n",
       "    <tr>\n",
       "      <th>6</th>\n",
       "      <td>20.1</td>\n",
       "      <td>20.173206</td>\n",
       "      <td>-0.073206</td>\n",
       "    </tr>\n",
       "    <tr>\n",
       "      <th>7</th>\n",
       "      <td>46.0</td>\n",
       "      <td>41.719160</td>\n",
       "      <td>4.280840</td>\n",
       "    </tr>\n",
       "    <tr>\n",
       "      <th>8</th>\n",
       "      <td>11.7</td>\n",
       "      <td>15.465228</td>\n",
       "      <td>-3.765228</td>\n",
       "    </tr>\n",
       "    <tr>\n",
       "      <th>9</th>\n",
       "      <td>27.5</td>\n",
       "      <td>24.260954</td>\n",
       "      <td>3.239046</td>\n",
       "    </tr>\n",
       "    <tr>\n",
       "      <th>10</th>\n",
       "      <td>24.1</td>\n",
       "      <td>20.014578</td>\n",
       "      <td>4.085422</td>\n",
       "    </tr>\n",
       "    <tr>\n",
       "      <th>11</th>\n",
       "      <td>28.2</td>\n",
       "      <td>33.075686</td>\n",
       "      <td>-4.875686</td>\n",
       "    </tr>\n",
       "    <tr>\n",
       "      <th>12</th>\n",
       "      <td>15.6</td>\n",
       "      <td>21.681001</td>\n",
       "      <td>-6.081001</td>\n",
       "    </tr>\n",
       "    <tr>\n",
       "      <th>13</th>\n",
       "      <td>24.0</td>\n",
       "      <td>29.718935</td>\n",
       "      <td>-5.718935</td>\n",
       "    </tr>\n",
       "    <tr>\n",
       "      <th>14</th>\n",
       "      <td>13.3</td>\n",
       "      <td>12.931598</td>\n",
       "      <td>0.368402</td>\n",
       "    </tr>\n",
       "    <tr>\n",
       "      <th>15</th>\n",
       "      <td>26.2</td>\n",
       "      <td>24.287279</td>\n",
       "      <td>1.912721</td>\n",
       "    </tr>\n",
       "    <tr>\n",
       "      <th>16</th>\n",
       "      <td>13.4</td>\n",
       "      <td>14.444004</td>\n",
       "      <td>-1.044004</td>\n",
       "    </tr>\n",
       "    <tr>\n",
       "      <th>17</th>\n",
       "      <td>36.2</td>\n",
       "      <td>28.051534</td>\n",
       "      <td>8.148466</td>\n",
       "    </tr>\n",
       "    <tr>\n",
       "      <th>18</th>\n",
       "      <td>16.6</td>\n",
       "      <td>15.201500</td>\n",
       "      <td>1.398500</td>\n",
       "    </tr>\n",
       "    <tr>\n",
       "      <th>19</th>\n",
       "      <td>22.6</td>\n",
       "      <td>27.096659</td>\n",
       "      <td>-4.496659</td>\n",
       "    </tr>\n",
       "    <tr>\n",
       "      <th>20</th>\n",
       "      <td>22.0</td>\n",
       "      <td>20.821697</td>\n",
       "      <td>1.178303</td>\n",
       "    </tr>\n",
       "    <tr>\n",
       "      <th>21</th>\n",
       "      <td>17.2</td>\n",
       "      <td>17.952614</td>\n",
       "      <td>-0.752614</td>\n",
       "    </tr>\n",
       "    <tr>\n",
       "      <th>22</th>\n",
       "      <td>25.1</td>\n",
       "      <td>31.069149</td>\n",
       "      <td>-5.969149</td>\n",
       "    </tr>\n",
       "    <tr>\n",
       "      <th>23</th>\n",
       "      <td>18.5</td>\n",
       "      <td>13.163336</td>\n",
       "      <td>5.336664</td>\n",
       "    </tr>\n",
       "    <tr>\n",
       "      <th>24</th>\n",
       "      <td>13.1</td>\n",
       "      <td>15.633118</td>\n",
       "      <td>-2.533118</td>\n",
       "    </tr>\n",
       "    <tr>\n",
       "      <th>25</th>\n",
       "      <td>19.1</td>\n",
       "      <td>16.630543</td>\n",
       "      <td>2.469457</td>\n",
       "    </tr>\n",
       "    <tr>\n",
       "      <th>26</th>\n",
       "      <td>19.8</td>\n",
       "      <td>18.167334</td>\n",
       "      <td>1.632666</td>\n",
       "    </tr>\n",
       "    <tr>\n",
       "      <th>27</th>\n",
       "      <td>13.8</td>\n",
       "      <td>0.292154</td>\n",
       "      <td>13.507846</td>\n",
       "    </tr>\n",
       "    <tr>\n",
       "      <th>28</th>\n",
       "      <td>13.5</td>\n",
       "      <td>13.950842</td>\n",
       "      <td>-0.450842</td>\n",
       "    </tr>\n",
       "    <tr>\n",
       "      <th>29</th>\n",
       "      <td>17.2</td>\n",
       "      <td>13.587473</td>\n",
       "      <td>3.612527</td>\n",
       "    </tr>\n",
       "    <tr>\n",
       "      <th>...</th>\n",
       "      <td>...</td>\n",
       "      <td>...</td>\n",
       "      <td>...</td>\n",
       "    </tr>\n",
       "    <tr>\n",
       "      <th>122</th>\n",
       "      <td>17.0</td>\n",
       "      <td>23.000226</td>\n",
       "      <td>-6.000226</td>\n",
       "    </tr>\n",
       "    <tr>\n",
       "      <th>123</th>\n",
       "      <td>7.2</td>\n",
       "      <td>10.914870</td>\n",
       "      <td>-3.714870</td>\n",
       "    </tr>\n",
       "    <tr>\n",
       "      <th>124</th>\n",
       "      <td>14.3</td>\n",
       "      <td>12.989999</td>\n",
       "      <td>1.310001</td>\n",
       "    </tr>\n",
       "    <tr>\n",
       "      <th>125</th>\n",
       "      <td>17.5</td>\n",
       "      <td>16.234829</td>\n",
       "      <td>1.265171</td>\n",
       "    </tr>\n",
       "    <tr>\n",
       "      <th>126</th>\n",
       "      <td>31.5</td>\n",
       "      <td>31.661144</td>\n",
       "      <td>-0.161144</td>\n",
       "    </tr>\n",
       "    <tr>\n",
       "      <th>127</th>\n",
       "      <td>13.4</td>\n",
       "      <td>15.088361</td>\n",
       "      <td>-1.688361</td>\n",
       "    </tr>\n",
       "    <tr>\n",
       "      <th>128</th>\n",
       "      <td>15.0</td>\n",
       "      <td>18.896473</td>\n",
       "      <td>-3.896473</td>\n",
       "    </tr>\n",
       "    <tr>\n",
       "      <th>129</th>\n",
       "      <td>13.8</td>\n",
       "      <td>19.794285</td>\n",
       "      <td>-5.994285</td>\n",
       "    </tr>\n",
       "    <tr>\n",
       "      <th>130</th>\n",
       "      <td>50.0</td>\n",
       "      <td>40.607104</td>\n",
       "      <td>9.392896</td>\n",
       "    </tr>\n",
       "    <tr>\n",
       "      <th>131</th>\n",
       "      <td>16.8</td>\n",
       "      <td>20.838192</td>\n",
       "      <td>-4.038192</td>\n",
       "    </tr>\n",
       "    <tr>\n",
       "      <th>132</th>\n",
       "      <td>8.7</td>\n",
       "      <td>10.131759</td>\n",
       "      <td>-1.431759</td>\n",
       "    </tr>\n",
       "    <tr>\n",
       "      <th>133</th>\n",
       "      <td>23.7</td>\n",
       "      <td>28.601524</td>\n",
       "      <td>-4.901524</td>\n",
       "    </tr>\n",
       "    <tr>\n",
       "      <th>134</th>\n",
       "      <td>15.2</td>\n",
       "      <td>9.544561</td>\n",
       "      <td>5.655439</td>\n",
       "    </tr>\n",
       "    <tr>\n",
       "      <th>135</th>\n",
       "      <td>19.7</td>\n",
       "      <td>13.766538</td>\n",
       "      <td>5.933462</td>\n",
       "    </tr>\n",
       "    <tr>\n",
       "      <th>136</th>\n",
       "      <td>20.3</td>\n",
       "      <td>19.111980</td>\n",
       "      <td>1.188020</td>\n",
       "    </tr>\n",
       "    <tr>\n",
       "      <th>137</th>\n",
       "      <td>8.1</td>\n",
       "      <td>1.873271</td>\n",
       "      <td>6.226729</td>\n",
       "    </tr>\n",
       "    <tr>\n",
       "      <th>138</th>\n",
       "      <td>50.0</td>\n",
       "      <td>22.429196</td>\n",
       "      <td>27.570804</td>\n",
       "    </tr>\n",
       "    <tr>\n",
       "      <th>139</th>\n",
       "      <td>13.3</td>\n",
       "      <td>16.123062</td>\n",
       "      <td>-2.823062</td>\n",
       "    </tr>\n",
       "    <tr>\n",
       "      <th>140</th>\n",
       "      <td>10.2</td>\n",
       "      <td>17.236588</td>\n",
       "      <td>-7.036588</td>\n",
       "    </tr>\n",
       "    <tr>\n",
       "      <th>141</th>\n",
       "      <td>21.2</td>\n",
       "      <td>20.735625</td>\n",
       "      <td>0.464375</td>\n",
       "    </tr>\n",
       "    <tr>\n",
       "      <th>142</th>\n",
       "      <td>16.7</td>\n",
       "      <td>20.223173</td>\n",
       "      <td>-3.523173</td>\n",
       "    </tr>\n",
       "    <tr>\n",
       "      <th>143</th>\n",
       "      <td>29.8</td>\n",
       "      <td>32.040992</td>\n",
       "      <td>-2.240992</td>\n",
       "    </tr>\n",
       "    <tr>\n",
       "      <th>144</th>\n",
       "      <td>9.7</td>\n",
       "      <td>9.387659</td>\n",
       "      <td>0.312341</td>\n",
       "    </tr>\n",
       "    <tr>\n",
       "      <th>145</th>\n",
       "      <td>13.2</td>\n",
       "      <td>9.670255</td>\n",
       "      <td>3.529745</td>\n",
       "    </tr>\n",
       "    <tr>\n",
       "      <th>146</th>\n",
       "      <td>23.3</td>\n",
       "      <td>28.447637</td>\n",
       "      <td>-5.147637</td>\n",
       "    </tr>\n",
       "    <tr>\n",
       "      <th>147</th>\n",
       "      <td>30.3</td>\n",
       "      <td>32.515870</td>\n",
       "      <td>-2.215870</td>\n",
       "    </tr>\n",
       "    <tr>\n",
       "      <th>148</th>\n",
       "      <td>39.8</td>\n",
       "      <td>35.328917</td>\n",
       "      <td>4.471083</td>\n",
       "    </tr>\n",
       "    <tr>\n",
       "      <th>149</th>\n",
       "      <td>24.4</td>\n",
       "      <td>28.520939</td>\n",
       "      <td>-4.120939</td>\n",
       "    </tr>\n",
       "    <tr>\n",
       "      <th>150</th>\n",
       "      <td>28.5</td>\n",
       "      <td>33.384930</td>\n",
       "      <td>-4.884930</td>\n",
       "    </tr>\n",
       "    <tr>\n",
       "      <th>151</th>\n",
       "      <td>21.7</td>\n",
       "      <td>20.994734</td>\n",
       "      <td>0.705266</td>\n",
       "    </tr>\n",
       "  </tbody>\n",
       "</table>\n",
       "<p>152 rows × 3 columns</p>\n",
       "</div>"
      ],
      "text/plain": [
       "     y_test  prediction       diff\n",
       "0      19.6   17.391473   2.208527\n",
       "1      10.5   12.413634  -1.913634\n",
       "2      19.3   19.859344  -0.559344\n",
       "3      29.9   31.500428  -1.600428\n",
       "4      15.2   15.757025  -0.557025\n",
       "5      14.5   17.737756  -3.237756\n",
       "6      20.1   20.173206  -0.073206\n",
       "7      46.0   41.719160   4.280840\n",
       "8      11.7   15.465228  -3.765228\n",
       "9      27.5   24.260954   3.239046\n",
       "10     24.1   20.014578   4.085422\n",
       "11     28.2   33.075686  -4.875686\n",
       "12     15.6   21.681001  -6.081001\n",
       "13     24.0   29.718935  -5.718935\n",
       "14     13.3   12.931598   0.368402\n",
       "15     26.2   24.287279   1.912721\n",
       "16     13.4   14.444004  -1.044004\n",
       "17     36.2   28.051534   8.148466\n",
       "18     16.6   15.201500   1.398500\n",
       "19     22.6   27.096659  -4.496659\n",
       "20     22.0   20.821697   1.178303\n",
       "21     17.2   17.952614  -0.752614\n",
       "22     25.1   31.069149  -5.969149\n",
       "23     18.5   13.163336   5.336664\n",
       "24     13.1   15.633118  -2.533118\n",
       "25     19.1   16.630543   2.469457\n",
       "26     19.8   18.167334   1.632666\n",
       "27     13.8    0.292154  13.507846\n",
       "28     13.5   13.950842  -0.450842\n",
       "29     17.2   13.587473   3.612527\n",
       "..      ...         ...        ...\n",
       "122    17.0   23.000226  -6.000226\n",
       "123     7.2   10.914870  -3.714870\n",
       "124    14.3   12.989999   1.310001\n",
       "125    17.5   16.234829   1.265171\n",
       "126    31.5   31.661144  -0.161144\n",
       "127    13.4   15.088361  -1.688361\n",
       "128    15.0   18.896473  -3.896473\n",
       "129    13.8   19.794285  -5.994285\n",
       "130    50.0   40.607104   9.392896\n",
       "131    16.8   20.838192  -4.038192\n",
       "132     8.7   10.131759  -1.431759\n",
       "133    23.7   28.601524  -4.901524\n",
       "134    15.2    9.544561   5.655439\n",
       "135    19.7   13.766538   5.933462\n",
       "136    20.3   19.111980   1.188020\n",
       "137     8.1    1.873271   6.226729\n",
       "138    50.0   22.429196  27.570804\n",
       "139    13.3   16.123062  -2.823062\n",
       "140    10.2   17.236588  -7.036588\n",
       "141    21.2   20.735625   0.464375\n",
       "142    16.7   20.223173  -3.523173\n",
       "143    29.8   32.040992  -2.240992\n",
       "144     9.7    9.387659   0.312341\n",
       "145    13.2    9.670255   3.529745\n",
       "146    23.3   28.447637  -5.147637\n",
       "147    30.3   32.515870  -2.215870\n",
       "148    39.8   35.328917   4.471083\n",
       "149    24.4   28.520939  -4.120939\n",
       "150    28.5   33.384930  -4.884930\n",
       "151    21.7   20.994734   0.705266\n",
       "\n",
       "[152 rows x 3 columns]"
      ]
     },
     "execution_count": 46,
     "metadata": {},
     "output_type": "execute_result"
    }
   ],
   "source": [
    "dat = pd.DataFrame( {\"y_test\":y_test, \"prediction\":pred , \"diff\":y_test - pred} )\n",
    "dat"
   ]
  },
  {
   "cell_type": "markdown",
   "metadata": {},
   "source": [
    "### MAE\n",
    "    절대값을 취하기 때문에 가장 직관적으로 알 수 있는 지표입니다.\n",
    "    MSE 보다 특이치에 robust합니다.\n",
    "    절대값을 취하기 때문에 모델이 underperformance 인지 overperformance 인지 알 수 없습니다.\n",
    "    underperformance: 모델이 실제보다 낮은 값으로 예측\n",
    "    overperformance: 모델이 실제보다 높은 값으로 예측"
   ]
  },
  {
   "cell_type": "code",
   "execution_count": 47,
   "metadata": {},
   "outputs": [
    {
     "data": {
      "text/plain": [
       "3.382328457043966"
      ]
     },
     "execution_count": 47,
     "metadata": {},
     "output_type": "execute_result"
    }
   ],
   "source": [
    "sum(abs(dat['diff']))/ len(dat['diff'])"
   ]
  },
  {
   "cell_type": "code",
   "execution_count": 48,
   "metadata": {},
   "outputs": [
    {
     "data": {
      "text/plain": [
       "0        4.877590\n",
       "1        3.661996\n",
       "2        0.312866\n",
       "3        2.561369\n",
       "4        0.310276\n",
       "5       10.483067\n",
       "6        0.005359\n",
       "7       18.325589\n",
       "8       14.176943\n",
       "9       10.491419\n",
       "10      16.690673\n",
       "11      23.772310\n",
       "12      36.978568\n",
       "13      32.706218\n",
       "14       0.135720\n",
       "15       3.658503\n",
       "16       1.089944\n",
       "17      66.397490\n",
       "18       1.955802\n",
       "19      20.219939\n",
       "20       1.388397\n",
       "21       0.566428\n",
       "22      35.630743\n",
       "23      28.479986\n",
       "24       6.416687\n",
       "25       6.098220\n",
       "26       2.665597\n",
       "27     182.461897\n",
       "28       0.203258\n",
       "29      13.050354\n",
       "          ...    \n",
       "122     36.002706\n",
       "123     13.800261\n",
       "124      1.716102\n",
       "125      1.600657\n",
       "126      0.025967\n",
       "127      2.850564\n",
       "128     15.182503\n",
       "129     35.931457\n",
       "130     88.226504\n",
       "131     16.306994\n",
       "132      2.049934\n",
       "133     24.024942\n",
       "134     31.983989\n",
       "135     35.205967\n",
       "136      1.411391\n",
       "137     38.772158\n",
       "138    760.149228\n",
       "139      7.969682\n",
       "140     49.513566\n",
       "141      0.215644\n",
       "142     12.412746\n",
       "143      5.022046\n",
       "144      0.097557\n",
       "145     12.459102\n",
       "146     26.498166\n",
       "147      4.910081\n",
       "148     19.990587\n",
       "149     16.982141\n",
       "150     23.862537\n",
       "151      0.497400\n",
       "Name: diff, Length: 152, dtype: float64"
      ]
     },
     "execution_count": 48,
     "metadata": {},
     "output_type": "execute_result"
    }
   ],
   "source": [
    "dat['diff'] ** (2)"
   ]
  },
  {
   "cell_type": "markdown",
   "metadata": {},
   "source": [
    "### MSE\n",
    "    (실제값-예측값) ^ 2 의 합를 데이터의 샘플의 개수로 나누어준것\n",
    "    제곱을 하기 때문에 MAE와는 다르게 모델의 예측값과 실제값 차이의 면적의 합입니다. 이런 차이로, 특이값이 존재하면 수치가 많이 늘어납니다."
   ]
  },
  {
   "cell_type": "code",
   "execution_count": 49,
   "metadata": {},
   "outputs": [
    {
     "data": {
      "text/plain": [
       "21.90022422345887"
      ]
     },
     "execution_count": 49,
     "metadata": {},
     "output_type": "execute_result"
    }
   ],
   "source": [
    "mse_value = sum(dat['diff'] ** 2) / len(dat['diff'])\n",
    "mse_value\n"
   ]
  },
  {
   "cell_type": "markdown",
   "metadata": {},
   "source": [
    "### RMSE\n",
    "    (실제값-예측값) ^ 2 의 합을 데이터의 샘플의 개수로 나누어 준 이후에 제곱근 씌우기\n",
    "    RMSE를 사용하면 오류 지표를 실제 값과 유사한 단위로 다시 변환하여 해석을 쉽게 합니다."
   ]
  },
  {
   "cell_type": "code",
   "execution_count": 25,
   "metadata": {},
   "outputs": [
    {
     "name": "stdout",
     "output_type": "stream",
     "text": [
      "4.700924890603784\n"
     ]
    }
   ],
   "source": [
    "# (1) 제곱에 루트를 씌워구하기 (2) 제곱한 값을 길이로 나누기\n",
    "result = np.sqrt(mse_value)\n",
    "print(result)"
   ]
  },
  {
   "cell_type": "code",
   "execution_count": 26,
   "metadata": {},
   "outputs": [],
   "source": [
    "from sklearn.metrics import mean_squared_error"
   ]
  },
  {
   "cell_type": "code",
   "execution_count": 27,
   "metadata": {},
   "outputs": [
    {
     "data": {
      "text/plain": [
       "22.098694827098196"
      ]
     },
     "execution_count": 27,
     "metadata": {},
     "output_type": "execute_result"
    }
   ],
   "source": [
    "mean_squared_error(y_test, pred)"
   ]
  },
  {
   "cell_type": "code",
   "execution_count": 28,
   "metadata": {},
   "outputs": [
    {
     "name": "stdout",
     "output_type": "stream",
     "text": [
      "훈련 데이터 세트 점수 : 0.75\n",
      "테스트 데이터 세트 점수 : 0.68\n"
     ]
    }
   ],
   "source": [
    "# R^2의 값을 구하기- 결정계수 구하기\n",
    "print(\"훈련 데이터 세트 점수 : {:.2f}\".format(model.score(X_train, y_train)))\n",
    "print(\"테스트 데이터 세트 점수 : {:.2f}\".format(model.score(X_test, y_test)))"
   ]
  },
  {
   "cell_type": "code",
   "execution_count": null,
   "metadata": {},
   "outputs": [],
   "source": [
    "2-2 MSE 구해서 좋은거 찾기 "
   ]
  }
 ],
 "metadata": {
  "kernelspec": {
   "display_name": "Python 3",
   "language": "python",
   "name": "python3"
  },
  "language_info": {
   "codemirror_mode": {
    "name": "ipython",
    "version": 3
   },
   "file_extension": ".py",
   "mimetype": "text/x-python",
   "name": "python",
   "nbconvert_exporter": "python",
   "pygments_lexer": "ipython3",
   "version": "3.7.3"
  }
 },
 "nbformat": 4,
 "nbformat_minor": 2
}
